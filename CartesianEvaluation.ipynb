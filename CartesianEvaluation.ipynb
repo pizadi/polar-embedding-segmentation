{
 "cells": [
  {
   "cell_type": "code",
   "execution_count": 1,
   "id": "90b73ae6-1784-4327-9cb2-f999c8998aad",
   "metadata": {},
   "outputs": [],
   "source": [
    "%load_ext autoreload\n",
    "%autoreload 2"
   ]
  },
  {
   "cell_type": "code",
   "execution_count": null,
   "id": "4aa32cd4-d555-491a-8ad4-c5f5e4a9f1b5",
   "metadata": {},
   "outputs": [],
   "source": [
    "# Fetching necessary files\n",
    "\n",
    "!wget https://isic-challenge-data.s3.amazonaws.com/2018/ISIC2018_Task1-2_Training_Input.zip\n",
    "!wget https://isic-challenge-data.s3.amazonaws.com/2018/ISIC2018_Task1_Training_GroundTruth.zip\n",
    "!wget https://isic-challenge-data.s3.amazonaws.com/2018/ISIC2018_Task1-2_Validation_Input.zip\n",
    "!wget https://isic-challenge-data.s3.amazonaws.com/2018/ISIC2018_Task1_Validation_GroundTruth.zip\n",
    "\n",
    "!unzip ./ISIC2018_Task1-2_Training_Input.zip\n",
    "# !rm ./ISIC2018_Task1-2_Training_Input.zip\n",
    "!unzip ./ISIC2018_Task1_Training_GroundTruth.zip\n",
    "# !rm ./ISIC2018_Task1_Training_GroundTruth.zip\n",
    "!unzip ./ISIC2018_Task1-2_Validation_Input.zip\n",
    "# !rm ./ISIC2018_Task1-2_Validation_Input.zip\n",
    "!unzip ./ISIC2018_Task1_Validation_GroundTruth.zip\n",
    "# !rm ./ISIC2018_Task1_Validation_GroundTruth.zip\n",
    "!mkdir ./Preproc"
   ]
  },
  {
   "cell_type": "code",
   "execution_count": 2,
   "id": "092821e2-9c0a-4b45-8474-002eca842b13",
   "metadata": {
    "tags": []
   },
   "outputs": [],
   "source": [
    "import os\n",
    "from tqdm import tqdm\n",
    "import torchinfo\n",
    "import torch\n",
    "from torch import nn\n",
    "from torch.nn import functional as F\n",
    "from torch.utils.data import random_split\n",
    "import torchvision\n",
    "import cv2 as cv\n",
    "import numpy as np\n",
    "import pandas as pd\n",
    "from matplotlib import pyplot as plt\n",
    "from glob import glob\n",
    "from torchvision.io import read_image\n",
    "# import scipy as sc"
   ]
  },
  {
   "cell_type": "code",
   "execution_count": 3,
   "id": "cb067f3a-b8cd-42e2-b3b2-9fdc23e7c973",
   "metadata": {
    "tags": []
   },
   "outputs": [],
   "source": [
    "os.chdir('E:\\\\Segmentation')\n",
    "\n",
    "TRAIN_INPUT_DIR = 'ISIC2018_Task1-2_Training_Input/'\n",
    "TRAIN_GT_DIR = 'ISIC2018_Task1_Training_GroundTruth/'\n",
    "TRAIN_INTERM_DIR = 'ISIC2017-Training-Interm'\n",
    "\n",
    "VAL_INPUT_DIR = 'ISIC2018_Task1-2_Validation_Input/'\n",
    "VAL_GT_DIR = 'ISIC2018_Task1_Validation_GroundTruth/'\n",
    "VAL_INTERM_DIR = 'ISIC2017-Validation-Output'\n",
    "\n",
    "BATCH_SIZE = 4\n",
    "LEARNING_RATE = 1e-4\n",
    "EPOCHS = 100\n",
    "IM_H, IM_W = 256, 256\n",
    "TRAINING_NOISE = 0\n",
    "DROPOUT = .5\n",
    "\n",
    "DEVICE = \"cuda\" if torch.cuda.is_available() else \"cpu\""
   ]
  },
  {
   "cell_type": "code",
   "execution_count": 4,
   "id": "647e5a1f-01bb-4e32-a2ee-4f31c61f14c1",
   "metadata": {},
   "outputs": [
    {
     "name": "stdout",
     "output_type": "stream",
     "text": [
      "cuda\n"
     ]
    }
   ],
   "source": [
    "print(DEVICE)"
   ]
  },
  {
   "cell_type": "code",
   "execution_count": 5,
   "id": "99e2d8e8-7c8d-453c-a172-259adc045462",
   "metadata": {
    "tags": []
   },
   "outputs": [],
   "source": [
    "def centroid(img, lcc=False):\n",
    "  if lcc:\n",
    "    img = img.astype(np.uint8)\n",
    "    nb_components, output, stats, centroids = cv.connectedComponentsWithStats(img, connectivity=4)\n",
    "    sizes = stats[:, -1]\n",
    "    if len(sizes) > 2:\n",
    "      max_label = 1\n",
    "      max_size = sizes[1]\n",
    "\n",
    "      for i in range(2, nb_components):\n",
    "          if sizes[i] > max_size:\n",
    "              max_label = i\n",
    "              max_size = sizes[i]\n",
    "\n",
    "      img2 = np.zeros(output.shape)\n",
    "      img2[output == max_label] = 255\n",
    "      img = img2\n",
    "\n",
    "  if len(img.shape) > 2:\n",
    "    M = cv.moments(img[:,:,1])\n",
    "  else:\n",
    "    M = cv.moments(img)\n",
    "\n",
    "  if M[\"m00\"] == 0:\n",
    "    return (img.shape[0] // 2, img.shape[1] // 2)\n",
    "  \n",
    "  cX = int(M[\"m10\"] / M[\"m00\"])\n",
    "  cY = int(M[\"m01\"] / M[\"m00\"])\n",
    "  return (cX, cY)\n",
    "\n",
    "def to_polar(input_img, center):\n",
    "  input_img = input_img.astype(np.float32)\n",
    "  value = np.sqrt(((input_img.shape[0]/2.0)**2.0)+((input_img.shape[1]/2.0)**2.0))\n",
    "  polar_image = cv.linearPolar(input_img, center, value, cv.WARP_FILL_OUTLIERS)\n",
    "  return polar_image\n",
    "\n",
    "def to_cart(input_img, center):\n",
    "  input_img = input_img.astype(np.float32)\n",
    "  value = np.sqrt(((input_img.shape[1]/2.0)**2.0)+((input_img.shape[0]/2.0)**2.0))\n",
    "  polar_image = cv.linearPolar(input_img, center, value, cv.WARP_FILL_OUTLIERS + cv.WARP_INVERSE_MAP)\n",
    "  polar_image = polar_image.astype(np.uint8)\n",
    "  return polar_image\n",
    "\n",
    "def calc_dice(input_img, target):\n",
    "    tp = np.sum(np.minimum(input_img, target))\n",
    "    fp = np.sum(np.minimum(input_img, 1 - target))\n",
    "    fn = np.sum(np.minimum(1 - input_img, target))\n",
    "    return 2 * tp / (2 * tp + fp + fn)"
   ]
  },
  {
   "cell_type": "code",
   "execution_count": 6,
   "id": "4bedc561-602a-470e-a65a-f2b47cf84c28",
   "metadata": {},
   "outputs": [],
   "source": [
    "class ISICDataset(torch.utils.data.Dataset):\n",
    "    def __init__(self, input_folder, seg_folder, transform=None, target_transform=None):\n",
    "        self.in_files = glob(os.path.join(input_folder, '*.jpg'))\n",
    "        self.gt_files = glob(os.path.join(seg_folder, '*.png'))\n",
    "        df = pd.read_csv('centers_new.csv')\n",
    "        self.centers = dict()\n",
    "        for item in df['file']:\n",
    "            self.centers[item] = df[df['file'] == item].to_numpy()[0,1:3].tolist()\n",
    "        self.tfy = torchvision.transforms.Resize((384, 512), interpolation=torchvision.transforms.InterpolationMode.BICUBIC)\n",
    "        self.tfX = torchvision.transforms.Resize((IM_W, IM_H), interpolation=torchvision.transforms.InterpolationMode.BICUBIC)\n",
    "        print(len(self.in_files), len(self.gt_files))\n",
    "        \n",
    "\n",
    "    def __len__(self):\n",
    "        return len(self.in_files)\n",
    "\n",
    "    def __getitem__(self, idx):\n",
    "        in_img = self.tfX(torchvision.io.read_image(self.in_files[idx], torchvision.io.image.ImageReadMode.RGB)).float()\n",
    "        in_img = (in_img - torch.mean(in_img, dim=(1,2),keepdim=True)) / torch.std(in_img, dim=(1,2), keepdim=True)\n",
    "        gt_img = self.tfy(torchvision.io.read_image(self.gt_files[idx], torchvision.io.image.ImageReadMode.GRAY)).float()\n",
    "        gt_img = gt_img / torch.max(gt_img)\n",
    "        # gt_img = torch.unsqueeze(gt_img, 0)\n",
    "        X = in_img\n",
    "        filename = os.path.split(self.in_files[idx])[-1][:-4]\n",
    "        center = self.centers[self.in_files[idx]]        \n",
    "        y = gt_img\n",
    "        mask_l = torch.ones(1, 384, 512, dtype=torch.float32)\n",
    "        mask_s = torch.ones(1, IM_H, IM_W, dtype=torch.float32)\n",
    "        return (X, mask_l, mask_s, y, filename, center)"
   ]
  },
  {
   "cell_type": "code",
   "execution_count": 7,
   "id": "5334fd82-5a55-425f-acd0-f8cba4d003cc",
   "metadata": {},
   "outputs": [],
   "source": [
    "class ISICDatasetTrain(torch.utils.data.Dataset):\n",
    "    def __init__(self, src):\n",
    "        self.src = src\n",
    "        self.tf = torchvision.transforms.Resize((IM_W, IM_H))\n",
    "\n",
    "    def __len__(self):\n",
    "        return len(self.src)\n",
    "\n",
    "    def __getitem__(self, idx):\n",
    "        X, mask_l, mask_s, y, filename, center = self.src[idx]\n",
    "        y = self.tf(y)\n",
    "        y = torch.round(y)\n",
    "        return (X, mask_l, mask_s, y, filename, center)"
   ]
  },
  {
   "cell_type": "code",
   "execution_count": 8,
   "id": "fd86fa7b-2b83-43ba-bb17-1785bc1af54b",
   "metadata": {},
   "outputs": [],
   "source": [
    "class ISICDatasetTest(torch.utils.data.Dataset):\n",
    "    def __init__(self, src):\n",
    "        self.src = src\n",
    "\n",
    "    def __len__(self):\n",
    "        return len(self.src)\n",
    "\n",
    "    def __getitem__(self, idx):\n",
    "        X, mask_l, mask_s, y, filename, center = self.src[idx]\n",
    "        y = torch.round(y)\n",
    "        return (X, mask_l, mask_s, y, filename, center)"
   ]
  },
  {
   "cell_type": "code",
   "execution_count": 9,
   "id": "47f97d07-0abd-49c6-8089-954ba6e7721d",
   "metadata": {},
   "outputs": [
    {
     "name": "stdout",
     "output_type": "stream",
     "text": [
      "2594 2594\n"
     ]
    }
   ],
   "source": [
    "full_ds = ISICDataset(TRAIN_INPUT_DIR, TRAIN_GT_DIR)\n",
    "n, nt = len(full_ds), int(len(full_ds) / 10)\n",
    "train_ds_p, valid_ds_p, test_ds_p = random_split(full_ds, [n - 2 * nt, nt, nt])\n",
    "train_ds = ISICDatasetTrain(train_ds_p)\n",
    "valid_ds = ISICDatasetTrain(valid_ds_p)\n",
    "test_ds = ISICDatasetTest(test_ds_p)"
   ]
  },
  {
   "cell_type": "code",
   "execution_count": 10,
   "id": "1f26e677-d76d-4df6-9bea-257ed3bc111e",
   "metadata": {
    "tags": []
   },
   "outputs": [],
   "source": [
    "train_dl = torch.utils.data.DataLoader(train_ds, batch_size=BATCH_SIZE, shuffle=True, pin_memory=False)\n",
    "valid_dl = torch.utils.data.DataLoader(valid_ds, batch_size=BATCH_SIZE, shuffle=True, pin_memory=False)\n",
    "test_dl = torch.utils.data.DataLoader(test_ds, batch_size=1, shuffle=False, pin_memory=False)"
   ]
  },
  {
   "cell_type": "code",
   "execution_count": 11,
   "id": "95398bfa-2f90-4028-bc01-87592014b6de",
   "metadata": {},
   "outputs": [],
   "source": [
    "# with mask\n",
    "\n",
    "def train(model):\n",
    "    num_batches = len(train_dl)\n",
    "    model.train()\n",
    "    losses = []\n",
    "    accuracies = []\n",
    "    dices = []\n",
    "    with tqdm(total=num_batches) as pbar:\n",
    "        pbar.set_description(\"Avg.Loss: 0.0000, Avg. Accuracy: 0.0000\")\n",
    "        for (X, mask_l, mask_s, y, filename, center) in train_dl:\n",
    "            loss, met = model.fit(X, mask_s, y)\n",
    "            losses.append(loss)\n",
    "            accuracies.append((met[0] + met[3]) / (met[0] + met[1] + met[2] + met[3]))\n",
    "            dices.append(met[0] * 2 / (met[0] * 2 + met[1] + met[2]))\n",
    "            pbar.update(1)\n",
    "            pbar.set_description(f\"Avg. Loss: {torch.mean(torch.tensor(losses)):.4f}, Avg. Accuracy: {torch.mean(torch.tensor(accuracies)):.4f}, Avg. Dice: {torch.mean(torch.tensor(dices)):.4f}\")\n",
    "    return torch.mean(torch.tensor(losses)).item(), torch.mean(torch.tensor(dices)).item()\n",
    "\n",
    "def test(model):\n",
    "    num_batches = len(valid_dl)\n",
    "    model.eval()\n",
    "    losses = []\n",
    "    accuracies = []\n",
    "    dices = []\n",
    "    with tqdm(total=num_batches) as pbar:\n",
    "        pbar.set_description(\"Avg.Loss: 0.0000, Avg. Accuracy: 0.0000\")\n",
    "        with torch.no_grad():\n",
    "            for (X, mask_l, mask_s, y, filename, center) in valid_dl:\n",
    "                loss, met = model.test(X, mask_s, y)\n",
    "                losses.append(loss)\n",
    "                accuracies.append((met[0] + met[3]) / (met[0] + met[1] + met[2] + met[3]))\n",
    "                dices.append(met[0] * 2 / (met[0] * 2 + met[1] + met[2]))\n",
    "                pbar.update(1)\n",
    "                pbar.set_description(f\"Avg. Loss: {torch.mean(torch.tensor(losses)):.4f}, Avg. Accuracy: {torch.mean(torch.tensor(accuracies)):.4f}, Avg. Dice: {torch.mean(torch.tensor(dices)):.4f}\")\n",
    "    return torch.mean(torch.tensor(losses)).item(), torch.mean(torch.tensor(dices)).item()"
   ]
  },
  {
   "cell_type": "markdown",
   "id": "d5d654ca-fc80-468d-971b-a28b4d35857e",
   "metadata": {
    "jp-MarkdownHeadingCollapsed": true
   },
   "source": [
    "# Loss functions"
   ]
  },
  {
   "cell_type": "code",
   "execution_count": 32,
   "id": "6e6304b3-9a04-4ad7-84c5-2231a967ffb9",
   "metadata": {},
   "outputs": [],
   "source": [
    "def iou_loss(pred, mask):\n",
    "    weit = 1 + 5 * torch.abs(F.avg_pool2d(mask, kernel_size=31, stride=1, padding=15) - mask)\n",
    "    \n",
    "    pred = torch.sigmoid(pred)\n",
    "    inter = ((pred * mask) * weit).sum(dim=(2, 3))\n",
    "    union = ((pred + mask) * weit).sum(dim=(2, 3))\n",
    "    iou = 1 - (inter + 1) / (union - inter + 1)\n",
    "\n",
    "    return iou.mean()\n",
    "\n",
    "\n",
    "def structure_loss(pred, mask):\n",
    "    weit = 1 + 5 * torch.abs(F.avg_pool2d(mask, kernel_size=31, stride=1, padding=15) - mask)\n",
    "    wbce = F.binary_cross_entropy_with_logits(pred, mask, reduce='none')\n",
    "    wbce = (weit * wbce).sum(dim=(2, 3)) / weit.sum(dim=(2, 3))\n",
    "\n",
    "    pred = torch.sigmoid(pred)\n",
    "    inter = ((pred * mask) * weit).sum(dim=(2, 3))\n",
    "    union = ((pred + mask) * weit).sum(dim=(2, 3))\n",
    "    wiou = 1 - (inter + 1) / (union - inter + 1)\n",
    "\n",
    "    return (wbce + wiou).mean()\n",
    "\n",
    "def dice_loss(pred, mask, cover):\n",
    "    weit = 1 # + 5 * torch.abs(F.avg_pool2d(mask, kernel_size=7, stride=1, padding=3) - mask)\n",
    "    \n",
    "    pred = torch.sigmoid(pred)\n",
    "    tp = ((pred * mask) * weit).sum(dim=(2, 3))\n",
    "    fp = ((pred * (1 - mask)) * weit).sum(dim=(2, 3))\n",
    "    fn = (((1 - pred) * mask) * weit).sum(dim=(2, 3))\n",
    "    dice = 1 - (2 * tp + 1) / (2 * tp + fp + fn + 1)\n",
    "\n",
    "    return dice.mean()\n",
    "\n",
    "class FocalLoss():\n",
    "    def __init__(self, gamma):\n",
    "        self.gamma = gamma\n",
    "        \n",
    "    def __call__(self, pred, mask):\n",
    "        pred = torch.sigmoid(pred)\n",
    "        dist = torch.abs(pred - mask)\n",
    "        bce = -torch.log((1 - dist) + 1e-15)\n",
    "        focal_adjusted = torch.mean(dist**self.gamma * bce)\n",
    "        return focal_adjusted\n",
    "\n",
    "def focal_struct_loss(pred, mask):\n",
    "    weit = torch.abs(mask - F.sigmoid(pred))\n",
    "    wbce = F.binary_cross_entropy_with_logits(pred, mask, reduce='none')\n",
    "    wbce = (weit * wbce).sum(dim=(2, 3)) / weit.sum(dim=(2, 3))\n",
    "\n",
    "    pred = torch.sigmoid(pred)\n",
    "    inter = ((pred * mask) * weit).sum(dim=(2, 3))\n",
    "    union = ((pred + mask) * weit).sum(dim=(2, 3))\n",
    "    wiou = 1 - (inter + 1) / (union - inter + 1)\n",
    "\n",
    "    return (wbce + wiou).mean()"
   ]
  },
  {
   "cell_type": "code",
   "execution_count": 36,
   "id": "901a9720-6597-4f0b-afdc-41b040987e41",
   "metadata": {},
   "outputs": [],
   "source": [
    "import torch\n",
    "import torch.nn as nn\n",
    "import torch.nn.functional as F\n",
    "# from lib.pvtv2 import pvt_v2_b2\n",
    "import os\n",
    "import torch\n",
    "import torch.nn as nn\n",
    "import torch.nn.functional as F\n",
    "# from mmcv.cnn import ConvModule\n",
    "from torch.nn import Conv2d, UpsamplingBilinear2d\n",
    "import warnings\n",
    "import torch\n",
    "# from mmcv.cnn import constant_init, kaiming_init\n",
    "from torch import nn\n",
    "from torchvision.transforms.functional import normalize\n",
    "from PVTv2.pvtv2 import pvt_v2_b2\n",
    "warnings.filterwarnings('ignore')\n",
    "\n",
    "class SpatBlock(nn.Module):\n",
    "    def __init__(self, dim=32, order=5):\n",
    "        super().__init__()\n",
    "        self.dim = dim\n",
    "        self.order = order\n",
    "        self.device = 'cuda' if torch.cuda.is_available() else 'cpu'\n",
    "\n",
    "        self.blocks = nn.ModuleList([nn.Conv2d(1, dim, 1)] + [nn.Conv2d(1, dim, 1, bias=False) for _ in range(order-1)])\n",
    "\n",
    "        self = self.to(self.device)\n",
    "\n",
    "    def forward(self, x):\n",
    "        B, C, H, W = x.shape\n",
    "\n",
    "        pos = torch.arange(W) / W\n",
    "        pos = torch.reshape(pos, (1, 1, 1, W)).to(self.device)\n",
    "        \n",
    "        func = torch.zeros_like(x)\n",
    "\n",
    "        for i, block in enumerate(self.blocks):\n",
    "            func += block(pos**(i+1))\n",
    "\n",
    "        out = x + func\n",
    "        \n",
    "        return out\n",
    "        \n",
    "\n",
    "def structure_loss(pred, mask):\n",
    "    weit = 1 + 5 * torch.abs(F.avg_pool2d(mask, kernel_size=31, stride=1, padding=15) - mask)\n",
    "    wbce = F.binary_cross_entropy_with_logits(pred, mask, reduce='none')\n",
    "    wbce = (weit * wbce).sum(dim=(2, 3)) / weit.sum(dim=(2, 3))\n",
    "\n",
    "    pred = torch.sigmoid(pred)\n",
    "    inter = ((pred * mask) * weit).sum(dim=(2, 3))\n",
    "    union = ((pred + mask) * weit).sum(dim=(2, 3))\n",
    "    wiou = 1 - (inter + 1) / (union - inter + 1)\n",
    "\n",
    "    return (wbce + wiou).mean()\n",
    "\n",
    "# def structure_loss(pred, mask):\n",
    "#     pred = torch.sigmoid(pred)\n",
    "#     loss1 = F.binary_cross_entropy(pred, mask)\n",
    "#     tp = pred * mask\n",
    "#     fp = pred * (1 - mask)\n",
    "#     fn = (1 - pred) * mask\n",
    "#     tp = torch.mean(tp, dim=0)\n",
    "#     fp = torch.mean(fp, dim=0)\n",
    "#     fn = torch.mean(fn, dim=0)\n",
    "#     iou = tp / (tp + fp + fn)\n",
    "#     iou = torch.mean(iou)\n",
    "#     loss2 = 1 - iou\n",
    "#     return loss1 + loss2\n",
    "\n",
    "class BasicConv2d(nn.Module):\n",
    "    def __init__(self, in_planes, out_planes, kernel_size, stride=1, padding=0, dilation=1):\n",
    "        super(BasicConv2d, self).__init__()\n",
    "\n",
    "        self.conv = nn.Conv2d(in_planes, out_planes,\n",
    "                              kernel_size=kernel_size, stride=stride,\n",
    "                              padding=padding, dilation=dilation, bias=False)\n",
    "        self.bn = nn.BatchNorm2d(out_planes)\n",
    "        self.relu = nn.ReLU(inplace=True)\n",
    "\n",
    "    def forward(self, x):\n",
    "        x = self.conv(x)\n",
    "        x = self.bn(x)\n",
    "        x = self.relu(x)\n",
    "        return x\n",
    "        \n",
    "class Block(nn.Sequential):\n",
    "    def __init__(self, input_num, num1, num2, dilation_rate, drop_out, bn_start=True, norm_layer=nn.BatchNorm2d):\n",
    "        super(Block, self).__init__()\n",
    "        if bn_start:\n",
    "            self.add_module('norm1', norm_layer(input_num)),\n",
    "\n",
    "        self.add_module('relu1', nn.ReLU(inplace=True)),\n",
    "        self.add_module('conv1', nn.Conv2d(in_channels=input_num, out_channels=num1, kernel_size=1)),\n",
    "\n",
    "        self.add_module('norm2', norm_layer(num1)),\n",
    "        self.add_module('relu2', nn.ReLU(inplace=True)),\n",
    "        self.add_module('conv2', nn.Conv2d(in_channels=num1, out_channels=num2, kernel_size=3,\n",
    "                                            dilation=dilation_rate, padding=dilation_rate)),\n",
    "        self.drop_rate = drop_out\n",
    "\n",
    "    def forward(self, _input):\n",
    "        feature = super(Block, self).forward(_input)\n",
    "        if self.drop_rate > 0:\n",
    "            feature = F.dropout2d(feature, p=self.drop_rate, training=self.training)\n",
    "        return feature\n",
    "\n",
    "\n",
    "def Upsample(x, size, align_corners = False):\n",
    "    \"\"\"\n",
    "    Wrapper Around the Upsample Call\n",
    "    \"\"\"\n",
    "    return nn.functional.interpolate(x, size=size, mode='bilinear', align_corners=align_corners)\n",
    "\n",
    "    \n",
    "# def last_zero_init(m):\n",
    "#     if isinstance(m, nn.Sequential):\n",
    "#         constant_init(m[-1], val=0)\n",
    "#     else:\n",
    "#         constant_init(m, val=0)\n",
    "\n",
    "\n",
    "class ContextBlock(nn.Module):\n",
    "\n",
    "    def __init__(self,\n",
    "                 inplanes,\n",
    "                 ratio,\n",
    "                 pooling_type='att',\n",
    "                 fusion_types=('channel_mul', )):\n",
    "        super(ContextBlock, self).__init__()\n",
    "        assert pooling_type in ['avg', 'att']\n",
    "        assert isinstance(fusion_types, (list, tuple))\n",
    "        valid_fusion_types = ['channel_add', 'channel_mul']\n",
    "        assert all([f in valid_fusion_types for f in fusion_types])\n",
    "        assert len(fusion_types) > 0, 'at least one fusion should be used'\n",
    "        self.inplanes = inplanes\n",
    "        self.ratio = ratio\n",
    "        self.planes = int(inplanes * ratio)\n",
    "        self.pooling_type = pooling_type\n",
    "        self.fusion_types = fusion_types\n",
    "        if pooling_type == 'att':\n",
    "            self.conv_mask = nn.Conv2d(inplanes, 1, kernel_size=1)\n",
    "            self.softmax = nn.Softmax(dim=2)\n",
    "        else:\n",
    "            self.avg_pool = nn.AdaptiveAvgPool2d(1)\n",
    "        if 'channel_add' in fusion_types:\n",
    "            self.channel_add_conv = nn.Sequential(\n",
    "                nn.Conv2d(self.inplanes, self.planes, kernel_size=1),\n",
    "                nn.LayerNorm([self.planes, 1, 1]),\n",
    "                nn.ReLU(inplace=True),  # yapf: disable\n",
    "                nn.Conv2d(self.planes, self.inplanes, kernel_size=1))\n",
    "        else:\n",
    "            self.channel_add_conv = None\n",
    "        if 'channel_mul' in fusion_types:\n",
    "            self.channel_mul_conv = nn.Sequential(\n",
    "                nn.Conv2d(self.inplanes, self.planes, kernel_size=1),\n",
    "                nn.LayerNorm([self.planes, 1, 1]),\n",
    "                nn.ReLU(inplace=True),  # yapf: disable\n",
    "                nn.Conv2d(self.planes, self.inplanes, kernel_size=1))\n",
    "        else:\n",
    "            self.channel_mul_conv = None\n",
    "\n",
    "    def spatial_pool(self, x):\n",
    "        batch, channel, height, width = x.size()\n",
    "        if self.pooling_type == 'att':\n",
    "            input_x = x\n",
    "            # [N, C, H * W]\n",
    "            input_x = input_x.view(batch, channel, height * width)\n",
    "            # [N, 1, C, H * W]\n",
    "            input_x = input_x.unsqueeze(1)\n",
    "            # [N, 1, H, W]\n",
    "            context_mask = self.conv_mask(x)\n",
    "            # [N, 1, H * W]\n",
    "            context_mask = context_mask.view(batch, 1, height * width)\n",
    "            # [N, 1, H * W]\n",
    "            context_mask = self.softmax(context_mask)\n",
    "            # [N, 1, H * W, 1]\n",
    "            context_mask = context_mask.unsqueeze(-1)\n",
    "            # [N, 1, C, 1]\n",
    "            context = torch.matmul(input_x, context_mask)\n",
    "            # [N, C, 1, 1]\n",
    "            context = context.view(batch, channel, 1, 1)\n",
    "        else:\n",
    "            # [N, C, 1, 1]\n",
    "            context = self.avg_pool(x)\n",
    "\n",
    "        return context\n",
    "\n",
    "    def forward(self, x):\n",
    "        # [N, C, 1, 1]\n",
    "        context = self.spatial_pool(x)\n",
    "\n",
    "        out = x\n",
    "        if self.channel_mul_conv is not None:\n",
    "            # [N, C, 1, 1]\n",
    "            channel_mul_term = torch.sigmoid(self.channel_mul_conv(context))\n",
    "            out = out + out * channel_mul_term\n",
    "        if self.channel_add_conv is not None:\n",
    "            # [N, C, 1, 1]\n",
    "            channel_add_term = self.channel_add_conv(context)\n",
    "            out = out + channel_add_term\n",
    "\n",
    "        return out\n",
    "\n",
    "\n",
    "\n",
    "class ChannelAttention(nn.Module):\n",
    "    def __init__(self, in_planes, ratio=16):\n",
    "        super(ChannelAttention, self).__init__()\n",
    "        self.avg_pool = nn.AdaptiveAvgPool2d(1)\n",
    "        self.max_pool = nn.AdaptiveMaxPool2d(1)\n",
    "\n",
    "        self.fc1   = nn.Conv2d(in_planes, in_planes // 16, 1, bias=False)\n",
    "        self.relu1 = nn.ReLU()\n",
    "        self.fc2   = nn.Conv2d(in_planes // 16, in_planes, 1, bias=False)\n",
    "\n",
    "        self.sigmoid = nn.Sigmoid()\n",
    "\n",
    "    def forward(self, x):\n",
    "        avg_out = self.fc2(self.relu1(self.fc1(self.avg_pool(x))))\n",
    "        max_out = self.fc2(self.relu1(self.fc1(self.max_pool(x))))\n",
    "        out = avg_out + max_out\n",
    "        return self.sigmoid(out)\n",
    "\n",
    "\n",
    "class SpatialAttention(nn.Module):\n",
    "    def __init__(self, kernel_size=7):\n",
    "        super(SpatialAttention, self).__init__()\n",
    "\n",
    "        assert kernel_size in (3, 7), 'kernel size must be 3 or 7'\n",
    "        padding = 3 if kernel_size == 7 else 1\n",
    "\n",
    "        self.conv1 = nn.Conv2d(2, 1, kernel_size, padding=padding, bias=False)\n",
    "        self.sigmoid = nn.Sigmoid()\n",
    "\n",
    "    def forward(self, x):\n",
    "        avg_out = torch.mean(x, dim=1, keepdim=True)\n",
    "        max_out, _ = torch.max(x, dim=1, keepdim=True)\n",
    "        x = torch.cat([avg_out, max_out], dim=1)\n",
    "        x = self.conv1(x)\n",
    "        return self.sigmoid(x)\n",
    "\n",
    "\n",
    "class ConvBranch(nn.Module):\n",
    "    def __init__(self, in_features, hidden_features = None, out_features = None):\n",
    "        super().__init__()\n",
    "        hidden_features = hidden_features or in_features\n",
    "        out_features = out_features or in_features\n",
    "        self.conv1 = nn.Sequential(\n",
    "            nn.Conv2d(in_features, hidden_features, 1, bias=False),\n",
    "            nn.BatchNorm2d(hidden_features),\n",
    "            nn.ReLU(inplace=True)\n",
    "        )\n",
    "        self.conv2 = nn.Sequential(\n",
    "            nn.Conv2d(hidden_features, hidden_features, 3, padding=1, groups=hidden_features, bias=False),\n",
    "            nn.BatchNorm2d(hidden_features),\n",
    "            nn.ReLU(inplace=True)\n",
    "        )\n",
    "        self.conv3 = nn.Sequential(\n",
    "            nn.Conv2d(hidden_features, hidden_features, 1, bias=False),\n",
    "            nn.BatchNorm2d(hidden_features),\n",
    "            nn.ReLU(inplace=True)\n",
    "        )\n",
    "        self.conv4 = nn.Sequential(\n",
    "            nn.Conv2d(hidden_features, hidden_features, 3, padding=1, groups=hidden_features, bias=False),\n",
    "            nn.BatchNorm2d(hidden_features),\n",
    "            nn.ReLU(inplace=True)\n",
    "        )\n",
    "        self.conv5 = nn.Sequential(\n",
    "            nn.Conv2d(hidden_features, hidden_features, 1, bias=False),\n",
    "            nn.BatchNorm2d(hidden_features),\n",
    "            nn.SiLU(inplace=True)\n",
    "        )\n",
    "        self.conv6 = nn.Sequential(\n",
    "            nn.Conv2d(hidden_features, hidden_features, 3, padding=1, groups=hidden_features, bias=False),\n",
    "            nn.BatchNorm2d(hidden_features),\n",
    "            nn.ReLU(inplace=True)\n",
    "        )\n",
    "        self.conv7 = nn.Sequential(\n",
    "            nn.Conv2d(hidden_features, out_features, 1, bias=False),\n",
    "            nn.ReLU(inplace=True)\n",
    "        )\n",
    "        self.ca = ChannelAttention(64)\n",
    "        self.sa = SpatialAttention()\n",
    "        self.sigmoid_spatial = nn.Sigmoid()\n",
    "    \n",
    "    def forward(self, x):\n",
    "        res1 = x\n",
    "        res2 = x\n",
    "        x = self.conv1(x)        \n",
    "        x = x + self.conv2(x)\n",
    "        x = self.conv3(x)\n",
    "        x = x + self.conv4(x)\n",
    "        x = self.conv5(x)\n",
    "        x = x + self.conv6(x)\n",
    "        x = self.conv7(x)\n",
    "        x_mask = self.sigmoid_spatial(x)\n",
    "        res1 = res1 * x_mask\n",
    "        return res2 + res1\n",
    "\n",
    "              \n",
    "class GLSA(nn.Module):\n",
    "\n",
    "    def __init__(self, input_dim=512, embed_dim=32, k_s=3):\n",
    "        super().__init__()\n",
    "                      \n",
    "        self.conv1_1 = BasicConv2d(embed_dim*2,embed_dim, 1)\n",
    "        self.conv1_1_1 = BasicConv2d(input_dim//2,embed_dim,1)\n",
    "        self.local_11conv = nn.Conv2d(input_dim//2,embed_dim,1)\n",
    "        self.global_11conv = nn.Conv2d(input_dim//2,embed_dim,1)\n",
    "        self.GlobelBlock = ContextBlock(inplanes= embed_dim, ratio=2)\n",
    "        self.local = ConvBranch(in_features = embed_dim, hidden_features = embed_dim, out_features = embed_dim)\n",
    "\n",
    "    def forward(self, x):\n",
    "        b, c, h, w = x.size()\n",
    "        x_0, x_1 = x.chunk(2,dim = 1)  \n",
    "        \n",
    "    # local block \n",
    "        local = self.local(self.local_11conv(x_0))\n",
    "        \n",
    "    # Globel block    \n",
    "        Globel = self.GlobelBlock(self.global_11conv(x_1))\n",
    "\n",
    "    # concat Globel + local\n",
    "        x = torch.cat([local,Globel], dim=1)\n",
    "        x = self.conv1_1(x)\n",
    "\n",
    "        return x    \n",
    "\n",
    "class SBA(nn.Module):\n",
    "\n",
    "    def __init__(self,input_dim = 64):\n",
    "        super().__init__()\n",
    "\n",
    "        self.input_dim = input_dim\n",
    "\n",
    "        self.d_in1 = BasicConv2d(input_dim//2, input_dim//2, 1)\n",
    "        self.d_in2 = BasicConv2d(input_dim//2, input_dim//2, 1)       \n",
    "                \n",
    "\n",
    "        self.conv = nn.Sequential(BasicConv2d(input_dim, input_dim, 3,1,1), nn.Conv2d(input_dim, 1, kernel_size=1, bias=False))\n",
    "        self.fc1 = nn.Conv2d(input_dim, input_dim//2, kernel_size=1, bias=False)\n",
    "        self.fc2 = nn.Conv2d(input_dim, input_dim//2, kernel_size=1, bias=False)\n",
    "        \n",
    "        self.Sigmoid = nn.Sigmoid()\n",
    "        \n",
    "    def forward(self, H_feature, L_feature):\n",
    "\n",
    "        L_feature = self.fc1(L_feature)\n",
    "        H_feature = self.fc2(H_feature)\n",
    "        \n",
    "        g_L_feature =  self.Sigmoid(L_feature)\n",
    "        g_H_feature = self.Sigmoid(H_feature)\n",
    "        \n",
    "        L_feature = self.d_in1(L_feature)\n",
    "        H_feature = self.d_in2(H_feature)\n",
    "\n",
    "\n",
    "        L_feature = L_feature + L_feature * g_L_feature + (1 - g_L_feature) * Upsample(g_H_feature * H_feature, size= L_feature.size()[2:], align_corners=False)\n",
    "        H_feature = H_feature + H_feature * g_H_feature + (1 - g_H_feature) * Upsample(g_L_feature * L_feature, size= H_feature.size()[2:], align_corners=False) \n",
    "        \n",
    "        H_feature = Upsample(H_feature, size = L_feature.size()[2:])\n",
    "        out = self.conv(torch.cat([H_feature,L_feature], dim=1))\n",
    "        return out\n",
    "        \n",
    "            \n",
    "class DuAT(nn.Module):\n",
    "    def __init__(self, dim=32, dims= [64, 256, 512, 1024], learning_rate=None,  loss_fn=None, optimizer=None, device=None, weight_decay=None):\n",
    "        super(DuAT, self).__init__()\n",
    "\n",
    "                    \n",
    "        if (device is None):\n",
    "            self.device = DEVICE\n",
    "        else:\n",
    "            self.device = device\n",
    "\n",
    "        if (learning_rate is None):\n",
    "            self.learning_rate = 1e-5\n",
    "        else:\n",
    "            self.learning_rate = learning_rate\n",
    "        \n",
    "        if (weight_decay is None):\n",
    "            self.weight_decay = 1e-5\n",
    "        else:\n",
    "            self.weight_decay = weight_decay\n",
    "\n",
    "        self.dims = dims\n",
    "\n",
    "        # self.pad = False\n",
    "        resnet50 = torchvision.models.resnet50(weights=\"DEFAULT\")\n",
    "        self.e1 = nn.Sequential(resnet50._modules['conv1'], resnet50._modules['bn1'], resnet50._modules['relu'])\n",
    "        self.e2 = nn.Sequential(resnet50._modules['maxpool'], resnet50._modules['layer1'])\n",
    "        self.e3 = nn.Sequential(resnet50._modules['layer2'])\n",
    "        self.e4 = nn.Sequential(resnet50._modules['layer3'])\n",
    "        \n",
    "        c1_in_channels, c2_in_channels, c3_in_channels, c4_in_channels = dims[0], dims[1], dims[2], dims[3]\n",
    "\n",
    "        self.shuffle4 = nn.Conv2d(c4_in_channels, c4_in_channels, 1)\n",
    "        self.shuffle3 = nn.Conv2d(c3_in_channels, c3_in_channels, 1)\n",
    "        self.shuffle2 = nn.Conv2d(c2_in_channels, c2_in_channels, 1)\n",
    "        self.shuffle1 = nn.Conv2d(c1_in_channels, c1_in_channels, 1)\n",
    "\n",
    "        self.bn4 = nn.BatchNorm2d(c4_in_channels)\n",
    "        self.bn3 = nn.BatchNorm2d(c3_in_channels)\n",
    "        self.bn2 = nn.BatchNorm2d(c2_in_channels)\n",
    "        self.bn1 = nn.BatchNorm2d(c1_in_channels)\n",
    "\n",
    "        self.embed4 = SpatBlock(dim=c4_in_channels)\n",
    "        self.embed3 = SpatBlock(dim=c3_in_channels)\n",
    "        self.embed2 = SpatBlock(dim=c2_in_channels)\n",
    "        self.embed1 = SpatBlock(dim=c1_in_channels)\n",
    "\n",
    "        self.bn4 = nn.BatchNorm2d(c4_in_channels)\n",
    "        self.bn3 = nn.BatchNorm2d(c3_in_channels)\n",
    "        self.bn2 = nn.BatchNorm2d(c2_in_channels)\n",
    "        self.bn1 = nn.BatchNorm2d(c1_in_channels)\n",
    "\n",
    "        self.GLSA_c4 = GLSA(input_dim=c4_in_channels, embed_dim=dim)\n",
    "        self.GLSA_c3 = GLSA(input_dim=c3_in_channels, embed_dim=dim)\n",
    "        self.GLSA_c2 = GLSA(input_dim=c2_in_channels, embed_dim=dim)\n",
    "        self.L_feature = BasicConv2d(c1_in_channels, dim, 3,1,1)\n",
    "        \n",
    "        self.SBA = SBA(input_dim = dim)\n",
    "        self.fuse = BasicConv2d(dim * 2, dim, 1)\n",
    "        self.fuse2 = nn.Sequential(BasicConv2d(dim*3, dim, 1,1),nn.BatchNorm2d(dim),nn.Conv2d(dim, 1, kernel_size=1, bias=False))\n",
    "\n",
    "\n",
    "        for param in self.e1.parameters():\n",
    "            param.requires_grad_(False)\n",
    "            \n",
    "        for param in self.e2.parameters():\n",
    "            param.requires_grad_(False)\n",
    "            \n",
    "        for param in self.e3.parameters():\n",
    "            param.requires_grad_(False)\n",
    "            \n",
    "        for param in self.e4.parameters():\n",
    "            param.requires_grad_(False)\n",
    "\n",
    "        if (loss_fn is None):\n",
    "            self.loss_fn = structure_loss\n",
    "        else:\n",
    "            self.loss_fn = loss_fn\n",
    "\n",
    "        if (optimizer is None):\n",
    "            self.optimizer = torch.optim.AdamW(self.parameters(), lr=self.learning_rate, weight_decay=self.weight_decay)\n",
    "        else:\n",
    "            self.optimizer = optimizer(self.parameters(), lr=self.learning_rate, weight_decay=self.weight_decay)\n",
    "\n",
    "        self = self.to(self.device)\n",
    "\n",
    "    def forward(self, x, mask):\n",
    "        # backbone\n",
    "        x = x.to(self.device)\n",
    "        c1 = self.e1(x)\n",
    "        c2 = self.e2(c1)\n",
    "        c3 = self.e3(c2)\n",
    "        c4 = self.e4(c3)\n",
    "\n",
    "\n",
    "        \n",
    "        # c1 = self.bn1(self.shuffle1(c1))\n",
    "        # c2 = self.bn2(self.shuffle2(c2))\n",
    "        # c3 = self.bn3(self.shuffle3(c3))\n",
    "        # c4 = self.bn4(self.shuffle4(c4))\n",
    "        \n",
    "        # c1 = torch.cat([c1,\n",
    "        #                 torch.arange(c1.shape[2], dtype=c1.dtype, device=self.device).view(1,1,-1,1).repeat(c1.shape[0], 1, 1, c1.shape[3]) / c1.shape[2],\n",
    "        #                 torch.arange(c1.shape[3], dtype=c1.dtype, device=self.device).view(1,1,1,-1).repeat(c1.shape[0], 1, c1.shape[2], 1) / c1.shape[3]], dim=1)\n",
    "        # c2 = torch.cat([c2,\n",
    "        #                 torch.arange(c2.shape[2], dtype=c2.dtype, device=self.device).view(1,1,-1,1).repeat(c2.shape[0], 1, 1, c2.shape[3]) / c2.shape[2],\n",
    "        #                 torch.arange(c2.shape[3], dtype=c2.dtype, device=self.device).view(1,1,1,-1).repeat(c2.shape[0], 1, c2.shape[2], 1) / c2.shape[3]], dim=1)\n",
    "        # c3 = torch.cat([c3,\n",
    "        #                 torch.arange(c3.shape[2], dtype=c3.dtype, device=self.device).view(1,1,-1,1).repeat(c1.shape[0], 1, 1, c3.shape[3]) / c3.shape[2],\n",
    "        #                 torch.arange(c3.shape[3], dtype=c3.dtype, device=self.device).view(1,1,1,-1).repeat(c1.shape[0], 1, c3.shape[2], 1) / c3.shape[3]], dim=1)\n",
    "        # c4 = torch.cat([c4,\n",
    "        #                 torch.arange(c4.shape[2], dtype=c4.dtype, device=self.device).view(1,1,-1,1).repeat(c4.shape[0], 1, 1, c4.shape[3]) / c4.shape[2],\n",
    "        #                 torch.arange(c4.shape[3], dtype=c4.dtype, device=self.device).view(1,1,1,-1).repeat(c4.shape[0], 1, c4.shape[2], 1) / c4.shape[3]], dim=1)\n",
    "\n",
    "        c1 = self.bn1(self.embed1(c1))\n",
    "        c2 = self.bn2(self.embed2(c2))\n",
    "        c3 = self.bn3(self.embed3(c3))\n",
    "        c4 = self.bn4(self.embed4(c4))\n",
    "        \n",
    "        n, _, h, w = c4.shape        \n",
    "        _c4 = self.GLSA_c4(c4) # [1, 64, 11, 11]\n",
    "        _c4 = Upsample(_c4, c3.size()[2:])\n",
    "        _c3 = self.GLSA_c3(c3) # [1, 64, 22, 22]\n",
    "        _c2 = self.GLSA_c2(c2) # [1, 64, 44, 44]\n",
    "        \n",
    "        output = torch.cat([Upsample(_c4, c2.size()[2:]), Upsample(_c3, c2.size()[2:]), _c2], dim=1)\n",
    "        \n",
    "        L_feature = self.L_feature(c1)  # [1, 64, 88, 88]\n",
    "        H_feature = self.fuse(torch.cat([_c4, _c3], dim=1))\n",
    "        H_feature = Upsample(H_feature,c2.size()[2:])\n",
    "        \n",
    "        output2 = self.SBA(H_feature,L_feature)\n",
    "        h = x.shape[2] // 4\n",
    "        output = F.interpolate(output, scale_factor=4, mode='bicubic')\n",
    "        # output = torch.cat([output, Upsample(c1, output.size()[2:])], dim=1)\n",
    "        output = self.fuse2(output)\n",
    "        # return torch.sigmoid(output)\n",
    "        output2 = F.interpolate(output2, scale_factor=2, mode='bicubic')\n",
    "\n",
    "        \n",
    "        return output, output2\n",
    "        # return F.sigmoid(output[:,:,h:-h,:])\n",
    "        \n",
    "    def fit(self, X, mask, y):\n",
    "        X, mask, y = X.to(self.device), mask.to(self.device), y.to(self.device)\n",
    "        h1, h2 = self(X, mask)\n",
    "        self.optimizer.zero_grad()\n",
    "        loss = self.loss_fn(h1, y) + self.loss_fn(h2, y)\n",
    "        loss.backward()\n",
    "        self.optimizer.step()\n",
    "        loss = loss.item()\n",
    "        pred = (h2 > 0).int()\n",
    "        numt = torch.sum(mask)\n",
    "        TP = torch.sum(torch.minimum(y, pred)).item() / numt\n",
    "        TN = torch.sum(torch.minimum(1-y, 1-pred) * mask).item() / numt\n",
    "        FN = torch.sum(torch.minimum(y, 1-pred)).item() / numt\n",
    "        FP = torch.sum(torch.minimum(1-y, pred)).item() / numt\n",
    "        return (loss, torch.tensor([TP, FP, FN, TN]))\n",
    "\n",
    "    def test(self, X, mask, y):\n",
    "        X, mask, y = X.to(self.device), mask.to(self.device), y.to(self.device)\n",
    "        h1, h2 = self(X, mask)\n",
    "        loss = self.loss_fn(h1, y) + self.loss_fn(h2, y)\n",
    "        loss = loss.item()\n",
    "        pred = (h2 > 0).int()\n",
    "        numt = torch.sum(mask)\n",
    "        TP = torch.sum(torch.minimum(y, pred)).item() / numt\n",
    "        TN = torch.sum(torch.minimum(1-y, 1-pred) * mask).item() / numt\n",
    "        FN = torch.sum(torch.minimum(y, 1-pred)).item() / numt\n",
    "        FP = torch.sum(torch.minimum(1-y, pred)).item() / numt\n",
    "        return (loss, torch.tensor([TP, FP, FN, TN]))\n"
   ]
  },
  {
   "cell_type": "markdown",
   "id": "5046e202-6b2e-4249-9c77-dd84b64fce2f",
   "metadata": {},
   "source": [
    "# PVT DuAT"
   ]
  },
  {
   "cell_type": "code",
   "execution_count": 13,
   "id": "afa73aee-4094-4373-a67f-e997b4b21222",
   "metadata": {},
   "outputs": [],
   "source": [
    "import torch\n",
    "import torch.nn as nn\n",
    "import torch.nn.functional as F\n",
    "# from lib.pvtv2 import pvt_v2_b2\n",
    "import os\n",
    "import torch\n",
    "import torch.nn as nn\n",
    "import torch.nn.functional as F\n",
    "# from mmcv.cnn import ConvModule\n",
    "from torch.nn import Conv2d, UpsamplingBilinear2d\n",
    "import warnings\n",
    "import torch\n",
    "# from mmcv.cnn import constant_init, kaiming_init\n",
    "from torch import nn\n",
    "from torchvision.transforms.functional import normalize\n",
    "from BaseModel import BaseModel\n",
    "from PVT.segmentation.pvt import pvt_large, pvt_medium, pvt_small, pvt_tiny\n",
    "from PVTv2.pvtv2 import *\n",
    "warnings.filterwarnings('ignore')\n",
    "\n",
    "def structure_loss(pred, mask):\n",
    "    weit = 1 + 5 * torch.abs(F.avg_pool2d(mask, kernel_size=31, stride=1, padding=15) - mask)\n",
    "    wbce = F.binary_cross_entropy_with_logits(pred, mask, reduce='none')\n",
    "    wbce = (weit * wbce).sum(dim=(2, 3)) / weit.sum(dim=(2, 3))\n",
    "\n",
    "    pred = torch.sigmoid(pred)\n",
    "    inter = ((pred * mask) * weit).sum(dim=(2, 3))\n",
    "    union = ((pred + mask) * weit).sum(dim=(2, 3))\n",
    "    wiou = 1 - (inter + 1) / (union - inter + 1)\n",
    "\n",
    "    return (wbce + wiou).mean()\n",
    "\n",
    "# def structure_loss(pred, mask):\n",
    "#     pred = torch.sigmoid(pred)\n",
    "#     loss1 = F.binary_cross_entropy(pred, mask)\n",
    "#     tp = pred * mask\n",
    "#     fp = pred * (1 - mask)\n",
    "#     fn = (1 - pred) * mask\n",
    "#     tp = torch.mean(tp, dim=0)\n",
    "#     fp = torch.mean(fp, dim=0)\n",
    "#     fn = torch.mean(fn, dim=0)\n",
    "#     iou = tp / (tp + fp + fn)\n",
    "#     iou = torch.mean(iou)\n",
    "#     loss2 = 1 - iou\n",
    "#     return loss1 + loss2\n",
    "\n",
    "class BasicConv2d(nn.Module):\n",
    "    def __init__(self, in_planes, out_planes, kernel_size, stride=1, padding=0, dilation=1):\n",
    "        super(BasicConv2d, self).__init__()\n",
    "\n",
    "        self.conv = nn.Conv2d(in_planes, out_planes,\n",
    "                              kernel_size=kernel_size, stride=stride,\n",
    "                              padding=padding, dilation=dilation, bias=False)\n",
    "        self.bn = nn.BatchNorm2d(out_planes)\n",
    "        self.relu = nn.ReLU(inplace=True)\n",
    "\n",
    "    def forward(self, x):\n",
    "        x = self.conv(x)\n",
    "        x = self.bn(x)\n",
    "        x = self.relu(x)\n",
    "        return x\n",
    "        \n",
    "class Block(nn.Sequential):\n",
    "    def __init__(self, input_num, num1, num2, dilation_rate, drop_out, bn_start=True, norm_layer=nn.BatchNorm2d):\n",
    "        super(Block, self).__init__()\n",
    "        if bn_start:\n",
    "            self.add_module('norm1', norm_layer(input_num)),\n",
    "\n",
    "        self.add_module('relu1', nn.ReLU(inplace=True)),\n",
    "        self.add_module('conv1', nn.Conv2d(in_channels=input_num, out_channels=num1, kernel_size=1)),\n",
    "\n",
    "        self.add_module('norm2', norm_layer(num1)),\n",
    "        self.add_module('relu2', nn.ReLU(inplace=True)),\n",
    "        self.add_module('conv2', nn.Conv2d(in_channels=num1, out_channels=num2, kernel_size=3,\n",
    "                                            dilation=dilation_rate, padding=dilation_rate)),\n",
    "        self.drop_rate = drop_out\n",
    "\n",
    "    def forward(self, _input):\n",
    "        feature = super(Block, self).forward(_input)\n",
    "        if self.drop_rate > 0:\n",
    "            feature = F.dropout2d(feature, p=self.drop_rate, training=self.training)\n",
    "        return feature\n",
    "\n",
    "\n",
    "def Upsample(x, size, align_corners = False):\n",
    "    \"\"\"\n",
    "    Wrapper Around the Upsample Call\n",
    "    \"\"\"\n",
    "    return nn.functional.interpolate(x, size=size, mode='bilinear', align_corners=align_corners)\n",
    "\n",
    "    \n",
    "# def last_zero_init(m):\n",
    "#     if isinstance(m, nn.Sequential):\n",
    "#         constant_init(m[-1], val=0)\n",
    "#     else:\n",
    "#         constant_init(m, val=0)\n",
    "\n",
    "\n",
    "class ContextBlock(nn.Module):\n",
    "\n",
    "    def __init__(self,\n",
    "                 inplanes,\n",
    "                 ratio,\n",
    "                 pooling_type='att',\n",
    "                 fusion_types=('channel_mul', )):\n",
    "        super(ContextBlock, self).__init__()\n",
    "        assert pooling_type in ['avg', 'att']\n",
    "        assert isinstance(fusion_types, (list, tuple))\n",
    "        valid_fusion_types = ['channel_add', 'channel_mul']\n",
    "        assert all([f in valid_fusion_types for f in fusion_types])\n",
    "        assert len(fusion_types) > 0, 'at least one fusion should be used'\n",
    "        self.inplanes = inplanes\n",
    "        self.ratio = ratio\n",
    "        self.planes = int(inplanes * ratio)\n",
    "        self.pooling_type = pooling_type\n",
    "        self.fusion_types = fusion_types\n",
    "        if pooling_type == 'att':\n",
    "            self.conv_mask = nn.Conv2d(inplanes, 1, kernel_size=1)\n",
    "            self.softmax = nn.Softmax(dim=2)\n",
    "        else:\n",
    "            self.avg_pool = nn.AdaptiveAvgPool2d(1)\n",
    "        if 'channel_add' in fusion_types:\n",
    "            self.channel_add_conv = nn.Sequential(\n",
    "                nn.Conv2d(self.inplanes, self.planes, kernel_size=1),\n",
    "                nn.LayerNorm([self.planes, 1, 1]),\n",
    "                nn.ReLU(inplace=True),  # yapf: disable\n",
    "                nn.Conv2d(self.planes, self.inplanes, kernel_size=1))\n",
    "        else:\n",
    "            self.channel_add_conv = None\n",
    "        if 'channel_mul' in fusion_types:\n",
    "            self.channel_mul_conv = nn.Sequential(\n",
    "                nn.Conv2d(self.inplanes, self.planes, kernel_size=1),\n",
    "                nn.LayerNorm([self.planes, 1, 1]),\n",
    "                nn.ReLU(inplace=True),  # yapf: disable\n",
    "                nn.Conv2d(self.planes, self.inplanes, kernel_size=1))\n",
    "        else:\n",
    "            self.channel_mul_conv = None\n",
    "\n",
    "    def spatial_pool(self, x):\n",
    "        batch, channel, height, width = x.size()\n",
    "        if self.pooling_type == 'att':\n",
    "            input_x = x\n",
    "            # [N, C, H * W]\n",
    "            input_x = input_x.view(batch, channel, height * width)\n",
    "            # [N, 1, C, H * W]\n",
    "            input_x = input_x.unsqueeze(1)\n",
    "            # [N, 1, H, W]\n",
    "            context_mask = self.conv_mask(x)\n",
    "            # [N, 1, H * W]\n",
    "            context_mask = context_mask.view(batch, 1, height * width)\n",
    "            # [N, 1, H * W]\n",
    "            context_mask = self.softmax(context_mask)\n",
    "            # [N, 1, H * W, 1]\n",
    "            context_mask = context_mask.unsqueeze(-1)\n",
    "            # [N, 1, C, 1]\n",
    "            context = torch.matmul(input_x, context_mask)\n",
    "            # [N, C, 1, 1]\n",
    "            context = context.view(batch, channel, 1, 1)\n",
    "        else:\n",
    "            # [N, C, 1, 1]\n",
    "            context = self.avg_pool(x)\n",
    "\n",
    "        return context\n",
    "\n",
    "    def forward(self, x):\n",
    "        # [N, C, 1, 1]\n",
    "        context = self.spatial_pool(x)\n",
    "\n",
    "        out = x\n",
    "        if self.channel_mul_conv is not None:\n",
    "            # [N, C, 1, 1]\n",
    "            channel_mul_term = torch.sigmoid(self.channel_mul_conv(context))\n",
    "            out = out + out * channel_mul_term\n",
    "        if self.channel_add_conv is not None:\n",
    "            # [N, C, 1, 1]\n",
    "            channel_add_term = self.channel_add_conv(context)\n",
    "            out = out + channel_add_term\n",
    "\n",
    "        return out\n",
    "\n",
    "\n",
    "\n",
    "class ChannelAttention(nn.Module):\n",
    "    def __init__(self, in_planes, ratio=16):\n",
    "        super(ChannelAttention, self).__init__()\n",
    "        self.avg_pool = nn.AdaptiveAvgPool2d(1)\n",
    "        self.max_pool = nn.AdaptiveMaxPool2d(1)\n",
    "\n",
    "        self.fc1   = nn.Conv2d(in_planes, in_planes // 16, 1, bias=False)\n",
    "        self.relu1 = nn.ReLU()\n",
    "        self.fc2   = nn.Conv2d(in_planes // 16, in_planes, 1, bias=False)\n",
    "\n",
    "        self.sigmoid = nn.Sigmoid()\n",
    "\n",
    "    def forward(self, x):\n",
    "        avg_out = self.fc2(self.relu1(self.fc1(self.avg_pool(x))))\n",
    "        max_out = self.fc2(self.relu1(self.fc1(self.max_pool(x))))\n",
    "        out = avg_out + max_out\n",
    "        return self.sigmoid(out)\n",
    "\n",
    "\n",
    "class SpatialAttention(nn.Module):\n",
    "    def __init__(self, kernel_size=7):\n",
    "        super(SpatialAttention, self).__init__()\n",
    "\n",
    "        assert kernel_size in (3, 7), 'kernel size must be 3 or 7'\n",
    "        padding = 3 if kernel_size == 7 else 1\n",
    "\n",
    "        self.conv1 = nn.Conv2d(2, 1, kernel_size, padding=padding, bias=False)\n",
    "        self.sigmoid = nn.Sigmoid()\n",
    "\n",
    "    def forward(self, x):\n",
    "        avg_out = torch.mean(x, dim=1, keepdim=True)\n",
    "        max_out, _ = torch.max(x, dim=1, keepdim=True)\n",
    "        x = torch.cat([avg_out, max_out], dim=1)\n",
    "        x = self.conv1(x)\n",
    "        return self.sigmoid(x)\n",
    "\n",
    "\n",
    "class ConvBranch(nn.Module):\n",
    "    def __init__(self, in_features, hidden_features = None, out_features = None):\n",
    "        super().__init__()\n",
    "        hidden_features = hidden_features or in_features\n",
    "        out_features = out_features or in_features\n",
    "        self.conv1 = nn.Sequential(\n",
    "            nn.Conv2d(in_features, hidden_features, 1, bias=False),\n",
    "            nn.BatchNorm2d(hidden_features),\n",
    "            nn.ReLU(inplace=True)\n",
    "        )\n",
    "        self.conv2 = nn.Sequential(\n",
    "            nn.Conv2d(hidden_features, hidden_features, 3, padding=1, groups=hidden_features, bias=False),\n",
    "            nn.BatchNorm2d(hidden_features),\n",
    "            nn.ReLU(inplace=True)\n",
    "        )\n",
    "        self.conv3 = nn.Sequential(\n",
    "            nn.Conv2d(hidden_features, hidden_features, 1, bias=False),\n",
    "            nn.BatchNorm2d(hidden_features),\n",
    "            nn.ReLU(inplace=True)\n",
    "        )\n",
    "        self.conv4 = nn.Sequential(\n",
    "            nn.Conv2d(hidden_features, hidden_features, 3, padding=1, groups=hidden_features, bias=False),\n",
    "            nn.BatchNorm2d(hidden_features),\n",
    "            nn.ReLU(inplace=True)\n",
    "        )\n",
    "        self.conv5 = nn.Sequential(\n",
    "            nn.Conv2d(hidden_features, hidden_features, 1, bias=False),\n",
    "            nn.BatchNorm2d(hidden_features),\n",
    "            nn.SiLU(inplace=True)\n",
    "        )\n",
    "        self.conv6 = nn.Sequential(\n",
    "            nn.Conv2d(hidden_features, hidden_features, 3, padding=1, groups=hidden_features, bias=False),\n",
    "            nn.BatchNorm2d(hidden_features),\n",
    "            nn.ReLU(inplace=True)\n",
    "        )\n",
    "        self.conv7 = nn.Sequential(\n",
    "            nn.Conv2d(hidden_features, out_features, 1, bias=False),\n",
    "            nn.ReLU(inplace=True)\n",
    "        )\n",
    "        self.ca = ChannelAttention(64)\n",
    "        self.sa = SpatialAttention()\n",
    "        self.sigmoid_spatial = nn.Sigmoid()\n",
    "    \n",
    "    def forward(self, x):\n",
    "        res1 = x\n",
    "        res2 = x\n",
    "        x = self.conv1(x)        \n",
    "        x = x + self.conv2(x)\n",
    "        x = self.conv3(x)\n",
    "        x = x + self.conv4(x)\n",
    "        x = self.conv5(x)\n",
    "        x = x + self.conv6(x)\n",
    "        x = self.conv7(x)\n",
    "        x_mask = self.sigmoid_spatial(x)\n",
    "        res1 = res1 * x_mask\n",
    "        return res2 + res1\n",
    "\n",
    "              \n",
    "class GLSA(nn.Module):\n",
    "\n",
    "    def __init__(self, input_dim=512, embed_dim=32, k_s=3):\n",
    "        super().__init__()\n",
    "                      \n",
    "        self.conv1_1 = BasicConv2d(embed_dim*2,embed_dim, 1)\n",
    "        self.conv1_1_1 = BasicConv2d(input_dim//2,embed_dim,1)\n",
    "        self.local_11conv = nn.Conv2d(input_dim//2,embed_dim,1)\n",
    "        self.global_11conv = nn.Conv2d(input_dim//2,embed_dim,1)\n",
    "        self.GlobelBlock = ContextBlock(inplanes= embed_dim, ratio=2)\n",
    "        self.local = ConvBranch(in_features = embed_dim, hidden_features = embed_dim, out_features = embed_dim)\n",
    "\n",
    "    def forward(self, x):\n",
    "        b, c, h, w = x.size()\n",
    "        x_0, x_1 = x.chunk(2,dim = 1)  \n",
    "        \n",
    "    # local block \n",
    "        local = self.local(self.local_11conv(x_0))\n",
    "        \n",
    "    # Globel block    \n",
    "        Globel = self.GlobelBlock(self.global_11conv(x_1))\n",
    "\n",
    "    # concat Globel + local\n",
    "        x = torch.cat([local,Globel], dim=1)\n",
    "        x = self.conv1_1(x)\n",
    "\n",
    "        return x    \n",
    "\n",
    "class SBA(nn.Module):\n",
    "\n",
    "    def __init__(self,input_dim = 64):\n",
    "        super().__init__()\n",
    "\n",
    "        self.input_dim = input_dim\n",
    "\n",
    "        self.d_in1 = BasicConv2d(input_dim//2, input_dim//2, 1)\n",
    "        self.d_in2 = BasicConv2d(input_dim//2, input_dim//2, 1)       \n",
    "                \n",
    "\n",
    "        self.conv = nn.Sequential(BasicConv2d(input_dim, input_dim, 3,1,1), nn.Conv2d(input_dim, 1, kernel_size=1, bias=False))\n",
    "        self.fc1 = nn.Conv2d(input_dim, input_dim//2, kernel_size=1, bias=False)\n",
    "        self.fc2 = nn.Conv2d(input_dim, input_dim//2, kernel_size=1, bias=False)\n",
    "        \n",
    "        self.Sigmoid = nn.Sigmoid()\n",
    "        \n",
    "    def forward(self, H_feature, L_feature):\n",
    "\n",
    "        L_feature = self.fc1(L_feature)\n",
    "        H_feature = self.fc2(H_feature)\n",
    "        \n",
    "        g_L_feature =  self.Sigmoid(L_feature)\n",
    "        g_H_feature = self.Sigmoid(H_feature)\n",
    "        \n",
    "        L_feature = self.d_in1(L_feature)\n",
    "        H_feature = self.d_in2(H_feature)\n",
    "\n",
    "\n",
    "        L_feature = L_feature + L_feature * g_L_feature + (1 - g_L_feature) * Upsample(g_H_feature * H_feature, size= L_feature.size()[2:], align_corners=False)\n",
    "        H_feature = H_feature + H_feature * g_H_feature + (1 - g_H_feature) * Upsample(g_L_feature * L_feature, size= H_feature.size()[2:], align_corners=False) \n",
    "        \n",
    "        H_feature = Upsample(H_feature, size = L_feature.size()[2:])\n",
    "        out = self.conv(torch.cat([H_feature,L_feature], dim=1))\n",
    "        return out\n",
    "        \n",
    "            \n",
    "class DuAT(nn.Module):\n",
    "    def __init__(self, dim=32, dims= [64, 128, 320, 512], learning_rate=None,  loss_fn=None, optimizer=None, device=None, weight_decay=None):\n",
    "        super(DuAT, self).__init__()\n",
    "\n",
    "                    \n",
    "        if (device is None):\n",
    "            self.device = DEVICE\n",
    "        else:\n",
    "            self.device = device\n",
    "\n",
    "        if (learning_rate is None):\n",
    "            self.learning_rate = 1e-5\n",
    "        else:\n",
    "            self.learning_rate = learning_rate\n",
    "        \n",
    "        if (weight_decay is None):\n",
    "            self.weight_decay = 1e-5\n",
    "        else:\n",
    "            self.weight_decay = weight_decay\n",
    "\n",
    "        self.dims = dims\n",
    "\n",
    "        self.pad = False\n",
    "        self.backbone = pvt_v2_b2()  # [64, 128, 320, 512]\n",
    "        \n",
    "        \n",
    "        c1_in_channels, c2_in_channels, c3_in_channels, c4_in_channels = dims[0], dims[1], dims[2], dims[3]\n",
    "        \n",
    "\n",
    "        self.embed4 = nn.Embedding(48, c4_in_channels)\n",
    "        self.embed3 = nn.Embedding(96, c3_in_channels)\n",
    "        self.embed2 = nn.Embedding(192, c2_in_channels)\n",
    "        self.embed1 = nn.Embedding(384, c1_in_channels)\n",
    "\n",
    "        self.bn4 = nn.BatchNorm2d(c4_in_channels)\n",
    "        self.bn3 = nn.BatchNorm2d(c3_in_channels)\n",
    "        self.bn2 = nn.BatchNorm2d(c2_in_channels)\n",
    "        self.bn1 = nn.BatchNorm2d(c1_in_channels)\n",
    "\n",
    "        self.GLSA_c4 = GLSA(input_dim=c4_in_channels, embed_dim=dim)\n",
    "        self.GLSA_c3 = GLSA(input_dim=c3_in_channels, embed_dim=dim)\n",
    "        self.GLSA_c2 = GLSA(input_dim=c2_in_channels, embed_dim=dim)\n",
    "        self.L_feature = BasicConv2d(c1_in_channels, dim, 3,1,1)\n",
    "        \n",
    "        self.SBA = SBA(input_dim = dim)\n",
    "        self.fuse = BasicConv2d(dim * 2, dim, 1)\n",
    "        self.fuse2 = nn.Sequential(BasicConv2d(dim*3, dim, 1,1),nn.BatchNorm2d(dim),nn.Conv2d(dim, 1, kernel_size=1, bias=False))\n",
    "\n",
    "        \n",
    "\n",
    "        if (loss_fn is None):\n",
    "            self.loss_fn = structure_loss\n",
    "        else:\n",
    "            self.loss_fn = loss_fn\n",
    "\n",
    "        if (optimizer is None):\n",
    "            self.optimizer = torch.optim.AdamW(self.parameters(), lr=self.learning_rate, weight_decay=self.weight_decay)\n",
    "        else:\n",
    "            self.optimizer = optimizer(self.parameters(), lr=self.learning_rate, weight_decay=self.weight_decay)\n",
    "\n",
    "        self = self.to(self.device)\n",
    "\n",
    "    def forward(self, x, mask):\n",
    "        # backbone\n",
    "        x = x.to(self.device)\n",
    "        c1, c2, c3, c4 = self.backbone(x)\n",
    "        \n",
    "        n, _, h, w = c4.shape        \n",
    "        _c4 = self.GLSA_c4(c4) # [1, 64, 11, 11]\n",
    "        _c4 = Upsample(_c4, c3.size()[2:])\n",
    "        _c3 = self.GLSA_c3(c3) # [1, 64, 22, 22]\n",
    "        _c2 = self.GLSA_c2(c2) # [1, 64, 44, 44]\n",
    "        \n",
    "        output = torch.cat([Upsample(_c4, c2.size()[2:]), Upsample(_c3, c2.size()[2:]), _c2], dim=1)\n",
    "        \n",
    "        L_feature = self.L_feature(c1)  # [1, 64, 88, 88]\n",
    "        H_feature = self.fuse(torch.cat([_c4, _c3], dim=1))\n",
    "        H_feature = Upsample(H_feature,c2.size()[2:])\n",
    "        \n",
    "        output2 = self.SBA(H_feature,L_feature)\n",
    "        h = x.shape[2] // 4\n",
    "        output = F.interpolate(output, scale_factor=8, mode='bilinear')\n",
    "        # output = torch.cat([output, Upsample(c1, output.size()[2:])], dim=1)\n",
    "        output = self.fuse2(output)\n",
    "        # return torch.sigmoid(output)\n",
    "        output2 = F.interpolate(output2, scale_factor=4, mode='bilinear')\n",
    "        if (self.pad):\n",
    "            output = output[:,:,h:-h,:]\n",
    "            output2 = output2[:,:,h:-h,:]\n",
    "        \n",
    "        return output, output2\n",
    "        # return F.sigmoid(output), F.sigmoid(output2)\n",
    "        \n",
    "    def fit(self, X, mask, y):\n",
    "        X, mask, y = X.to(self.device), mask.to(self.device), y.to(self.device)\n",
    "        h1, h2 = self(X, mask)\n",
    "        self.optimizer.zero_grad()\n",
    "        loss = self.loss_fn(h1, y) + self.loss_fn(h2, y)\n",
    "        loss.backward()\n",
    "        self.optimizer.step()\n",
    "        loss = loss.item()\n",
    "        pred = (h2 + h1 > 0).int()\n",
    "        numt = torch.sum(mask)\n",
    "        TP = torch.sum(torch.minimum(y, pred)).item() / numt\n",
    "        TN = torch.sum(torch.minimum(1-y, 1-pred) * mask).item() / numt\n",
    "        FN = torch.sum(torch.minimum(y, 1-pred)).item() / numt\n",
    "        FP = torch.sum(torch.minimum(1-y, pred)).item() / numt\n",
    "        if (torch.any(TP < 0) or torch.any(TN < 0) or torch.any(FN < 0) or torch.any(FP < 0)):\n",
    "            raise AssertionError()\n",
    "        return (loss, torch.tensor([TP, FP, FN, TN]))\n",
    "\n",
    "    def test(self, X, mask, y):\n",
    "        X, mask, y = X.to(self.device), mask.to(self.device), y.to(self.device)\n",
    "        h1, h2 = self(X, mask)\n",
    "        loss = self.loss_fn(h1, y) + self.loss_fn(h2, y)\n",
    "        loss = loss.item()\n",
    "        pred = (h2 + h1 > 0).int()\n",
    "        numt = torch.sum(mask)\n",
    "        TP = torch.sum(torch.minimum(y, pred)).item() / numt\n",
    "        TN = torch.sum(torch.minimum(1-y, 1-pred) * mask).item() / numt\n",
    "        FN = torch.sum(torch.minimum(y, 1-pred)).item() / numt\n",
    "        FP = torch.sum(torch.minimum(1-y, pred)).item() / numt\n",
    "        return (loss, torch.tensor([TP, FP, FN, TN]))\n"
   ]
  },
  {
   "cell_type": "code",
   "execution_count": 37,
   "id": "c592329d-5e48-4161-b7e9-d0456d298b8a",
   "metadata": {},
   "outputs": [],
   "source": [
    "import torch\n",
    "import torch.nn as nn\n",
    "import torch.nn.functional as F\n",
    "# from lib.pvtv2 import pvt_v2_b2\n",
    "import os\n",
    "import torch\n",
    "import torch.nn as nn\n",
    "import torch.nn.functional as F\n",
    "# from mmcv.cnn import ConvModule\n",
    "from torch.nn import Conv2d, UpsamplingBilinear2d\n",
    "import warnings\n",
    "import torch\n",
    "# from mmcv.cnn import constant_init, kaiming_init\n",
    "from torch import nn\n",
    "from torchvision.transforms.functional import normalize\n",
    "from PVTv2.pvtv2 import pvt_v2_b2\n",
    "warnings.filterwarnings('ignore')\n",
    "\n",
    "class SpatBlock(nn.Module):\n",
    "    def __init__(self, dim=32, order=5):\n",
    "        super().__init__()\n",
    "        self.dim = dim\n",
    "        self.order = order\n",
    "        self.device = 'cuda' if torch.cuda.is_available() else 'cpu'\n",
    "\n",
    "        self.blocks = nn.ModuleList([nn.Conv2d(1, dim, 1)] + [nn.Conv2d(1, dim, 1, bias=False) for _ in range(order-1)])\n",
    "\n",
    "        self = self.to(self.device)\n",
    "\n",
    "    def forward(self, x):\n",
    "        B, C, H, W = x.shape\n",
    "\n",
    "        pos = torch.arange(W) / W\n",
    "        pos = torch.reshape(pos, (1, 1, 1, W)).to(self.device)\n",
    "        \n",
    "        func = torch.zeros_like(x)\n",
    "\n",
    "        for i, block in enumerate(self.blocks):\n",
    "            func += block(pos**(i+1))\n",
    "\n",
    "        out = F.tanh(func) * x\n",
    "        \n",
    "        return out\n",
    "        \n",
    "\n",
    "def structure_loss(pred, mask):\n",
    "    weit = 1 + 5 * torch.abs(F.avg_pool2d(mask, kernel_size=31, stride=1, padding=15) - mask)\n",
    "    wbce = F.binary_cross_entropy_with_logits(pred, mask, reduce='none')\n",
    "    wbce = (weit * wbce).sum(dim=(2, 3)) / weit.sum(dim=(2, 3))\n",
    "\n",
    "    pred = torch.sigmoid(pred)\n",
    "    inter = ((pred * mask) * weit).sum(dim=(2, 3))\n",
    "    union = ((pred + mask) * weit).sum(dim=(2, 3))\n",
    "    wiou = 1 - (inter + 1) / (union - inter + 1)\n",
    "\n",
    "    return (wbce + wiou).mean()\n",
    "\n",
    "# def structure_loss(pred, mask):\n",
    "#     pred = torch.sigmoid(pred)\n",
    "#     loss1 = F.binary_cross_entropy(pred, mask)\n",
    "#     tp = pred * mask\n",
    "#     fp = pred * (1 - mask)\n",
    "#     fn = (1 - pred) * mask\n",
    "#     tp = torch.mean(tp, dim=0)\n",
    "#     fp = torch.mean(fp, dim=0)\n",
    "#     fn = torch.mean(fn, dim=0)\n",
    "#     iou = tp / (tp + fp + fn)\n",
    "#     iou = torch.mean(iou)\n",
    "#     loss2 = 1 - iou\n",
    "#     return loss1 + loss2\n",
    "\n",
    "class BasicConv2d(nn.Module):\n",
    "    def __init__(self, in_planes, out_planes, kernel_size, stride=1, padding=0, dilation=1):\n",
    "        super(BasicConv2d, self).__init__()\n",
    "\n",
    "        self.conv = nn.Conv2d(in_planes, out_planes,\n",
    "                              kernel_size=kernel_size, stride=stride,\n",
    "                              padding=padding, dilation=dilation, bias=False)\n",
    "        self.bn = nn.BatchNorm2d(out_planes)\n",
    "        self.relu = nn.ReLU(inplace=True)\n",
    "\n",
    "    def forward(self, x):\n",
    "        x = self.conv(x)\n",
    "        x = self.bn(x)\n",
    "        x = self.relu(x)\n",
    "        return x\n",
    "        \n",
    "class Block(nn.Sequential):\n",
    "    def __init__(self, input_num, num1, num2, dilation_rate, drop_out, bn_start=True, norm_layer=nn.BatchNorm2d):\n",
    "        super(Block, self).__init__()\n",
    "        if bn_start:\n",
    "            self.add_module('norm1', norm_layer(input_num)),\n",
    "\n",
    "        self.add_module('relu1', nn.ReLU(inplace=True)),\n",
    "        self.add_module('conv1', nn.Conv2d(in_channels=input_num, out_channels=num1, kernel_size=1)),\n",
    "\n",
    "        self.add_module('norm2', norm_layer(num1)),\n",
    "        self.add_module('relu2', nn.ReLU(inplace=True)),\n",
    "        self.add_module('conv2', nn.Conv2d(in_channels=num1, out_channels=num2, kernel_size=3,\n",
    "                                            dilation=dilation_rate, padding=dilation_rate)),\n",
    "        self.drop_rate = drop_out\n",
    "\n",
    "    def forward(self, _input):\n",
    "        feature = super(Block, self).forward(_input)\n",
    "        if self.drop_rate > 0:\n",
    "            feature = F.dropout2d(feature, p=self.drop_rate, training=self.training)\n",
    "        return feature\n",
    "\n",
    "\n",
    "def Upsample(x, size, align_corners = False):\n",
    "    \"\"\"\n",
    "    Wrapper Around the Upsample Call\n",
    "    \"\"\"\n",
    "    return nn.functional.interpolate(x, size=size, mode='bilinear', align_corners=align_corners)\n",
    "\n",
    "    \n",
    "# def last_zero_init(m):\n",
    "#     if isinstance(m, nn.Sequential):\n",
    "#         constant_init(m[-1], val=0)\n",
    "#     else:\n",
    "#         constant_init(m, val=0)\n",
    "\n",
    "\n",
    "class ContextBlock(nn.Module):\n",
    "\n",
    "    def __init__(self,\n",
    "                 inplanes,\n",
    "                 ratio,\n",
    "                 pooling_type='att',\n",
    "                 fusion_types=('channel_mul', )):\n",
    "        super(ContextBlock, self).__init__()\n",
    "        assert pooling_type in ['avg', 'att']\n",
    "        assert isinstance(fusion_types, (list, tuple))\n",
    "        valid_fusion_types = ['channel_add', 'channel_mul']\n",
    "        assert all([f in valid_fusion_types for f in fusion_types])\n",
    "        assert len(fusion_types) > 0, 'at least one fusion should be used'\n",
    "        self.inplanes = inplanes\n",
    "        self.ratio = ratio\n",
    "        self.planes = int(inplanes * ratio)\n",
    "        self.pooling_type = pooling_type\n",
    "        self.fusion_types = fusion_types\n",
    "        if pooling_type == 'att':\n",
    "            self.conv_mask = nn.Conv2d(inplanes, 1, kernel_size=1)\n",
    "            self.softmax = nn.Softmax(dim=2)\n",
    "        else:\n",
    "            self.avg_pool = nn.AdaptiveAvgPool2d(1)\n",
    "        if 'channel_add' in fusion_types:\n",
    "            self.channel_add_conv = nn.Sequential(\n",
    "                nn.Conv2d(self.inplanes, self.planes, kernel_size=1),\n",
    "                nn.LayerNorm([self.planes, 1, 1]),\n",
    "                nn.ReLU(inplace=True),  # yapf: disable\n",
    "                nn.Conv2d(self.planes, self.inplanes, kernel_size=1))\n",
    "        else:\n",
    "            self.channel_add_conv = None\n",
    "        if 'channel_mul' in fusion_types:\n",
    "            self.channel_mul_conv = nn.Sequential(\n",
    "                nn.Conv2d(self.inplanes, self.planes, kernel_size=1),\n",
    "                nn.LayerNorm([self.planes, 1, 1]),\n",
    "                nn.ReLU(inplace=True),  # yapf: disable\n",
    "                nn.Conv2d(self.planes, self.inplanes, kernel_size=1))\n",
    "        else:\n",
    "            self.channel_mul_conv = None\n",
    "\n",
    "    def spatial_pool(self, x):\n",
    "        batch, channel, height, width = x.size()\n",
    "        if self.pooling_type == 'att':\n",
    "            input_x = x\n",
    "            # [N, C, H * W]\n",
    "            input_x = input_x.view(batch, channel, height * width)\n",
    "            # [N, 1, C, H * W]\n",
    "            input_x = input_x.unsqueeze(1)\n",
    "            # [N, 1, H, W]\n",
    "            context_mask = self.conv_mask(x)\n",
    "            # [N, 1, H * W]\n",
    "            context_mask = context_mask.view(batch, 1, height * width)\n",
    "            # [N, 1, H * W]\n",
    "            context_mask = self.softmax(context_mask)\n",
    "            # [N, 1, H * W, 1]\n",
    "            context_mask = context_mask.unsqueeze(-1)\n",
    "            # [N, 1, C, 1]\n",
    "            context = torch.matmul(input_x, context_mask)\n",
    "            # [N, C, 1, 1]\n",
    "            context = context.view(batch, channel, 1, 1)\n",
    "        else:\n",
    "            # [N, C, 1, 1]\n",
    "            context = self.avg_pool(x)\n",
    "\n",
    "        return context\n",
    "\n",
    "    def forward(self, x):\n",
    "        # [N, C, 1, 1]\n",
    "        context = self.spatial_pool(x)\n",
    "\n",
    "        out = x\n",
    "        if self.channel_mul_conv is not None:\n",
    "            # [N, C, 1, 1]\n",
    "            channel_mul_term = torch.sigmoid(self.channel_mul_conv(context))\n",
    "            out = out + out * channel_mul_term\n",
    "        if self.channel_add_conv is not None:\n",
    "            # [N, C, 1, 1]\n",
    "            channel_add_term = self.channel_add_conv(context)\n",
    "            out = out + channel_add_term\n",
    "\n",
    "        return out\n",
    "\n",
    "\n",
    "\n",
    "class ChannelAttention(nn.Module):\n",
    "    def __init__(self, in_planes, ratio=16):\n",
    "        super(ChannelAttention, self).__init__()\n",
    "        self.avg_pool = nn.AdaptiveAvgPool2d(1)\n",
    "        self.max_pool = nn.AdaptiveMaxPool2d(1)\n",
    "\n",
    "        self.fc1   = nn.Conv2d(in_planes, in_planes // 16, 1, bias=False)\n",
    "        self.relu1 = nn.ReLU()\n",
    "        self.fc2   = nn.Conv2d(in_planes // 16, in_planes, 1, bias=False)\n",
    "\n",
    "        self.sigmoid = nn.Sigmoid()\n",
    "\n",
    "    def forward(self, x):\n",
    "        avg_out = self.fc2(self.relu1(self.fc1(self.avg_pool(x))))\n",
    "        max_out = self.fc2(self.relu1(self.fc1(self.max_pool(x))))\n",
    "        out = avg_out + max_out\n",
    "        return self.sigmoid(out)\n",
    "\n",
    "\n",
    "class SpatialAttention(nn.Module):\n",
    "    def __init__(self, kernel_size=7):\n",
    "        super(SpatialAttention, self).__init__()\n",
    "\n",
    "        assert kernel_size in (3, 7), 'kernel size must be 3 or 7'\n",
    "        padding = 3 if kernel_size == 7 else 1\n",
    "\n",
    "        self.conv1 = nn.Conv2d(2, 1, kernel_size, padding=padding, bias=False)\n",
    "        self.sigmoid = nn.Sigmoid()\n",
    "\n",
    "    def forward(self, x):\n",
    "        avg_out = torch.mean(x, dim=1, keepdim=True)\n",
    "        max_out, _ = torch.max(x, dim=1, keepdim=True)\n",
    "        x = torch.cat([avg_out, max_out], dim=1)\n",
    "        x = self.conv1(x)\n",
    "        return self.sigmoid(x)\n",
    "\n",
    "\n",
    "class ConvBranch(nn.Module):\n",
    "    def __init__(self, in_features, hidden_features = None, out_features = None):\n",
    "        super().__init__()\n",
    "        hidden_features = hidden_features or in_features\n",
    "        out_features = out_features or in_features\n",
    "        self.conv1 = nn.Sequential(\n",
    "            nn.Conv2d(in_features, hidden_features, 1, bias=False),\n",
    "            nn.BatchNorm2d(hidden_features),\n",
    "            nn.ReLU(inplace=True)\n",
    "        )\n",
    "        self.conv2 = nn.Sequential(\n",
    "            nn.Conv2d(hidden_features, hidden_features, 3, padding=1, groups=hidden_features, bias=False),\n",
    "            nn.BatchNorm2d(hidden_features),\n",
    "            nn.ReLU(inplace=True)\n",
    "        )\n",
    "        self.conv3 = nn.Sequential(\n",
    "            nn.Conv2d(hidden_features, hidden_features, 1, bias=False),\n",
    "            nn.BatchNorm2d(hidden_features),\n",
    "            nn.ReLU(inplace=True)\n",
    "        )\n",
    "        self.conv4 = nn.Sequential(\n",
    "            nn.Conv2d(hidden_features, hidden_features, 3, padding=1, groups=hidden_features, bias=False),\n",
    "            nn.BatchNorm2d(hidden_features),\n",
    "            nn.ReLU(inplace=True)\n",
    "        )\n",
    "        self.conv5 = nn.Sequential(\n",
    "            nn.Conv2d(hidden_features, hidden_features, 1, bias=False),\n",
    "            nn.BatchNorm2d(hidden_features),\n",
    "            nn.SiLU(inplace=True)\n",
    "        )\n",
    "        self.conv6 = nn.Sequential(\n",
    "            nn.Conv2d(hidden_features, hidden_features, 3, padding=1, groups=hidden_features, bias=False),\n",
    "            nn.BatchNorm2d(hidden_features),\n",
    "            nn.ReLU(inplace=True)\n",
    "        )\n",
    "        self.conv7 = nn.Sequential(\n",
    "            nn.Conv2d(hidden_features, out_features, 1, bias=False),\n",
    "            nn.ReLU(inplace=True)\n",
    "        )\n",
    "        self.ca = ChannelAttention(64)\n",
    "        self.sa = SpatialAttention()\n",
    "        self.sigmoid_spatial = nn.Sigmoid()\n",
    "    \n",
    "    def forward(self, x):\n",
    "        res1 = x\n",
    "        res2 = x\n",
    "        x = self.conv1(x)        \n",
    "        x = x + self.conv2(x)\n",
    "        x = self.conv3(x)\n",
    "        x = x + self.conv4(x)\n",
    "        x = self.conv5(x)\n",
    "        x = x + self.conv6(x)\n",
    "        x = self.conv7(x)\n",
    "        x_mask = self.sigmoid_spatial(x)\n",
    "        res1 = res1 * x_mask\n",
    "        return res2 + res1\n",
    "\n",
    "              \n",
    "class GLSA(nn.Module):\n",
    "\n",
    "    def __init__(self, input_dim=512, embed_dim=32, k_s=3):\n",
    "        super().__init__()\n",
    "                      \n",
    "        self.conv1_1 = BasicConv2d(embed_dim*2,embed_dim, 1)\n",
    "        self.conv1_1_1 = BasicConv2d(input_dim//2,embed_dim,1)\n",
    "        self.local_11conv = nn.Conv2d(input_dim//2,embed_dim,1)\n",
    "        self.global_11conv = nn.Conv2d(input_dim//2,embed_dim,1)\n",
    "        self.GlobelBlock = ContextBlock(inplanes= embed_dim, ratio=2)\n",
    "        self.local = ConvBranch(in_features = embed_dim, hidden_features = embed_dim, out_features = embed_dim)\n",
    "\n",
    "    def forward(self, x):\n",
    "        b, c, h, w = x.size()\n",
    "        x_0, x_1 = x.chunk(2,dim = 1)  \n",
    "        \n",
    "    # local block \n",
    "        local = self.local(self.local_11conv(x_0))\n",
    "        \n",
    "    # Globel block    \n",
    "        Globel = self.GlobelBlock(self.global_11conv(x_1))\n",
    "\n",
    "    # concat Globel + local\n",
    "        x = torch.cat([local,Globel], dim=1)\n",
    "        x = self.conv1_1(x)\n",
    "\n",
    "        return x    \n",
    "\n",
    "class SBA(nn.Module):\n",
    "\n",
    "    def __init__(self,input_dim = 64):\n",
    "        super().__init__()\n",
    "\n",
    "        self.input_dim = input_dim\n",
    "\n",
    "        self.d_in1 = BasicConv2d(input_dim//2, input_dim//2, 1)\n",
    "        self.d_in2 = BasicConv2d(input_dim//2, input_dim//2, 1)       \n",
    "                \n",
    "\n",
    "        self.conv = nn.Sequential(BasicConv2d(input_dim, input_dim, 3,1,1), nn.Conv2d(input_dim, 1, kernel_size=1, bias=False))\n",
    "        self.fc1 = nn.Conv2d(input_dim, input_dim//2, kernel_size=1, bias=False)\n",
    "        self.fc2 = nn.Conv2d(input_dim, input_dim//2, kernel_size=1, bias=False)\n",
    "        \n",
    "        self.Sigmoid = nn.Sigmoid()\n",
    "        \n",
    "    def forward(self, H_feature, L_feature):\n",
    "\n",
    "        L_feature = self.fc1(L_feature)\n",
    "        H_feature = self.fc2(H_feature)\n",
    "        \n",
    "        g_L_feature =  self.Sigmoid(L_feature)\n",
    "        g_H_feature = self.Sigmoid(H_feature)\n",
    "        \n",
    "        L_feature = self.d_in1(L_feature)\n",
    "        H_feature = self.d_in2(H_feature)\n",
    "\n",
    "\n",
    "        L_feature = L_feature + L_feature * g_L_feature + (1 - g_L_feature) * Upsample(g_H_feature * H_feature, size= L_feature.size()[2:], align_corners=False)\n",
    "        H_feature = H_feature + H_feature * g_H_feature + (1 - g_H_feature) * Upsample(g_L_feature * L_feature, size= H_feature.size()[2:], align_corners=False) \n",
    "        \n",
    "        H_feature = Upsample(H_feature, size = L_feature.size()[2:])\n",
    "        out = self.conv(torch.cat([H_feature,L_feature], dim=1))\n",
    "        return out\n",
    "        \n",
    "            \n",
    "class DuAT(nn.Module):\n",
    "    def __init__(self, dim=32, dims= [64, 128, 320, 512], learning_rate=None,  loss_fn=None, optimizer=None, device=None, weight_decay=None):\n",
    "        super(DuAT, self).__init__()\n",
    "\n",
    "                    \n",
    "        if (device is None):\n",
    "            self.device = DEVICE\n",
    "        else:\n",
    "            self.device = device\n",
    "\n",
    "        if (learning_rate is None):\n",
    "            self.learning_rate = 1e-5\n",
    "        else:\n",
    "            self.learning_rate = learning_rate\n",
    "        \n",
    "        if (weight_decay is None):\n",
    "            self.weight_decay = 1e-5\n",
    "        else:\n",
    "            self.weight_decay = weight_decay\n",
    "\n",
    "        self.dims = dims\n",
    "\n",
    "        # self.pad = False\n",
    "        self.backbone = pvt_v2_b2()  # [64, 128, 320, 512]\n",
    "        \n",
    "        c1_in_channels, c2_in_channels, c3_in_channels, c4_in_channels = dims[0], dims[1], dims[2], dims[3]\n",
    "\n",
    "        self.shuffle4 = nn.Conv2d(c4_in_channels, c4_in_channels, 1)\n",
    "        self.shuffle3 = nn.Conv2d(c3_in_channels, c3_in_channels, 1)\n",
    "        self.shuffle2 = nn.Conv2d(c2_in_channels, c2_in_channels, 1)\n",
    "        self.shuffle1 = nn.Conv2d(c1_in_channels, c1_in_channels, 1)\n",
    "\n",
    "        self.bn4 = nn.BatchNorm2d(c4_in_channels)\n",
    "        self.bn3 = nn.BatchNorm2d(c3_in_channels)\n",
    "        self.bn2 = nn.BatchNorm2d(c2_in_channels)\n",
    "        self.bn1 = nn.BatchNorm2d(c1_in_channels)\n",
    "\n",
    "        self.embed4 = SpatBlock(dim=c4_in_channels)\n",
    "        self.embed3 = SpatBlock(dim=c3_in_channels)\n",
    "        self.embed2 = SpatBlock(dim=c2_in_channels)\n",
    "        self.embed1 = SpatBlock(dim=c1_in_channels)\n",
    "\n",
    "        self.bn4 = nn.BatchNorm2d(c4_in_channels)\n",
    "        self.bn3 = nn.BatchNorm2d(c3_in_channels)\n",
    "        self.bn2 = nn.BatchNorm2d(c2_in_channels)\n",
    "        self.bn1 = nn.BatchNorm2d(c1_in_channels)\n",
    "\n",
    "        self.GLSA_c4 = GLSA(input_dim=c4_in_channels, embed_dim=dim)\n",
    "        self.GLSA_c3 = GLSA(input_dim=c3_in_channels, embed_dim=dim)\n",
    "        self.GLSA_c2 = GLSA(input_dim=c2_in_channels, embed_dim=dim)\n",
    "        self.L_feature = BasicConv2d(c1_in_channels, dim, 3,1,1)\n",
    "        \n",
    "        self.SBA = SBA(input_dim = dim)\n",
    "        self.fuse = BasicConv2d(dim * 2, dim, 1)\n",
    "        self.fuse2 = nn.Sequential(BasicConv2d(dim*3, dim, 1,1),nn.BatchNorm2d(dim),nn.Conv2d(dim, 1, kernel_size=1, bias=False))\n",
    "\n",
    "        \n",
    "\n",
    "        if (loss_fn is None):\n",
    "            self.loss_fn = structure_loss\n",
    "        else:\n",
    "            self.loss_fn = loss_fn\n",
    "\n",
    "        if (optimizer is None):\n",
    "            self.optimizer = torch.optim.AdamW(self.parameters(), lr=self.learning_rate, weight_decay=self.weight_decay)\n",
    "        else:\n",
    "            self.optimizer = optimizer(self.parameters(), lr=self.learning_rate, weight_decay=self.weight_decay)\n",
    "\n",
    "        self = self.to(self.device)\n",
    "\n",
    "    def forward(self, x, mask):\n",
    "        # backbone\n",
    "        x = x.to(self.device)\n",
    "        c1, c2, c3, c4 = self.backbone(x)\n",
    "\n",
    "\n",
    "        \n",
    "        # c1 = self.bn1(self.shuffle1(c1))\n",
    "        # c2 = self.bn2(self.shuffle2(c2))\n",
    "        # c3 = self.bn3(self.shuffle3(c3))\n",
    "        # c4 = self.bn4(self.shuffle4(c4))\n",
    "        \n",
    "        # c1 = torch.cat([c1,\n",
    "        #                 torch.arange(c1.shape[2], dtype=c1.dtype, device=self.device).view(1,1,-1,1).repeat(c1.shape[0], 1, 1, c1.shape[3]) / c1.shape[2],\n",
    "        #                 torch.arange(c1.shape[3], dtype=c1.dtype, device=self.device).view(1,1,1,-1).repeat(c1.shape[0], 1, c1.shape[2], 1) / c1.shape[3]], dim=1)\n",
    "        # c2 = torch.cat([c2,\n",
    "        #                 torch.arange(c2.shape[2], dtype=c2.dtype, device=self.device).view(1,1,-1,1).repeat(c2.shape[0], 1, 1, c2.shape[3]) / c2.shape[2],\n",
    "        #                 torch.arange(c2.shape[3], dtype=c2.dtype, device=self.device).view(1,1,1,-1).repeat(c2.shape[0], 1, c2.shape[2], 1) / c2.shape[3]], dim=1)\n",
    "        # c3 = torch.cat([c3,\n",
    "        #                 torch.arange(c3.shape[2], dtype=c3.dtype, device=self.device).view(1,1,-1,1).repeat(c1.shape[0], 1, 1, c3.shape[3]) / c3.shape[2],\n",
    "        #                 torch.arange(c3.shape[3], dtype=c3.dtype, device=self.device).view(1,1,1,-1).repeat(c1.shape[0], 1, c3.shape[2], 1) / c3.shape[3]], dim=1)\n",
    "        # c4 = torch.cat([c4,\n",
    "        #                 torch.arange(c4.shape[2], dtype=c4.dtype, device=self.device).view(1,1,-1,1).repeat(c4.shape[0], 1, 1, c4.shape[3]) / c4.shape[2],\n",
    "        #                 torch.arange(c4.shape[3], dtype=c4.dtype, device=self.device).view(1,1,1,-1).repeat(c4.shape[0], 1, c4.shape[2], 1) / c4.shape[3]], dim=1)\n",
    "\n",
    "        c1 = self.bn1(self.embed1(c1))\n",
    "        c2 = self.bn2(self.embed2(c2))\n",
    "        c3 = self.bn3(self.embed3(c3))\n",
    "        c4 = self.bn4(self.embed4(c4))\n",
    "        \n",
    "        n, _, h, w = c4.shape        \n",
    "        _c4 = self.GLSA_c4(c4) # [1, 64, 11, 11]\n",
    "        _c4 = Upsample(_c4, c3.size()[2:])\n",
    "        _c3 = self.GLSA_c3(c3) # [1, 64, 22, 22]\n",
    "        _c2 = self.GLSA_c2(c2) # [1, 64, 44, 44]\n",
    "        \n",
    "        output = torch.cat([Upsample(_c4, c2.size()[2:]), Upsample(_c3, c2.size()[2:]), _c2], dim=1)\n",
    "        \n",
    "        L_feature = self.L_feature(c1)  # [1, 64, 88, 88]\n",
    "        H_feature = self.fuse(torch.cat([_c4, _c3], dim=1))\n",
    "        H_feature = Upsample(H_feature,c2.size()[2:])\n",
    "        \n",
    "        output2 = self.SBA(H_feature,L_feature)\n",
    "        h = x.shape[2] // 4\n",
    "        output = F.interpolate(output, scale_factor=8, mode='bicubic')\n",
    "        # output = torch.cat([output, Upsample(c1, output.size()[2:])], dim=1)\n",
    "        output = self.fuse2(output)\n",
    "        # return torch.sigmoid(output)\n",
    "        output2 = F.interpolate(output2, scale_factor=4, mode='bicubic')\n",
    "\n",
    "        \n",
    "        return output, output2\n",
    "        # return F.sigmoid(output[:,:,h:-h,:])\n",
    "        \n",
    "    def fit(self, X, mask, y):\n",
    "        X, mask, y = X.to(self.device), mask.to(self.device), y.to(self.device)\n",
    "        h1, h2 = self(X, mask)\n",
    "        self.optimizer.zero_grad()\n",
    "        loss = self.loss_fn(h1, y) + self.loss_fn(h2, y)\n",
    "        loss.backward()\n",
    "        self.optimizer.step()\n",
    "        loss = loss.item()\n",
    "        pred = (h2 > 0).int()\n",
    "        numt = torch.sum(mask)\n",
    "        TP = torch.sum(torch.minimum(y, pred)).item() / numt\n",
    "        TN = torch.sum(torch.minimum(1-y, 1-pred) * mask).item() / numt\n",
    "        FN = torch.sum(torch.minimum(y, 1-pred)).item() / numt\n",
    "        FP = torch.sum(torch.minimum(1-y, pred)).item() / numt\n",
    "        return (loss, torch.tensor([TP, FP, FN, TN]))\n",
    "\n",
    "    def test(self, X, mask, y):\n",
    "        X, mask, y = X.to(self.device), mask.to(self.device), y.to(self.device)\n",
    "        h1, h2 = self(X, mask)\n",
    "        loss = self.loss_fn(h1, y) + self.loss_fn(h2, y)\n",
    "        loss = loss.item()\n",
    "        pred = (h2 > 0).int()\n",
    "        numt = torch.sum(mask)\n",
    "        TP = torch.sum(torch.minimum(y, pred)).item() / numt\n",
    "        TN = torch.sum(torch.minimum(1-y, 1-pred) * mask).item() / numt\n",
    "        FN = torch.sum(torch.minimum(y, 1-pred)).item() / numt\n",
    "        FP = torch.sum(torch.minimum(1-y, pred)).item() / numt\n",
    "        return (loss, torch.tensor([TP, FP, FN, TN]))\n"
   ]
  },
  {
   "cell_type": "markdown",
   "id": "c76f92c2-5131-42a1-b1fd-861a33c41589",
   "metadata": {},
   "source": [
    "# Cartesian test"
   ]
  },
  {
   "cell_type": "code",
   "execution_count": 14,
   "id": "edcd6f73-4f3f-424e-b448-6373f468b428",
   "metadata": {},
   "outputs": [],
   "source": [
    "\n",
    "def process_tensor_cart(tensor):\n",
    "    tensor_np = tensor\n",
    "    kernel = np.ones((3,3),np.uint8)\n",
    "    closing = cv.morphologyEx(tensor_np, cv.MORPH_ERODE, kernel)\n",
    "    cleaned = closing\n",
    "    cleaned = cv.morphologyEx(cleaned, cv.MORPH_DILATE, kernel)\n",
    "    \n",
    "    kernel = np.ones((10, 10),np.uint8)\n",
    "\n",
    "    cleaned = cv.morphologyEx(cleaned, cv.MORPH_CLOSE, kernel)\n",
    "    return cleaned\n",
    "    \n",
    "process_tensor = process_tensor_cart"
   ]
  },
  {
   "cell_type": "code",
   "execution_count": 18,
   "id": "1e5ea23b-77ea-446d-811a-baf8de9e74c9",
   "metadata": {},
   "outputs": [],
   "source": [
    "results = []\n",
    "\n",
    "def output(model):\n",
    "    num_batches = len(test_dl)\n",
    "    model.eval()\n",
    "    with torch.no_grad():                \n",
    "        num_batches = len(test_dl)\n",
    "        dices = []\n",
    "        with tqdm(total=num_batches) as pbar:\n",
    "            pbar.set_description(\"Validation Dataset\")\n",
    "            for (X, mask_l, mask_s, y, filename, center) in test_dl:\n",
    "                X = X.to(DEVICE)\n",
    "                mask_s = mask_s.to(DEVICE)\n",
    "                h1, h2 = model(X, mask_s)\n",
    "                h = h1 + h2\n",
    "                h = h.detach().cpu().numpy()[0,0]\n",
    "                h = cv.resize(h, (512, 384))\n",
    "                h = np.uint8(h > .0)\n",
    "                h = process_tensor(h)\n",
    "                y_tilde = np.round(h)\n",
    "                y = to_cart(y.detach().cpu().numpy()[0,0], (int(center[0].item() * 512), int(center[1].item() * 384)))\n",
    "                y = np.round(y)\n",
    "                # print(type(y), type(y_tilde))\n",
    "                tp = np.sum(np.minimum(y_tilde, y))\n",
    "                fp = np.sum(np.minimum(y_tilde, 1 - y))\n",
    "                fn = np.sum(np.minimum(1 - y_tilde, y))\n",
    "                tn = np.sum(np.minimum(1 - y_tilde, 1 - y))\n",
    "                dice = 2 * tp / (2 * tp + fp + fn)\n",
    "                dices.append(dice)\n",
    "                # img = np.concatenate([y_tilde * 255, y * 255], axis=1)\n",
    "                # cv.imwrite(os.path.join('Final-Improv', f'{dice:.4f}-' + filename[0] + '.jpg'), img)\n",
    "                pbar.update(1)\n",
    "        print(np.mean(np.array(dices)))\n",
    "        results.append(np.mean(np.array(dices)))"
   ]
  },
  {
   "cell_type": "code",
   "execution_count": 19,
   "id": "79f9bdff-6702-40db-bed0-dcc9321728c2",
   "metadata": {},
   "outputs": [],
   "source": [
    "def raw_output(model):\n",
    "    num_batches = len(test_dl)\n",
    "    model.eval()\n",
    "    with torch.no_grad():                \n",
    "        num_batches = len(test_dl)\n",
    "        dices = []\n",
    "        with tqdm(total=num_batches) as pbar:\n",
    "            pbar.set_description(\"Test Dataset\")\n",
    "            for (X, mask_l, mask_s, y, filename, center) in test_dl:\n",
    "                X = X.to(DEVICE)\n",
    "                mask_s = mask_s.to(DEVICE)\n",
    "                h1, h2 = model(X, mask_s)\n",
    "                h = h1 + h2\n",
    "                h = h.detach().cpu().numpy()[0,0]\n",
    "                h = cv.resize(h, (512, 384))\n",
    "                h = np.uint8(h > .0)\n",
    "                y_tilde = np.round(h)\n",
    "                y = y.detach().cpu().numpy()[0,0]\n",
    "                y = np.round(y)\n",
    "                # print(type(y), type(y_tilde))\n",
    "                tp = np.sum(np.minimum(y_tilde, y))\n",
    "                fp = np.sum(np.minimum(y_tilde, 1 - y))\n",
    "                fn = np.sum(np.minimum(1 - y_tilde, y))\n",
    "                tn = np.sum(np.minimum(1 - y_tilde, 1 - y))\n",
    "                dice = 2 * tp / (2 * tp + fp + fn)\n",
    "                dices.append(dice)\n",
    "                # img = np.concatenate([y_tilde * 255, y * 255], axis=1)\n",
    "                # cv.imwrite(os.path.join('Final-Improv', f'{dice:.4f}-' + filename[0] + '.jpg'), img)\n",
    "                pbar.update(1)\n",
    "        print(np.mean(np.array(dices)))\n",
    "        results_pol.append(np.mean(np.array(dices)))"
   ]
  },
  {
   "cell_type": "markdown",
   "id": "3a9d1e2d-9c3a-4397-9418-c468fa089fca",
   "metadata": {},
   "source": [
    "# Training"
   ]
  },
  {
   "cell_type": "code",
   "execution_count": 33,
   "id": "afd73e5c-01cb-422b-a5ef-6d9e5381631b",
   "metadata": {},
   "outputs": [
    {
     "name": "stdout",
     "output_type": "stream",
     "text": [
      "Run 1 ===========\n",
      "Epoch 1 ---------------------\n",
      "Training Set -----\n"
     ]
    },
    {
     "name": "stderr",
     "output_type": "stream",
     "text": [
      "Avg. Loss: 0.3366, Avg. Accuracy: 0.9073, Avg. Dice: 0.7793: 100%|███████████████████| 519/519 [15:44<00:00,  1.82s/it]\n"
     ]
    },
    {
     "name": "stdout",
     "output_type": "stream",
     "text": [
      "Validation Set -----\n"
     ]
    },
    {
     "name": "stderr",
     "output_type": "stream",
     "text": [
      "Avg. Loss: 0.2166, Avg. Accuracy: 0.9380, Avg. Dice: 0.8319: 100%|█████████████████████| 65/65 [01:27<00:00,  1.35s/it]\n"
     ]
    },
    {
     "name": "stdout",
     "output_type": "stream",
     "text": [
      "Dice:  0.8319, Loss:  0.2166\n",
      "Epoch 2 ---------------------\n",
      "Training Set -----\n"
     ]
    },
    {
     "name": "stderr",
     "output_type": "stream",
     "text": [
      "Avg. Loss: 0.2411, Avg. Accuracy: 0.9313, Avg. Dice: 0.8256: 100%|███████████████████| 519/519 [16:24<00:00,  1.90s/it]\n"
     ]
    },
    {
     "name": "stdout",
     "output_type": "stream",
     "text": [
      "Validation Set -----\n"
     ]
    },
    {
     "name": "stderr",
     "output_type": "stream",
     "text": [
      "Avg. Loss: 0.1857, Avg. Accuracy: 0.9416, Avg. Dice: 0.8520: 100%|█████████████████████| 65/65 [01:29<00:00,  1.37s/it]\n"
     ]
    },
    {
     "name": "stdout",
     "output_type": "stream",
     "text": [
      "Dice:  0.8520, Loss:  0.1857\n",
      "Epoch 3 ---------------------\n",
      "Training Set -----\n"
     ]
    },
    {
     "name": "stderr",
     "output_type": "stream",
     "text": [
      "Avg. Loss: 0.1986, Avg. Accuracy: 0.9382, Avg. Dice: 0.8445: 100%|███████████████████| 519/519 [16:24<00:00,  1.90s/it]\n"
     ]
    },
    {
     "name": "stdout",
     "output_type": "stream",
     "text": [
      "Validation Set -----\n"
     ]
    },
    {
     "name": "stderr",
     "output_type": "stream",
     "text": [
      "Avg. Loss: 0.1867, Avg. Accuracy: 0.9403, Avg. Dice: 0.8518: 100%|█████████████████████| 65/65 [01:29<00:00,  1.38s/it]\n"
     ]
    },
    {
     "name": "stdout",
     "output_type": "stream",
     "text": [
      "Dice:  0.8518, Loss:  0.1867\n",
      "Epoch 4 ---------------------\n",
      "Training Set -----\n"
     ]
    },
    {
     "name": "stderr",
     "output_type": "stream",
     "text": [
      "Avg. Loss: 0.1773, Avg. Accuracy: 0.9429, Avg. Dice: 0.8551: 100%|███████████████████| 519/519 [16:26<00:00,  1.90s/it]\n"
     ]
    },
    {
     "name": "stdout",
     "output_type": "stream",
     "text": [
      "Validation Set -----\n"
     ]
    },
    {
     "name": "stderr",
     "output_type": "stream",
     "text": [
      "Avg. Loss: 0.1778, Avg. Accuracy: 0.9441, Avg. Dice: 0.8625: 100%|█████████████████████| 65/65 [01:29<00:00,  1.38s/it]\n"
     ]
    },
    {
     "name": "stdout",
     "output_type": "stream",
     "text": [
      "Dice:  0.8625, Loss:  0.1778\n",
      "Epoch 5 ---------------------\n",
      "Training Set -----\n"
     ]
    },
    {
     "name": "stderr",
     "output_type": "stream",
     "text": [
      "Avg. Loss: 0.1567, Avg. Accuracy: 0.9488, Avg. Dice: 0.8699: 100%|███████████████████| 519/519 [16:26<00:00,  1.90s/it]\n"
     ]
    },
    {
     "name": "stdout",
     "output_type": "stream",
     "text": [
      "Validation Set -----\n"
     ]
    },
    {
     "name": "stderr",
     "output_type": "stream",
     "text": [
      "Avg. Loss: 0.1801, Avg. Accuracy: 0.9381, Avg. Dice: 0.8445: 100%|█████████████████████| 65/65 [01:30<00:00,  1.39s/it]\n"
     ]
    },
    {
     "name": "stdout",
     "output_type": "stream",
     "text": [
      "Dice:  0.8445, Loss:  0.1801\n",
      "Epoch 6 ---------------------\n",
      "Training Set -----\n"
     ]
    },
    {
     "name": "stderr",
     "output_type": "stream",
     "text": [
      "Avg. Loss: 0.1511, Avg. Accuracy: 0.9488, Avg. Dice: 0.8706: 100%|███████████████████| 519/519 [16:28<00:00,  1.91s/it]\n"
     ]
    },
    {
     "name": "stdout",
     "output_type": "stream",
     "text": [
      "Validation Set -----\n"
     ]
    },
    {
     "name": "stderr",
     "output_type": "stream",
     "text": [
      "Avg. Loss: 0.1629, Avg. Accuracy: 0.9431, Avg. Dice: 0.8380: 100%|█████████████████████| 65/65 [01:29<00:00,  1.38s/it]\n"
     ]
    },
    {
     "name": "stdout",
     "output_type": "stream",
     "text": [
      "Dice:  0.8380, Loss:  0.1629\n",
      "Epoch 7 ---------------------\n",
      "Training Set -----\n"
     ]
    },
    {
     "name": "stderr",
     "output_type": "stream",
     "text": [
      "Avg. Loss: 0.1350, Avg. Accuracy: 0.9528, Avg. Dice: 0.8780: 100%|███████████████████| 519/519 [16:30<00:00,  1.91s/it]\n"
     ]
    },
    {
     "name": "stdout",
     "output_type": "stream",
     "text": [
      "Validation Set -----\n"
     ]
    },
    {
     "name": "stderr",
     "output_type": "stream",
     "text": [
      "Avg. Loss: 0.1686, Avg. Accuracy: 0.9425, Avg. Dice: 0.8593: 100%|█████████████████████| 65/65 [01:30<00:00,  1.39s/it]\n"
     ]
    },
    {
     "name": "stdout",
     "output_type": "stream",
     "text": [
      "Dice:  0.8593, Loss:  0.1686\n",
      "Epoch 8 ---------------------\n",
      "Training Set -----\n"
     ]
    },
    {
     "name": "stderr",
     "output_type": "stream",
     "text": [
      "Avg. Loss: 0.1228, Avg. Accuracy: 0.9566, Avg. Dice: 0.8916: 100%|███████████████████| 519/519 [16:29<00:00,  1.91s/it]\n"
     ]
    },
    {
     "name": "stdout",
     "output_type": "stream",
     "text": [
      "Validation Set -----\n"
     ]
    },
    {
     "name": "stderr",
     "output_type": "stream",
     "text": [
      "Avg. Loss: 0.1624, Avg. Accuracy: 0.9438, Avg. Dice: 0.8597: 100%|█████████████████████| 65/65 [01:30<00:00,  1.40s/it]\n"
     ]
    },
    {
     "name": "stdout",
     "output_type": "stream",
     "text": [
      "Dice:  0.8597, Loss:  0.1624\n",
      "Epoch 9 ---------------------\n",
      "Training Set -----\n"
     ]
    },
    {
     "name": "stderr",
     "output_type": "stream",
     "text": [
      "Avg. Loss: 0.1226, Avg. Accuracy: 0.9557, Avg. Dice: 0.8881: 100%|███████████████████| 519/519 [16:33<00:00,  1.91s/it]\n"
     ]
    },
    {
     "name": "stdout",
     "output_type": "stream",
     "text": [
      "Validation Set -----\n"
     ]
    },
    {
     "name": "stderr",
     "output_type": "stream",
     "text": [
      "Avg. Loss: 0.1906, Avg. Accuracy: 0.9222, Avg. Dice: 0.8192: 100%|█████████████████████| 65/65 [01:30<00:00,  1.39s/it]\n"
     ]
    },
    {
     "name": "stdout",
     "output_type": "stream",
     "text": [
      "Dice:  0.8192, Loss:  0.1906\n",
      "Epoch 10 ---------------------\n",
      "Training Set -----\n"
     ]
    },
    {
     "name": "stderr",
     "output_type": "stream",
     "text": [
      "Avg. Loss: 0.1151, Avg. Accuracy: 0.9580, Avg. Dice: 0.8931: 100%|███████████████████| 519/519 [16:41<00:00,  1.93s/it]\n"
     ]
    },
    {
     "name": "stdout",
     "output_type": "stream",
     "text": [
      "Validation Set -----\n"
     ]
    },
    {
     "name": "stderr",
     "output_type": "stream",
     "text": [
      "Avg. Loss: 0.1728, Avg. Accuracy: 0.9414, Avg. Dice: 0.8466: 100%|█████████████████████| 65/65 [01:28<00:00,  1.37s/it]\n"
     ]
    },
    {
     "name": "stdout",
     "output_type": "stream",
     "text": [
      "Dice:  0.8466, Loss:  0.1728\n",
      "Epoch 11 ---------------------\n",
      "Training Set -----\n"
     ]
    },
    {
     "name": "stderr",
     "output_type": "stream",
     "text": [
      "Avg. Loss: 0.1049, Avg. Accuracy: 0.9607, Avg. Dice: 0.9011: 100%|███████████████████| 519/519 [16:31<00:00,  1.91s/it]\n"
     ]
    },
    {
     "name": "stdout",
     "output_type": "stream",
     "text": [
      "Validation Set -----\n"
     ]
    },
    {
     "name": "stderr",
     "output_type": "stream",
     "text": [
      "Avg. Loss: 0.1893, Avg. Accuracy: 0.9410, Avg. Dice: 0.8573: 100%|█████████████████████| 65/65 [01:30<00:00,  1.40s/it]\n"
     ]
    },
    {
     "name": "stdout",
     "output_type": "stream",
     "text": [
      "Dice:  0.8573, Loss:  0.1893\n",
      "Epoch 12 ---------------------\n",
      "Training Set -----\n"
     ]
    },
    {
     "name": "stderr",
     "output_type": "stream",
     "text": [
      "Avg. Loss: 0.1015, Avg. Accuracy: 0.9620, Avg. Dice: 0.9049: 100%|███████████████████| 519/519 [16:32<00:00,  1.91s/it]\n"
     ]
    },
    {
     "name": "stdout",
     "output_type": "stream",
     "text": [
      "Validation Set -----\n"
     ]
    },
    {
     "name": "stderr",
     "output_type": "stream",
     "text": [
      "Avg. Loss: 0.1855, Avg. Accuracy: 0.9410, Avg. Dice: 0.8590: 100%|█████████████████████| 65/65 [01:29<00:00,  1.38s/it]\n"
     ]
    },
    {
     "name": "stdout",
     "output_type": "stream",
     "text": [
      "Dice:  0.8590, Loss:  0.1855\n",
      "Epoch 13 ---------------------\n",
      "Training Set -----\n"
     ]
    },
    {
     "name": "stderr",
     "output_type": "stream",
     "text": [
      "Avg. Loss: 0.0898, Avg. Accuracy: 0.9658, Avg. Dice: 0.9137: 100%|███████████████████| 519/519 [16:42<00:00,  1.93s/it]\n"
     ]
    },
    {
     "name": "stdout",
     "output_type": "stream",
     "text": [
      "Validation Set -----\n"
     ]
    },
    {
     "name": "stderr",
     "output_type": "stream",
     "text": [
      "Avg. Loss: 0.1636, Avg. Accuracy: 0.9440, Avg. Dice: 0.8654: 100%|█████████████████████| 65/65 [01:29<00:00,  1.38s/it]\n"
     ]
    },
    {
     "name": "stdout",
     "output_type": "stream",
     "text": [
      "Dice:  0.8654, Loss:  0.1636\n",
      "Epoch 14 ---------------------\n",
      "Training Set -----\n"
     ]
    },
    {
     "name": "stderr",
     "output_type": "stream",
     "text": [
      "Avg. Loss: 0.0892, Avg. Accuracy: 0.9657, Avg. Dice: 0.9131: 100%|███████████████████| 519/519 [16:37<00:00,  1.92s/it]\n"
     ]
    },
    {
     "name": "stdout",
     "output_type": "stream",
     "text": [
      "Validation Set -----\n"
     ]
    },
    {
     "name": "stderr",
     "output_type": "stream",
     "text": [
      "Avg. Loss: 0.1940, Avg. Accuracy: 0.9390, Avg. Dice: 0.8414: 100%|█████████████████████| 65/65 [01:30<00:00,  1.40s/it]\n"
     ]
    },
    {
     "name": "stdout",
     "output_type": "stream",
     "text": [
      "Dice:  0.8414, Loss:  0.1940\n",
      "Epoch 15 ---------------------\n",
      "Training Set -----\n"
     ]
    },
    {
     "name": "stderr",
     "output_type": "stream",
     "text": [
      "Avg. Loss: 0.0869, Avg. Accuracy: 0.9666, Avg. Dice: 0.9165: 100%|███████████████████| 519/519 [16:37<00:00,  1.92s/it]\n"
     ]
    },
    {
     "name": "stdout",
     "output_type": "stream",
     "text": [
      "Validation Set -----\n"
     ]
    },
    {
     "name": "stderr",
     "output_type": "stream",
     "text": [
      "Avg. Loss: 0.1594, Avg. Accuracy: 0.9467, Avg. Dice: 0.8752: 100%|█████████████████████| 65/65 [01:30<00:00,  1.39s/it]\n"
     ]
    },
    {
     "name": "stdout",
     "output_type": "stream",
     "text": [
      "Dice:  0.8752, Loss:  0.1594\n",
      "Epoch 16 ---------------------\n",
      "Training Set -----\n"
     ]
    },
    {
     "name": "stderr",
     "output_type": "stream",
     "text": [
      "Avg. Loss: 0.0788, Avg. Accuracy: 0.9693, Avg. Dice: 0.9223: 100%|███████████████████| 519/519 [16:36<00:00,  1.92s/it]\n"
     ]
    },
    {
     "name": "stdout",
     "output_type": "stream",
     "text": [
      "Validation Set -----\n"
     ]
    },
    {
     "name": "stderr",
     "output_type": "stream",
     "text": [
      "Avg. Loss: 0.2053, Avg. Accuracy: 0.9419, Avg. Dice: 0.8553: 100%|█████████████████████| 65/65 [01:30<00:00,  1.40s/it]\n"
     ]
    },
    {
     "name": "stdout",
     "output_type": "stream",
     "text": [
      "Dice:  0.8553, Loss:  0.2053\n",
      "Epoch 17 ---------------------\n",
      "Training Set -----\n"
     ]
    },
    {
     "name": "stderr",
     "output_type": "stream",
     "text": [
      "Avg. Loss: 0.0830, Avg. Accuracy: 0.9679, Avg. Dice: 0.9190: 100%|███████████████████| 519/519 [16:34<00:00,  1.92s/it]\n"
     ]
    },
    {
     "name": "stdout",
     "output_type": "stream",
     "text": [
      "Validation Set -----\n"
     ]
    },
    {
     "name": "stderr",
     "output_type": "stream",
     "text": [
      "Avg. Loss: 0.1679, Avg. Accuracy: 0.9440, Avg. Dice: 0.8582: 100%|█████████████████████| 65/65 [01:30<00:00,  1.40s/it]\n"
     ]
    },
    {
     "name": "stdout",
     "output_type": "stream",
     "text": [
      "Dice:  0.8582, Loss:  0.1679\n",
      "Epoch 18 ---------------------\n",
      "Training Set -----\n"
     ]
    },
    {
     "name": "stderr",
     "output_type": "stream",
     "text": [
      "Avg. Loss: 0.0790, Avg. Accuracy: 0.9691, Avg. Dice: 0.9216: 100%|███████████████████| 519/519 [16:40<00:00,  1.93s/it]\n"
     ]
    },
    {
     "name": "stdout",
     "output_type": "stream",
     "text": [
      "Validation Set -----\n"
     ]
    },
    {
     "name": "stderr",
     "output_type": "stream",
     "text": [
      "Avg. Loss: 0.2250, Avg. Accuracy: 0.9390, Avg. Dice: 0.8464: 100%|█████████████████████| 65/65 [01:29<00:00,  1.38s/it]\n"
     ]
    },
    {
     "name": "stdout",
     "output_type": "stream",
     "text": [
      "Dice:  0.8464, Loss:  0.2250\n",
      "Epoch 19 ---------------------\n",
      "Training Set -----\n"
     ]
    },
    {
     "name": "stderr",
     "output_type": "stream",
     "text": [
      "Avg. Loss: 0.0735, Avg. Accuracy: 0.9713, Avg. Dice: 0.9260: 100%|███████████████████| 519/519 [16:38<00:00,  1.92s/it]\n"
     ]
    },
    {
     "name": "stdout",
     "output_type": "stream",
     "text": [
      "Validation Set -----\n"
     ]
    },
    {
     "name": "stderr",
     "output_type": "stream",
     "text": [
      "Avg. Loss: 0.2082, Avg. Accuracy: 0.9414, Avg. Dice: 0.8484: 100%|█████████████████████| 65/65 [01:30<00:00,  1.40s/it]\n"
     ]
    },
    {
     "name": "stdout",
     "output_type": "stream",
     "text": [
      "Dice:  0.8484, Loss:  0.2082\n",
      "Epoch 20 ---------------------\n",
      "Training Set -----\n"
     ]
    },
    {
     "name": "stderr",
     "output_type": "stream",
     "text": [
      "Avg. Loss: 0.0723, Avg. Accuracy: 0.9721, Avg. Dice: 0.9286: 100%|███████████████████| 519/519 [16:35<00:00,  1.92s/it]\n"
     ]
    },
    {
     "name": "stdout",
     "output_type": "stream",
     "text": [
      "Validation Set -----\n"
     ]
    },
    {
     "name": "stderr",
     "output_type": "stream",
     "text": [
      "Avg. Loss: 0.2023, Avg. Accuracy: 0.9367, Avg. Dice: 0.8320: 100%|█████████████████████| 65/65 [01:29<00:00,  1.38s/it]\n"
     ]
    },
    {
     "name": "stdout",
     "output_type": "stream",
     "text": [
      "Dice:  0.8320, Loss:  0.2023\n",
      "Epoch 21 ---------------------\n",
      "Training Set -----\n"
     ]
    },
    {
     "name": "stderr",
     "output_type": "stream",
     "text": [
      "Avg. Loss: 0.0751, Avg. Accuracy: 0.9704, Avg. Dice: 0.9244: 100%|███████████████████| 519/519 [16:41<00:00,  1.93s/it]\n"
     ]
    },
    {
     "name": "stdout",
     "output_type": "stream",
     "text": [
      "Validation Set -----\n"
     ]
    },
    {
     "name": "stderr",
     "output_type": "stream",
     "text": [
      "Avg. Loss: 0.2129, Avg. Accuracy: 0.9412, Avg. Dice: 0.8563: 100%|█████████████████████| 65/65 [01:30<00:00,  1.38s/it]\n"
     ]
    },
    {
     "name": "stdout",
     "output_type": "stream",
     "text": [
      "Dice:  0.8563, Loss:  0.2129\n",
      "Epoch 22 ---------------------\n",
      "Training Set -----\n"
     ]
    },
    {
     "name": "stderr",
     "output_type": "stream",
     "text": [
      "Avg. Loss: 0.0895, Avg. Accuracy: 0.9659, Avg. Dice: 0.9120: 100%|███████████████████| 519/519 [16:38<00:00,  1.92s/it]\n"
     ]
    },
    {
     "name": "stdout",
     "output_type": "stream",
     "text": [
      "Validation Set -----\n"
     ]
    },
    {
     "name": "stderr",
     "output_type": "stream",
     "text": [
      "Avg. Loss: 0.1872, Avg. Accuracy: 0.9420, Avg. Dice: 0.8503: 100%|█████████████████████| 65/65 [01:30<00:00,  1.40s/it]\n"
     ]
    },
    {
     "name": "stdout",
     "output_type": "stream",
     "text": [
      "Dice:  0.8503, Loss:  0.1872\n",
      "Epoch 23 ---------------------\n",
      "Training Set -----\n"
     ]
    },
    {
     "name": "stderr",
     "output_type": "stream",
     "text": [
      "Avg. Loss: 0.0674, Avg. Accuracy: 0.9736, Avg. Dice: 0.9341: 100%|███████████████████| 519/519 [16:38<00:00,  1.92s/it]\n"
     ]
    },
    {
     "name": "stdout",
     "output_type": "stream",
     "text": [
      "Validation Set -----\n"
     ]
    },
    {
     "name": "stderr",
     "output_type": "stream",
     "text": [
      "Avg. Loss: 0.1940, Avg. Accuracy: 0.9439, Avg. Dice: 0.8635: 100%|█████████████████████| 65/65 [01:29<00:00,  1.38s/it]\n"
     ]
    },
    {
     "name": "stdout",
     "output_type": "stream",
     "text": [
      "Dice:  0.8635, Loss:  0.1940\n",
      "Epoch 24 ---------------------\n",
      "Training Set -----\n"
     ]
    },
    {
     "name": "stderr",
     "output_type": "stream",
     "text": [
      "Avg. Loss: 0.0632, Avg. Accuracy: 0.9754, Avg. Dice: 0.9377: 100%|███████████████████| 519/519 [16:40<00:00,  1.93s/it]\n"
     ]
    },
    {
     "name": "stdout",
     "output_type": "stream",
     "text": [
      "Validation Set -----\n"
     ]
    },
    {
     "name": "stderr",
     "output_type": "stream",
     "text": [
      "Avg. Loss: 0.2021, Avg. Accuracy: 0.9447, Avg. Dice: 0.8596: 100%|█████████████████████| 65/65 [01:30<00:00,  1.39s/it]\n"
     ]
    },
    {
     "name": "stdout",
     "output_type": "stream",
     "text": [
      "Dice:  0.8596, Loss:  0.2021\n",
      "Epoch 25 ---------------------\n",
      "Training Set -----\n"
     ]
    },
    {
     "name": "stderr",
     "output_type": "stream",
     "text": [
      "Avg. Loss: 0.0582, Avg. Accuracy: 0.9770, Avg. Dice: 0.9413: 100%|███████████████████| 519/519 [16:38<00:00,  1.92s/it]\n"
     ]
    },
    {
     "name": "stdout",
     "output_type": "stream",
     "text": [
      "Validation Set -----\n"
     ]
    },
    {
     "name": "stderr",
     "output_type": "stream",
     "text": [
      "Avg. Loss: 0.1953, Avg. Accuracy: 0.9454, Avg. Dice: 0.8722: 100%|█████████████████████| 65/65 [01:29<00:00,  1.38s/it]\n"
     ]
    },
    {
     "name": "stdout",
     "output_type": "stream",
     "text": [
      "Dice:  0.8722, Loss:  0.1953\n",
      "Epoch 26 ---------------------\n",
      "Training Set -----\n"
     ]
    },
    {
     "name": "stderr",
     "output_type": "stream",
     "text": [
      "Avg. Loss: 0.0553, Avg. Accuracy: 0.9781, Avg. Dice: 0.9430: 100%|███████████████████| 519/519 [16:37<00:00,  1.92s/it]\n"
     ]
    },
    {
     "name": "stdout",
     "output_type": "stream",
     "text": [
      "Validation Set -----\n"
     ]
    },
    {
     "name": "stderr",
     "output_type": "stream",
     "text": [
      "Avg. Loss: 0.2052, Avg. Accuracy: 0.9461, Avg. Dice: 0.8651: 100%|█████████████████████| 65/65 [01:30<00:00,  1.40s/it]\n"
     ]
    },
    {
     "name": "stdout",
     "output_type": "stream",
     "text": [
      "Dice:  0.8651, Loss:  0.2052\n",
      "Epoch 27 ---------------------\n",
      "Training Set -----\n"
     ]
    },
    {
     "name": "stderr",
     "output_type": "stream",
     "text": [
      "Avg. Loss: 0.0643, Avg. Accuracy: 0.9750, Avg. Dice: 0.9361: 100%|███████████████████| 519/519 [16:35<00:00,  1.92s/it]\n"
     ]
    },
    {
     "name": "stdout",
     "output_type": "stream",
     "text": [
      "Validation Set -----\n"
     ]
    },
    {
     "name": "stderr",
     "output_type": "stream",
     "text": [
      "Avg. Loss: 0.2013, Avg. Accuracy: 0.9445, Avg. Dice: 0.8565: 100%|█████████████████████| 65/65 [01:30<00:00,  1.39s/it]\n"
     ]
    },
    {
     "name": "stdout",
     "output_type": "stream",
     "text": [
      "Dice:  0.8565, Loss:  0.2013\n",
      "Epoch 28 ---------------------\n",
      "Training Set -----\n"
     ]
    },
    {
     "name": "stderr",
     "output_type": "stream",
     "text": [
      "Avg. Loss: 0.0615, Avg. Accuracy: 0.9758, Avg. Dice: 0.9379: 100%|███████████████████| 519/519 [16:45<00:00,  1.94s/it]\n"
     ]
    },
    {
     "name": "stdout",
     "output_type": "stream",
     "text": [
      "Validation Set -----\n"
     ]
    },
    {
     "name": "stderr",
     "output_type": "stream",
     "text": [
      "Avg. Loss: 0.2083, Avg. Accuracy: 0.9412, Avg. Dice: 0.8522: 100%|█████████████████████| 65/65 [01:29<00:00,  1.37s/it]\n"
     ]
    },
    {
     "name": "stdout",
     "output_type": "stream",
     "text": [
      "Dice:  0.8522, Loss:  0.2083\n",
      "Epoch 29 ---------------------\n",
      "Training Set -----\n"
     ]
    },
    {
     "name": "stderr",
     "output_type": "stream",
     "text": [
      "Avg. Loss: 0.0522, Avg. Accuracy: 0.9793, Avg. Dice: 0.9473: 100%|███████████████████| 519/519 [16:39<00:00,  1.93s/it]\n"
     ]
    },
    {
     "name": "stdout",
     "output_type": "stream",
     "text": [
      "Validation Set -----\n"
     ]
    },
    {
     "name": "stderr",
     "output_type": "stream",
     "text": [
      "Avg. Loss: 0.2115, Avg. Accuracy: 0.9467, Avg. Dice: 0.8672: 100%|█████████████████████| 65/65 [01:30<00:00,  1.39s/it]\n"
     ]
    },
    {
     "name": "stdout",
     "output_type": "stream",
     "text": [
      "Dice:  0.8672, Loss:  0.2115\n",
      "Epoch 30 ---------------------\n",
      "Training Set -----\n"
     ]
    },
    {
     "name": "stderr",
     "output_type": "stream",
     "text": [
      "Avg. Loss: 0.0526, Avg. Accuracy: 0.9790, Avg. Dice: 0.9463: 100%|███████████████████| 519/519 [16:42<00:00,  1.93s/it]\n"
     ]
    },
    {
     "name": "stdout",
     "output_type": "stream",
     "text": [
      "Validation Set -----\n"
     ]
    },
    {
     "name": "stderr",
     "output_type": "stream",
     "text": [
      "Avg. Loss: 0.1901, Avg. Accuracy: 0.9491, Avg. Dice: 0.8693: 100%|█████████████████████| 65/65 [01:30<00:00,  1.40s/it]\n"
     ]
    },
    {
     "name": "stdout",
     "output_type": "stream",
     "text": [
      "Dice:  0.8693, Loss:  0.1901\n",
      "Test Set -----\n"
     ]
    },
    {
     "name": "stderr",
     "output_type": "stream",
     "text": [
      "Validation Dataset: 100%|████████████████████████████████████████████████████████████| 259/259 [01:24<00:00,  3.06it/s]\n"
     ]
    },
    {
     "name": "stdout",
     "output_type": "stream",
     "text": [
      "0.1758590597200691\n"
     ]
    },
    {
     "name": "stderr",
     "output_type": "stream",
     "text": [
      "Test Dataset: 100%|██████████████████████████████████████████████████████████████████| 259/259 [01:21<00:00,  3.18it/s]\n"
     ]
    },
    {
     "name": "stdout",
     "output_type": "stream",
     "text": [
      "0.8799338612853709\n",
      "Run 2 ===========\n",
      "Epoch 1 ---------------------\n",
      "Training Set -----\n"
     ]
    },
    {
     "name": "stderr",
     "output_type": "stream",
     "text": [
      "Avg. Loss: 0.3458, Avg. Accuracy: 0.9062, Avg. Dice: 0.7780: 100%|███████████████████| 519/519 [16:37<00:00,  1.92s/it]\n"
     ]
    },
    {
     "name": "stdout",
     "output_type": "stream",
     "text": [
      "Validation Set -----\n"
     ]
    },
    {
     "name": "stderr",
     "output_type": "stream",
     "text": [
      "Avg. Loss: 0.2566, Avg. Accuracy: 0.9224, Avg. Dice: 0.8027: 100%|█████████████████████| 65/65 [01:31<00:00,  1.40s/it]\n"
     ]
    },
    {
     "name": "stdout",
     "output_type": "stream",
     "text": [
      "Dice:  0.8027, Loss:  0.2566\n",
      "Epoch 2 ---------------------\n",
      "Training Set -----\n"
     ]
    },
    {
     "name": "stderr",
     "output_type": "stream",
     "text": [
      "Avg. Loss: 0.2452, Avg. Accuracy: 0.9300, Avg. Dice: 0.8197: 100%|███████████████████| 519/519 [16:44<00:00,  1.94s/it]\n"
     ]
    },
    {
     "name": "stdout",
     "output_type": "stream",
     "text": [
      "Validation Set -----\n"
     ]
    },
    {
     "name": "stderr",
     "output_type": "stream",
     "text": [
      "Avg. Loss: 0.2026, Avg. Accuracy: 0.9373, Avg. Dice: 0.8365: 100%|█████████████████████| 65/65 [01:28<00:00,  1.37s/it]\n"
     ]
    },
    {
     "name": "stdout",
     "output_type": "stream",
     "text": [
      "Dice:  0.8365, Loss:  0.2026\n",
      "Epoch 3 ---------------------\n",
      "Training Set -----\n"
     ]
    },
    {
     "name": "stderr",
     "output_type": "stream",
     "text": [
      "Avg. Loss: 0.2057, Avg. Accuracy: 0.9369, Avg. Dice: 0.8399: 100%|███████████████████| 519/519 [16:39<00:00,  1.93s/it]\n"
     ]
    },
    {
     "name": "stdout",
     "output_type": "stream",
     "text": [
      "Validation Set -----\n"
     ]
    },
    {
     "name": "stderr",
     "output_type": "stream",
     "text": [
      "Avg. Loss: 0.1848, Avg. Accuracy: 0.9416, Avg. Dice: 0.8521: 100%|█████████████████████| 65/65 [01:29<00:00,  1.38s/it]\n"
     ]
    },
    {
     "name": "stdout",
     "output_type": "stream",
     "text": [
      "Dice:  0.8521, Loss:  0.1848\n",
      "Epoch 4 ---------------------\n",
      "Training Set -----\n"
     ]
    },
    {
     "name": "stderr",
     "output_type": "stream",
     "text": [
      "Avg. Loss: 0.1821, Avg. Accuracy: 0.9403, Avg. Dice: 0.8481: 100%|███████████████████| 519/519 [16:34<00:00,  1.92s/it]\n"
     ]
    },
    {
     "name": "stdout",
     "output_type": "stream",
     "text": [
      "Validation Set -----\n"
     ]
    },
    {
     "name": "stderr",
     "output_type": "stream",
     "text": [
      "Avg. Loss: 0.1570, Avg. Accuracy: 0.9439, Avg. Dice: 0.8584: 100%|█████████████████████| 65/65 [01:31<00:00,  1.40s/it]\n"
     ]
    },
    {
     "name": "stdout",
     "output_type": "stream",
     "text": [
      "Dice:  0.8584, Loss:  0.1570\n",
      "Epoch 5 ---------------------\n",
      "Training Set -----\n"
     ]
    },
    {
     "name": "stderr",
     "output_type": "stream",
     "text": [
      "Avg. Loss: 0.1595, Avg. Accuracy: 0.9463, Avg. Dice: 0.8644: 100%|███████████████████| 519/519 [16:45<00:00,  1.94s/it]\n"
     ]
    },
    {
     "name": "stdout",
     "output_type": "stream",
     "text": [
      "Validation Set -----\n"
     ]
    },
    {
     "name": "stderr",
     "output_type": "stream",
     "text": [
      "Avg. Loss: 0.1598, Avg. Accuracy: 0.9461, Avg. Dice: 0.8677: 100%|█████████████████████| 65/65 [01:30<00:00,  1.39s/it]\n"
     ]
    },
    {
     "name": "stdout",
     "output_type": "stream",
     "text": [
      "Dice:  0.8677, Loss:  0.1598\n",
      "Epoch 6 ---------------------\n",
      "Training Set -----\n"
     ]
    },
    {
     "name": "stderr",
     "output_type": "stream",
     "text": [
      "Avg. Loss: 0.1417, Avg. Accuracy: 0.9515, Avg. Dice: 0.8770: 100%|███████████████████| 519/519 [16:41<00:00,  1.93s/it]\n"
     ]
    },
    {
     "name": "stdout",
     "output_type": "stream",
     "text": [
      "Validation Set -----\n"
     ]
    },
    {
     "name": "stderr",
     "output_type": "stream",
     "text": [
      "Avg. Loss: 0.2857, Avg. Accuracy: 0.8961, Avg. Dice: 0.7714: 100%|█████████████████████| 65/65 [01:31<00:00,  1.40s/it]\n"
     ]
    },
    {
     "name": "stdout",
     "output_type": "stream",
     "text": [
      "Dice:  0.7714, Loss:  0.2857\n",
      "Epoch 7 ---------------------\n",
      "Training Set -----\n"
     ]
    },
    {
     "name": "stderr",
     "output_type": "stream",
     "text": [
      "Avg. Loss: 0.1373, Avg. Accuracy: 0.9513, Avg. Dice: 0.8788: 100%|███████████████████| 519/519 [16:36<00:00,  1.92s/it]\n"
     ]
    },
    {
     "name": "stdout",
     "output_type": "stream",
     "text": [
      "Validation Set -----\n"
     ]
    },
    {
     "name": "stderr",
     "output_type": "stream",
     "text": [
      "Avg. Loss: 0.1745, Avg. Accuracy: 0.9376, Avg. Dice: 0.8308: 100%|█████████████████████| 65/65 [01:30<00:00,  1.39s/it]\n"
     ]
    },
    {
     "name": "stdout",
     "output_type": "stream",
     "text": [
      "Dice:  0.8308, Loss:  0.1745\n",
      "Epoch 8 ---------------------\n",
      "Training Set -----\n"
     ]
    },
    {
     "name": "stderr",
     "output_type": "stream",
     "text": [
      "Avg. Loss: 0.1173, Avg. Accuracy: 0.9583, Avg. Dice: 0.8929: 100%|███████████████████| 519/519 [16:41<00:00,  1.93s/it]\n"
     ]
    },
    {
     "name": "stdout",
     "output_type": "stream",
     "text": [
      "Validation Set -----\n"
     ]
    },
    {
     "name": "stderr",
     "output_type": "stream",
     "text": [
      "Avg. Loss: 0.1900, Avg. Accuracy: 0.9380, Avg. Dice: 0.8484: 100%|█████████████████████| 65/65 [01:29<00:00,  1.38s/it]\n"
     ]
    },
    {
     "name": "stdout",
     "output_type": "stream",
     "text": [
      "Dice:  0.8484, Loss:  0.1900\n",
      "Epoch 9 ---------------------\n",
      "Training Set -----\n"
     ]
    },
    {
     "name": "stderr",
     "output_type": "stream",
     "text": [
      "Avg. Loss: 0.1166, Avg. Accuracy: 0.9577, Avg. Dice: 0.8926: 100%|███████████████████| 519/519 [16:38<00:00,  1.92s/it]\n"
     ]
    },
    {
     "name": "stdout",
     "output_type": "stream",
     "text": [
      "Validation Set -----\n"
     ]
    },
    {
     "name": "stderr",
     "output_type": "stream",
     "text": [
      "Avg. Loss: 0.2905, Avg. Accuracy: 0.9128, Avg. Dice: 0.8017: 100%|█████████████████████| 65/65 [01:30<00:00,  1.39s/it]\n"
     ]
    },
    {
     "name": "stdout",
     "output_type": "stream",
     "text": [
      "Dice:  0.8017, Loss:  0.2905\n",
      "Epoch 10 ---------------------\n",
      "Training Set -----\n"
     ]
    },
    {
     "name": "stderr",
     "output_type": "stream",
     "text": [
      "Avg. Loss: 0.1240, Avg. Accuracy: 0.9550, Avg. Dice: 0.8859: 100%|███████████████████| 519/519 [16:50<00:00,  1.95s/it]\n"
     ]
    },
    {
     "name": "stdout",
     "output_type": "stream",
     "text": [
      "Validation Set -----\n"
     ]
    },
    {
     "name": "stderr",
     "output_type": "stream",
     "text": [
      "Avg. Loss: 0.1845, Avg. Accuracy: 0.9391, Avg. Dice: 0.8492: 100%|█████████████████████| 65/65 [01:31<00:00,  1.40s/it]\n"
     ]
    },
    {
     "name": "stdout",
     "output_type": "stream",
     "text": [
      "Dice:  0.8492, Loss:  0.1845\n",
      "Epoch 11 ---------------------\n",
      "Training Set -----\n"
     ]
    },
    {
     "name": "stderr",
     "output_type": "stream",
     "text": [
      "Avg. Loss: 0.1093, Avg. Accuracy: 0.9601, Avg. Dice: 0.8981: 100%|███████████████████| 519/519 [16:40<00:00,  1.93s/it]\n"
     ]
    },
    {
     "name": "stdout",
     "output_type": "stream",
     "text": [
      "Validation Set -----\n"
     ]
    },
    {
     "name": "stderr",
     "output_type": "stream",
     "text": [
      "Avg. Loss: 0.1793, Avg. Accuracy: 0.9428, Avg. Dice: 0.8506: 100%|█████████████████████| 65/65 [01:31<00:00,  1.40s/it]\n"
     ]
    },
    {
     "name": "stdout",
     "output_type": "stream",
     "text": [
      "Dice:  0.8506, Loss:  0.1793\n",
      "Epoch 12 ---------------------\n",
      "Training Set -----\n"
     ]
    },
    {
     "name": "stderr",
     "output_type": "stream",
     "text": [
      "Avg. Loss: 0.1012, Avg. Accuracy: 0.9623, Avg. Dice: 0.9043: 100%|███████████████████| 519/519 [16:41<00:00,  1.93s/it]\n"
     ]
    },
    {
     "name": "stdout",
     "output_type": "stream",
     "text": [
      "Validation Set -----\n"
     ]
    },
    {
     "name": "stderr",
     "output_type": "stream",
     "text": [
      "Avg. Loss: 0.2376, Avg. Accuracy: 0.9266, Avg. Dice: 0.7989: 100%|█████████████████████| 65/65 [01:31<00:00,  1.41s/it]\n"
     ]
    },
    {
     "name": "stdout",
     "output_type": "stream",
     "text": [
      "Dice:  0.7989, Loss:  0.2376\n",
      "Epoch 13 ---------------------\n",
      "Training Set -----\n"
     ]
    },
    {
     "name": "stderr",
     "output_type": "stream",
     "text": [
      "Avg. Loss: 0.1020, Avg. Accuracy: 0.9619, Avg. Dice: 0.9037: 100%|███████████████████| 519/519 [16:43<00:00,  1.93s/it]\n"
     ]
    },
    {
     "name": "stdout",
     "output_type": "stream",
     "text": [
      "Validation Set -----\n"
     ]
    },
    {
     "name": "stderr",
     "output_type": "stream",
     "text": [
      "Avg. Loss: 0.1658, Avg. Accuracy: 0.9450, Avg. Dice: 0.8572: 100%|█████████████████████| 65/65 [01:29<00:00,  1.38s/it]\n"
     ]
    },
    {
     "name": "stdout",
     "output_type": "stream",
     "text": [
      "Dice:  0.8572, Loss:  0.1658\n",
      "Epoch 14 ---------------------\n",
      "Training Set -----\n"
     ]
    },
    {
     "name": "stderr",
     "output_type": "stream",
     "text": [
      "Avg. Loss: 0.0882, Avg. Accuracy: 0.9665, Avg. Dice: 0.9165: 100%|███████████████████| 519/519 [16:43<00:00,  1.93s/it]\n"
     ]
    },
    {
     "name": "stdout",
     "output_type": "stream",
     "text": [
      "Validation Set -----\n"
     ]
    },
    {
     "name": "stderr",
     "output_type": "stream",
     "text": [
      "Avg. Loss: 0.1722, Avg. Accuracy: 0.9452, Avg. Dice: 0.8558: 100%|█████████████████████| 65/65 [01:30<00:00,  1.40s/it]\n"
     ]
    },
    {
     "name": "stdout",
     "output_type": "stream",
     "text": [
      "Dice:  0.8558, Loss:  0.1722\n",
      "Epoch 15 ---------------------\n",
      "Training Set -----\n"
     ]
    },
    {
     "name": "stderr",
     "output_type": "stream",
     "text": [
      "Avg. Loss: 0.0890, Avg. Accuracy: 0.9667, Avg. Dice: 0.9132: 100%|███████████████████| 519/519 [16:44<00:00,  1.94s/it]\n"
     ]
    },
    {
     "name": "stdout",
     "output_type": "stream",
     "text": [
      "Validation Set -----\n"
     ]
    },
    {
     "name": "stderr",
     "output_type": "stream",
     "text": [
      "Avg. Loss: 0.2239, Avg. Accuracy: 0.9348, Avg. Dice: 0.8261: 100%|█████████████████████| 65/65 [01:30<00:00,  1.39s/it]\n"
     ]
    },
    {
     "name": "stdout",
     "output_type": "stream",
     "text": [
      "Dice:  0.8261, Loss:  0.2239\n",
      "Epoch 16 ---------------------\n",
      "Training Set -----\n"
     ]
    },
    {
     "name": "stderr",
     "output_type": "stream",
     "text": [
      "Avg. Loss: 0.0869, Avg. Accuracy: 0.9667, Avg. Dice: 0.9153: 100%|███████████████████| 519/519 [16:40<00:00,  1.93s/it]\n"
     ]
    },
    {
     "name": "stdout",
     "output_type": "stream",
     "text": [
      "Validation Set -----\n"
     ]
    },
    {
     "name": "stderr",
     "output_type": "stream",
     "text": [
      "Avg. Loss: 0.1788, Avg. Accuracy: 0.9460, Avg. Dice: 0.8705: 100%|█████████████████████| 65/65 [01:30<00:00,  1.39s/it]\n"
     ]
    },
    {
     "name": "stdout",
     "output_type": "stream",
     "text": [
      "Dice:  0.8705, Loss:  0.1788\n",
      "Epoch 17 ---------------------\n",
      "Training Set -----\n"
     ]
    },
    {
     "name": "stderr",
     "output_type": "stream",
     "text": [
      "Avg. Loss: 0.0753, Avg. Accuracy: 0.9709, Avg. Dice: 0.9255: 100%|███████████████████| 519/519 [16:44<00:00,  1.93s/it]\n"
     ]
    },
    {
     "name": "stdout",
     "output_type": "stream",
     "text": [
      "Validation Set -----\n"
     ]
    },
    {
     "name": "stderr",
     "output_type": "stream",
     "text": [
      "Avg. Loss: 0.1721, Avg. Accuracy: 0.9457, Avg. Dice: 0.8620: 100%|█████████████████████| 65/65 [01:30<00:00,  1.40s/it]\n"
     ]
    },
    {
     "name": "stdout",
     "output_type": "stream",
     "text": [
      "Dice:  0.8620, Loss:  0.1721\n",
      "Epoch 18 ---------------------\n",
      "Training Set -----\n"
     ]
    },
    {
     "name": "stderr",
     "output_type": "stream",
     "text": [
      "Avg. Loss: 0.0845, Avg. Accuracy: 0.9673, Avg. Dice: 0.9175: 100%|███████████████████| 519/519 [16:44<00:00,  1.93s/it]\n"
     ]
    },
    {
     "name": "stdout",
     "output_type": "stream",
     "text": [
      "Validation Set -----\n"
     ]
    },
    {
     "name": "stderr",
     "output_type": "stream",
     "text": [
      "Avg. Loss: 0.1877, Avg. Accuracy: 0.9465, Avg. Dice: 0.8727: 100%|█████████████████████| 65/65 [01:31<00:00,  1.40s/it]\n"
     ]
    },
    {
     "name": "stdout",
     "output_type": "stream",
     "text": [
      "Dice:  0.8727, Loss:  0.1877\n",
      "Epoch 19 ---------------------\n",
      "Training Set -----\n"
     ]
    },
    {
     "name": "stderr",
     "output_type": "stream",
     "text": [
      "Avg. Loss: 0.1000, Avg. Accuracy: 0.9628, Avg. Dice: 0.9086: 100%|███████████████████| 519/519 [16:46<00:00,  1.94s/it]\n"
     ]
    },
    {
     "name": "stdout",
     "output_type": "stream",
     "text": [
      "Validation Set -----\n"
     ]
    },
    {
     "name": "stderr",
     "output_type": "stream",
     "text": [
      "Avg. Loss: 0.1724, Avg. Accuracy: 0.9437, Avg. Dice: 0.8624: 100%|█████████████████████| 65/65 [01:30<00:00,  1.39s/it]\n"
     ]
    },
    {
     "name": "stdout",
     "output_type": "stream",
     "text": [
      "Dice:  0.8624, Loss:  0.1724\n",
      "Epoch 20 ---------------------\n",
      "Training Set -----\n"
     ]
    },
    {
     "name": "stderr",
     "output_type": "stream",
     "text": [
      "Avg. Loss: 0.0741, Avg. Accuracy: 0.9713, Avg. Dice: 0.9268: 100%|███████████████████| 519/519 [16:45<00:00,  1.94s/it]\n"
     ]
    },
    {
     "name": "stdout",
     "output_type": "stream",
     "text": [
      "Validation Set -----\n"
     ]
    },
    {
     "name": "stderr",
     "output_type": "stream",
     "text": [
      "Avg. Loss: 0.1624, Avg. Accuracy: 0.9473, Avg. Dice: 0.8805: 100%|█████████████████████| 65/65 [01:30<00:00,  1.40s/it]\n"
     ]
    },
    {
     "name": "stdout",
     "output_type": "stream",
     "text": [
      "Dice:  0.8805, Loss:  0.1624\n",
      "Epoch 21 ---------------------\n",
      "Training Set -----\n"
     ]
    },
    {
     "name": "stderr",
     "output_type": "stream",
     "text": [
      "Avg. Loss: 0.0689, Avg. Accuracy: 0.9732, Avg. Dice: 0.9315: 100%|███████████████████| 519/519 [16:42<00:00,  1.93s/it]\n"
     ]
    },
    {
     "name": "stdout",
     "output_type": "stream",
     "text": [
      "Validation Set -----\n"
     ]
    },
    {
     "name": "stderr",
     "output_type": "stream",
     "text": [
      "Avg. Loss: 0.1824, Avg. Accuracy: 0.9454, Avg. Dice: 0.8588: 100%|█████████████████████| 65/65 [01:30<00:00,  1.40s/it]\n"
     ]
    },
    {
     "name": "stdout",
     "output_type": "stream",
     "text": [
      "Dice:  0.8588, Loss:  0.1824\n",
      "Epoch 22 ---------------------\n",
      "Training Set -----\n"
     ]
    },
    {
     "name": "stderr",
     "output_type": "stream",
     "text": [
      "Avg. Loss: 0.0643, Avg. Accuracy: 0.9748, Avg. Dice: 0.9357: 100%|███████████████████| 519/519 [16:46<00:00,  1.94s/it]\n"
     ]
    },
    {
     "name": "stdout",
     "output_type": "stream",
     "text": [
      "Validation Set -----\n"
     ]
    },
    {
     "name": "stderr",
     "output_type": "stream",
     "text": [
      "Avg. Loss: 0.1735, Avg. Accuracy: 0.9472, Avg. Dice: 0.8666: 100%|█████████████████████| 65/65 [01:30<00:00,  1.39s/it]\n"
     ]
    },
    {
     "name": "stdout",
     "output_type": "stream",
     "text": [
      "Dice:  0.8666, Loss:  0.1735\n",
      "Epoch 23 ---------------------\n",
      "Training Set -----\n"
     ]
    },
    {
     "name": "stderr",
     "output_type": "stream",
     "text": [
      "Avg. Loss: 0.0658, Avg. Accuracy: 0.9741, Avg. Dice: 0.9331: 100%|███████████████████| 519/519 [16:41<00:00,  1.93s/it]\n"
     ]
    },
    {
     "name": "stdout",
     "output_type": "stream",
     "text": [
      "Validation Set -----\n"
     ]
    },
    {
     "name": "stderr",
     "output_type": "stream",
     "text": [
      "Avg. Loss: 0.1846, Avg. Accuracy: 0.9452, Avg. Dice: 0.8539: 100%|█████████████████████| 65/65 [01:31<00:00,  1.40s/it]\n"
     ]
    },
    {
     "name": "stdout",
     "output_type": "stream",
     "text": [
      "Dice:  0.8539, Loss:  0.1846\n",
      "Epoch 24 ---------------------\n",
      "Training Set -----\n"
     ]
    },
    {
     "name": "stderr",
     "output_type": "stream",
     "text": [
      "Avg. Loss: 0.0628, Avg. Accuracy: 0.9754, Avg. Dice: 0.9364: 100%|███████████████████| 519/519 [16:43<00:00,  1.93s/it]\n"
     ]
    },
    {
     "name": "stdout",
     "output_type": "stream",
     "text": [
      "Validation Set -----\n"
     ]
    },
    {
     "name": "stderr",
     "output_type": "stream",
     "text": [
      "Avg. Loss: 0.2208, Avg. Accuracy: 0.9382, Avg. Dice: 0.8470: 100%|█████████████████████| 65/65 [01:31<00:00,  1.41s/it]\n"
     ]
    },
    {
     "name": "stdout",
     "output_type": "stream",
     "text": [
      "Dice:  0.8470, Loss:  0.2208\n",
      "Epoch 25 ---------------------\n",
      "Training Set -----\n"
     ]
    },
    {
     "name": "stderr",
     "output_type": "stream",
     "text": [
      "Avg. Loss: 0.0618, Avg. Accuracy: 0.9756, Avg. Dice: 0.9378: 100%|███████████████████| 519/519 [16:46<00:00,  1.94s/it]\n"
     ]
    },
    {
     "name": "stdout",
     "output_type": "stream",
     "text": [
      "Validation Set -----\n"
     ]
    },
    {
     "name": "stderr",
     "output_type": "stream",
     "text": [
      "Avg. Loss: 0.1781, Avg. Accuracy: 0.9444, Avg. Dice: 0.8628: 100%|█████████████████████| 65/65 [01:31<00:00,  1.41s/it]\n"
     ]
    },
    {
     "name": "stdout",
     "output_type": "stream",
     "text": [
      "Dice:  0.8628, Loss:  0.1781\n",
      "Epoch 26 ---------------------\n",
      "Training Set -----\n"
     ]
    },
    {
     "name": "stderr",
     "output_type": "stream",
     "text": [
      "Avg. Loss: 0.0637, Avg. Accuracy: 0.9748, Avg. Dice: 0.9368: 100%|███████████████████| 519/519 [16:43<00:00,  1.93s/it]\n"
     ]
    },
    {
     "name": "stdout",
     "output_type": "stream",
     "text": [
      "Validation Set -----\n"
     ]
    },
    {
     "name": "stderr",
     "output_type": "stream",
     "text": [
      "Avg. Loss: 0.1809, Avg. Accuracy: 0.9440, Avg. Dice: 0.8588: 100%|█████████████████████| 65/65 [01:30<00:00,  1.39s/it]\n"
     ]
    },
    {
     "name": "stdout",
     "output_type": "stream",
     "text": [
      "Dice:  0.8588, Loss:  0.1809\n",
      "Epoch 27 ---------------------\n",
      "Training Set -----\n"
     ]
    },
    {
     "name": "stderr",
     "output_type": "stream",
     "text": [
      "Avg. Loss: 0.0730, Avg. Accuracy: 0.9715, Avg. Dice: 0.9269: 100%|███████████████████| 519/519 [16:49<00:00,  1.94s/it]\n"
     ]
    },
    {
     "name": "stdout",
     "output_type": "stream",
     "text": [
      "Validation Set -----\n"
     ]
    },
    {
     "name": "stderr",
     "output_type": "stream",
     "text": [
      "Avg. Loss: 0.2061, Avg. Accuracy: 0.9430, Avg. Dice: 0.8540: 100%|█████████████████████| 65/65 [01:31<00:00,  1.40s/it]\n"
     ]
    },
    {
     "name": "stdout",
     "output_type": "stream",
     "text": [
      "Dice:  0.8540, Loss:  0.2061\n",
      "Epoch 28 ---------------------\n",
      "Training Set -----\n"
     ]
    },
    {
     "name": "stderr",
     "output_type": "stream",
     "text": [
      "Avg. Loss: 0.0566, Avg. Accuracy: 0.9778, Avg. Dice: 0.9433: 100%|███████████████████| 519/519 [16:51<00:00,  1.95s/it]\n"
     ]
    },
    {
     "name": "stdout",
     "output_type": "stream",
     "text": [
      "Validation Set -----\n"
     ]
    },
    {
     "name": "stderr",
     "output_type": "stream",
     "text": [
      "Avg. Loss: 0.1973, Avg. Accuracy: 0.9453, Avg. Dice: 0.8672: 100%|█████████████████████| 65/65 [01:31<00:00,  1.40s/it]\n"
     ]
    },
    {
     "name": "stdout",
     "output_type": "stream",
     "text": [
      "Dice:  0.8672, Loss:  0.1973\n",
      "Epoch 29 ---------------------\n",
      "Training Set -----\n"
     ]
    },
    {
     "name": "stderr",
     "output_type": "stream",
     "text": [
      "Avg. Loss: 0.0510, Avg. Accuracy: 0.9797, Avg. Dice: 0.9480: 100%|███████████████████| 519/519 [16:48<00:00,  1.94s/it]\n"
     ]
    },
    {
     "name": "stdout",
     "output_type": "stream",
     "text": [
      "Validation Set -----\n"
     ]
    },
    {
     "name": "stderr",
     "output_type": "stream",
     "text": [
      "Avg. Loss: 0.1945, Avg. Accuracy: 0.9471, Avg. Dice: 0.8631: 100%|█████████████████████| 65/65 [01:31<00:00,  1.41s/it]\n"
     ]
    },
    {
     "name": "stdout",
     "output_type": "stream",
     "text": [
      "Dice:  0.8631, Loss:  0.1945\n",
      "Epoch 30 ---------------------\n",
      "Training Set -----\n"
     ]
    },
    {
     "name": "stderr",
     "output_type": "stream",
     "text": [
      "Avg. Loss: 0.0514, Avg. Accuracy: 0.9796, Avg. Dice: 0.9477: 100%|███████████████████| 519/519 [16:39<00:00,  1.93s/it]\n"
     ]
    },
    {
     "name": "stdout",
     "output_type": "stream",
     "text": [
      "Validation Set -----\n"
     ]
    },
    {
     "name": "stderr",
     "output_type": "stream",
     "text": [
      "Avg. Loss: 0.1913, Avg. Accuracy: 0.9462, Avg. Dice: 0.8586: 100%|█████████████████████| 65/65 [01:31<00:00,  1.40s/it]\n"
     ]
    },
    {
     "name": "stdout",
     "output_type": "stream",
     "text": [
      "Dice:  0.8586, Loss:  0.1913\n",
      "Test Set -----\n"
     ]
    },
    {
     "name": "stderr",
     "output_type": "stream",
     "text": [
      "Validation Dataset: 100%|████████████████████████████████████████████████████████████| 259/259 [01:24<00:00,  3.06it/s]\n"
     ]
    },
    {
     "name": "stdout",
     "output_type": "stream",
     "text": [
      "0.1686605494285631\n"
     ]
    },
    {
     "name": "stderr",
     "output_type": "stream",
     "text": [
      "Test Dataset: 100%|██████████████████████████████████████████████████████████████████| 259/259 [01:22<00:00,  3.15it/s]\n"
     ]
    },
    {
     "name": "stdout",
     "output_type": "stream",
     "text": [
      "0.8776641064544358\n",
      "Run 3 ===========\n",
      "Epoch 1 ---------------------\n",
      "Training Set -----\n"
     ]
    },
    {
     "name": "stderr",
     "output_type": "stream",
     "text": [
      "Avg. Loss: 0.3364, Avg. Accuracy: 0.9071, Avg. Dice: 0.7798: 100%|███████████████████| 519/519 [16:45<00:00,  1.94s/it]\n"
     ]
    },
    {
     "name": "stdout",
     "output_type": "stream",
     "text": [
      "Validation Set -----\n"
     ]
    },
    {
     "name": "stderr",
     "output_type": "stream",
     "text": [
      "Avg. Loss: 0.2393, Avg. Accuracy: 0.9348, Avg. Dice: 0.8380: 100%|█████████████████████| 65/65 [01:30<00:00,  1.40s/it]\n"
     ]
    },
    {
     "name": "stdout",
     "output_type": "stream",
     "text": [
      "Dice:  0.8380, Loss:  0.2393\n",
      "Epoch 2 ---------------------\n",
      "Training Set -----\n"
     ]
    },
    {
     "name": "stderr",
     "output_type": "stream",
     "text": [
      "Avg. Loss: 0.2381, Avg. Accuracy: 0.9321, Avg. Dice: 0.8219: 100%|███████████████████| 519/519 [16:48<00:00,  1.94s/it]\n"
     ]
    },
    {
     "name": "stdout",
     "output_type": "stream",
     "text": [
      "Validation Set -----\n"
     ]
    },
    {
     "name": "stderr",
     "output_type": "stream",
     "text": [
      "Avg. Loss: 0.2123, Avg. Accuracy: 0.9353, Avg. Dice: 0.8445: 100%|█████████████████████| 65/65 [01:31<00:00,  1.41s/it]\n"
     ]
    },
    {
     "name": "stdout",
     "output_type": "stream",
     "text": [
      "Dice:  0.8445, Loss:  0.2123\n",
      "Epoch 3 ---------------------\n",
      "Training Set -----\n"
     ]
    },
    {
     "name": "stderr",
     "output_type": "stream",
     "text": [
      "Avg. Loss: 0.1956, Avg. Accuracy: 0.9382, Avg. Dice: 0.8453: 100%|███████████████████| 519/519 [16:53<00:00,  1.95s/it]\n"
     ]
    },
    {
     "name": "stdout",
     "output_type": "stream",
     "text": [
      "Validation Set -----\n"
     ]
    },
    {
     "name": "stderr",
     "output_type": "stream",
     "text": [
      "Avg. Loss: 0.2481, Avg. Accuracy: 0.9242, Avg. Dice: 0.8169: 100%|█████████████████████| 65/65 [01:31<00:00,  1.41s/it]\n"
     ]
    },
    {
     "name": "stdout",
     "output_type": "stream",
     "text": [
      "Dice:  0.8169, Loss:  0.2481\n",
      "Epoch 4 ---------------------\n",
      "Training Set -----\n"
     ]
    },
    {
     "name": "stderr",
     "output_type": "stream",
     "text": [
      "Avg. Loss: 0.1754, Avg. Accuracy: 0.9427, Avg. Dice: 0.8553: 100%|███████████████████| 519/519 [16:48<00:00,  1.94s/it]\n"
     ]
    },
    {
     "name": "stdout",
     "output_type": "stream",
     "text": [
      "Validation Set -----\n"
     ]
    },
    {
     "name": "stderr",
     "output_type": "stream",
     "text": [
      "Avg. Loss: 0.1861, Avg. Accuracy: 0.9350, Avg. Dice: 0.8392: 100%|█████████████████████| 65/65 [01:31<00:00,  1.40s/it]\n"
     ]
    },
    {
     "name": "stdout",
     "output_type": "stream",
     "text": [
      "Dice:  0.8392, Loss:  0.1861\n",
      "Epoch 5 ---------------------\n",
      "Training Set -----\n"
     ]
    },
    {
     "name": "stderr",
     "output_type": "stream",
     "text": [
      "Avg. Loss: 0.1646, Avg. Accuracy: 0.9439, Avg. Dice: 0.8570: 100%|███████████████████| 519/519 [16:51<00:00,  1.95s/it]\n"
     ]
    },
    {
     "name": "stdout",
     "output_type": "stream",
     "text": [
      "Validation Set -----\n"
     ]
    },
    {
     "name": "stderr",
     "output_type": "stream",
     "text": [
      "Avg. Loss: 0.1778, Avg. Accuracy: 0.9373, Avg. Dice: 0.8487: 100%|█████████████████████| 65/65 [01:31<00:00,  1.40s/it]\n"
     ]
    },
    {
     "name": "stdout",
     "output_type": "stream",
     "text": [
      "Dice:  0.8487, Loss:  0.1778\n",
      "Epoch 6 ---------------------\n",
      "Training Set -----\n"
     ]
    },
    {
     "name": "stderr",
     "output_type": "stream",
     "text": [
      "Avg. Loss: 0.1409, Avg. Accuracy: 0.9520, Avg. Dice: 0.8773: 100%|███████████████████| 519/519 [16:51<00:00,  1.95s/it]\n"
     ]
    },
    {
     "name": "stdout",
     "output_type": "stream",
     "text": [
      "Validation Set -----\n"
     ]
    },
    {
     "name": "stderr",
     "output_type": "stream",
     "text": [
      "Avg. Loss: 0.2030, Avg. Accuracy: 0.9325, Avg. Dice: 0.8211: 100%|█████████████████████| 65/65 [01:29<00:00,  1.38s/it]\n"
     ]
    },
    {
     "name": "stdout",
     "output_type": "stream",
     "text": [
      "Dice:  0.8211, Loss:  0.2030\n",
      "Epoch 7 ---------------------\n",
      "Training Set -----\n"
     ]
    },
    {
     "name": "stderr",
     "output_type": "stream",
     "text": [
      "Avg. Loss: 0.1297, Avg. Accuracy: 0.9542, Avg. Dice: 0.8850: 100%|███████████████████| 519/519 [16:55<00:00,  1.96s/it]\n"
     ]
    },
    {
     "name": "stdout",
     "output_type": "stream",
     "text": [
      "Validation Set -----\n"
     ]
    },
    {
     "name": "stderr",
     "output_type": "stream",
     "text": [
      "Avg. Loss: 0.1869, Avg. Accuracy: 0.9422, Avg. Dice: 0.8614: 100%|█████████████████████| 65/65 [01:31<00:00,  1.41s/it]\n"
     ]
    },
    {
     "name": "stdout",
     "output_type": "stream",
     "text": [
      "Dice:  0.8614, Loss:  0.1869\n",
      "Epoch 8 ---------------------\n",
      "Training Set -----\n"
     ]
    },
    {
     "name": "stderr",
     "output_type": "stream",
     "text": [
      "Avg. Loss: 0.1251, Avg. Accuracy: 0.9547, Avg. Dice: 0.8870: 100%|███████████████████| 519/519 [16:48<00:00,  1.94s/it]\n"
     ]
    },
    {
     "name": "stdout",
     "output_type": "stream",
     "text": [
      "Validation Set -----\n"
     ]
    },
    {
     "name": "stderr",
     "output_type": "stream",
     "text": [
      "Avg. Loss: 0.1699, Avg. Accuracy: 0.9419, Avg. Dice: 0.8489: 100%|█████████████████████| 65/65 [01:31<00:00,  1.40s/it]\n"
     ]
    },
    {
     "name": "stdout",
     "output_type": "stream",
     "text": [
      "Dice:  0.8489, Loss:  0.1699\n",
      "Epoch 9 ---------------------\n",
      "Training Set -----\n"
     ]
    },
    {
     "name": "stderr",
     "output_type": "stream",
     "text": [
      "Avg. Loss: 0.1135, Avg. Accuracy: 0.9584, Avg. Dice: 0.8966: 100%|███████████████████| 519/519 [16:50<00:00,  1.95s/it]\n"
     ]
    },
    {
     "name": "stdout",
     "output_type": "stream",
     "text": [
      "Validation Set -----\n"
     ]
    },
    {
     "name": "stderr",
     "output_type": "stream",
     "text": [
      "Avg. Loss: 0.1826, Avg. Accuracy: 0.9447, Avg. Dice: 0.8715: 100%|█████████████████████| 65/65 [01:31<00:00,  1.40s/it]\n"
     ]
    },
    {
     "name": "stdout",
     "output_type": "stream",
     "text": [
      "Dice:  0.8715, Loss:  0.1826\n",
      "Epoch 10 ---------------------\n",
      "Training Set -----\n"
     ]
    },
    {
     "name": "stderr",
     "output_type": "stream",
     "text": [
      "Avg. Loss: 0.1077, Avg. Accuracy: 0.9604, Avg. Dice: 0.8973: 100%|███████████████████| 519/519 [16:52<00:00,  1.95s/it]\n"
     ]
    },
    {
     "name": "stdout",
     "output_type": "stream",
     "text": [
      "Validation Set -----\n"
     ]
    },
    {
     "name": "stderr",
     "output_type": "stream",
     "text": [
      "Avg. Loss: 0.1818, Avg. Accuracy: 0.9423, Avg. Dice: 0.8663: 100%|█████████████████████| 65/65 [01:31<00:00,  1.41s/it]\n"
     ]
    },
    {
     "name": "stdout",
     "output_type": "stream",
     "text": [
      "Dice:  0.8663, Loss:  0.1818\n",
      "Epoch 11 ---------------------\n",
      "Training Set -----\n"
     ]
    },
    {
     "name": "stderr",
     "output_type": "stream",
     "text": [
      "Avg. Loss: 0.0976, Avg. Accuracy: 0.9635, Avg. Dice: 0.9078: 100%|███████████████████| 519/519 [16:52<00:00,  1.95s/it]\n"
     ]
    },
    {
     "name": "stdout",
     "output_type": "stream",
     "text": [
      "Validation Set -----\n"
     ]
    },
    {
     "name": "stderr",
     "output_type": "stream",
     "text": [
      "Avg. Loss: 0.1846, Avg. Accuracy: 0.9440, Avg. Dice: 0.8550: 100%|█████████████████████| 65/65 [01:31<00:00,  1.41s/it]\n"
     ]
    },
    {
     "name": "stdout",
     "output_type": "stream",
     "text": [
      "Dice:  0.8550, Loss:  0.1846\n",
      "Epoch 12 ---------------------\n",
      "Training Set -----\n"
     ]
    },
    {
     "name": "stderr",
     "output_type": "stream",
     "text": [
      "Avg. Loss: 0.0961, Avg. Accuracy: 0.9639, Avg. Dice: 0.9089: 100%|███████████████████| 519/519 [16:47<00:00,  1.94s/it]\n"
     ]
    },
    {
     "name": "stdout",
     "output_type": "stream",
     "text": [
      "Validation Set -----\n"
     ]
    },
    {
     "name": "stderr",
     "output_type": "stream",
     "text": [
      "Avg. Loss: 0.1737, Avg. Accuracy: 0.9454, Avg. Dice: 0.8618: 100%|█████████████████████| 65/65 [01:30<00:00,  1.40s/it]\n"
     ]
    },
    {
     "name": "stdout",
     "output_type": "stream",
     "text": [
      "Dice:  0.8618, Loss:  0.1737\n",
      "Epoch 13 ---------------------\n",
      "Training Set -----\n"
     ]
    },
    {
     "name": "stderr",
     "output_type": "stream",
     "text": [
      "Avg. Loss: 0.0909, Avg. Accuracy: 0.9653, Avg. Dice: 0.9137: 100%|███████████████████| 519/519 [16:45<00:00,  1.94s/it]\n"
     ]
    },
    {
     "name": "stdout",
     "output_type": "stream",
     "text": [
      "Validation Set -----\n"
     ]
    },
    {
     "name": "stderr",
     "output_type": "stream",
     "text": [
      "Avg. Loss: 0.1822, Avg. Accuracy: 0.9409, Avg. Dice: 0.8437: 100%|█████████████████████| 65/65 [01:31<00:00,  1.41s/it]\n"
     ]
    },
    {
     "name": "stdout",
     "output_type": "stream",
     "text": [
      "Dice:  0.8437, Loss:  0.1822\n",
      "Epoch 14 ---------------------\n",
      "Training Set -----\n"
     ]
    },
    {
     "name": "stderr",
     "output_type": "stream",
     "text": [
      "Avg. Loss: 0.0859, Avg. Accuracy: 0.9672, Avg. Dice: 0.9168: 100%|███████████████████| 519/519 [16:52<00:00,  1.95s/it]\n"
     ]
    },
    {
     "name": "stdout",
     "output_type": "stream",
     "text": [
      "Validation Set -----\n"
     ]
    },
    {
     "name": "stderr",
     "output_type": "stream",
     "text": [
      "Avg. Loss: 0.1818, Avg. Accuracy: 0.9418, Avg. Dice: 0.8525: 100%|█████████████████████| 65/65 [01:35<00:00,  1.47s/it]\n"
     ]
    },
    {
     "name": "stdout",
     "output_type": "stream",
     "text": [
      "Dice:  0.8525, Loss:  0.1818\n",
      "Epoch 15 ---------------------\n",
      "Training Set -----\n"
     ]
    },
    {
     "name": "stderr",
     "output_type": "stream",
     "text": [
      "Avg. Loss: 0.1069, Avg. Accuracy: 0.9600, Avg. Dice: 0.8995: 100%|███████████████████| 519/519 [17:24<00:00,  2.01s/it]\n"
     ]
    },
    {
     "name": "stdout",
     "output_type": "stream",
     "text": [
      "Validation Set -----\n"
     ]
    },
    {
     "name": "stderr",
     "output_type": "stream",
     "text": [
      "Avg. Loss: 0.1563, Avg. Accuracy: 0.9458, Avg. Dice: 0.8667: 100%|█████████████████████| 65/65 [01:31<00:00,  1.40s/it]\n"
     ]
    },
    {
     "name": "stdout",
     "output_type": "stream",
     "text": [
      "Dice:  0.8667, Loss:  0.1563\n",
      "Epoch 16 ---------------------\n",
      "Training Set -----\n"
     ]
    },
    {
     "name": "stderr",
     "output_type": "stream",
     "text": [
      "Avg. Loss: 0.0904, Avg. Accuracy: 0.9653, Avg. Dice: 0.9121: 100%|███████████████████| 519/519 [16:52<00:00,  1.95s/it]\n"
     ]
    },
    {
     "name": "stdout",
     "output_type": "stream",
     "text": [
      "Validation Set -----\n"
     ]
    },
    {
     "name": "stderr",
     "output_type": "stream",
     "text": [
      "Avg. Loss: 0.1704, Avg. Accuracy: 0.9444, Avg. Dice: 0.8632: 100%|█████████████████████| 65/65 [01:31<00:00,  1.41s/it]\n"
     ]
    },
    {
     "name": "stdout",
     "output_type": "stream",
     "text": [
      "Dice:  0.8632, Loss:  0.1704\n",
      "Epoch 17 ---------------------\n",
      "Training Set -----\n"
     ]
    },
    {
     "name": "stderr",
     "output_type": "stream",
     "text": [
      "Avg. Loss: 0.0933, Avg. Accuracy: 0.9642, Avg. Dice: 0.9107: 100%|███████████████████| 519/519 [16:47<00:00,  1.94s/it]\n"
     ]
    },
    {
     "name": "stdout",
     "output_type": "stream",
     "text": [
      "Validation Set -----\n"
     ]
    },
    {
     "name": "stderr",
     "output_type": "stream",
     "text": [
      "Avg. Loss: 0.1689, Avg. Accuracy: 0.9457, Avg. Dice: 0.8685: 100%|█████████████████████| 65/65 [01:32<00:00,  1.42s/it]\n"
     ]
    },
    {
     "name": "stdout",
     "output_type": "stream",
     "text": [
      "Dice:  0.8685, Loss:  0.1689\n",
      "Epoch 18 ---------------------\n",
      "Training Set -----\n"
     ]
    },
    {
     "name": "stderr",
     "output_type": "stream",
     "text": [
      "Avg. Loss: 0.0756, Avg. Accuracy: 0.9707, Avg. Dice: 0.9251: 100%|███████████████████| 519/519 [16:45<00:00,  1.94s/it]\n"
     ]
    },
    {
     "name": "stdout",
     "output_type": "stream",
     "text": [
      "Validation Set -----\n"
     ]
    },
    {
     "name": "stderr",
     "output_type": "stream",
     "text": [
      "Avg. Loss: 0.1821, Avg. Accuracy: 0.9470, Avg. Dice: 0.8731: 100%|█████████████████████| 65/65 [01:31<00:00,  1.40s/it]\n"
     ]
    },
    {
     "name": "stdout",
     "output_type": "stream",
     "text": [
      "Dice:  0.8731, Loss:  0.1821\n",
      "Epoch 19 ---------------------\n",
      "Training Set -----\n"
     ]
    },
    {
     "name": "stderr",
     "output_type": "stream",
     "text": [
      "Avg. Loss: 0.0742, Avg. Accuracy: 0.9712, Avg. Dice: 0.9259: 100%|███████████████████| 519/519 [16:52<00:00,  1.95s/it]\n"
     ]
    },
    {
     "name": "stdout",
     "output_type": "stream",
     "text": [
      "Validation Set -----\n"
     ]
    },
    {
     "name": "stderr",
     "output_type": "stream",
     "text": [
      "Avg. Loss: 0.1992, Avg. Accuracy: 0.9451, Avg. Dice: 0.8651: 100%|█████████████████████| 65/65 [01:30<00:00,  1.40s/it]\n"
     ]
    },
    {
     "name": "stdout",
     "output_type": "stream",
     "text": [
      "Dice:  0.8651, Loss:  0.1992\n",
      "Epoch 20 ---------------------\n",
      "Training Set -----\n"
     ]
    },
    {
     "name": "stderr",
     "output_type": "stream",
     "text": [
      "Avg. Loss: 0.0677, Avg. Accuracy: 0.9735, Avg. Dice: 0.9310: 100%|███████████████████| 519/519 [16:51<00:00,  1.95s/it]\n"
     ]
    },
    {
     "name": "stdout",
     "output_type": "stream",
     "text": [
      "Validation Set -----\n"
     ]
    },
    {
     "name": "stderr",
     "output_type": "stream",
     "text": [
      "Avg. Loss: 0.1862, Avg. Accuracy: 0.9479, Avg. Dice: 0.8727: 100%|█████████████████████| 65/65 [01:30<00:00,  1.40s/it]\n"
     ]
    },
    {
     "name": "stdout",
     "output_type": "stream",
     "text": [
      "Dice:  0.8727, Loss:  0.1862\n",
      "Epoch 21 ---------------------\n",
      "Training Set -----\n"
     ]
    },
    {
     "name": "stderr",
     "output_type": "stream",
     "text": [
      "Avg. Loss: 0.0701, Avg. Accuracy: 0.9725, Avg. Dice: 0.9301: 100%|███████████████████| 519/519 [16:47<00:00,  1.94s/it]\n"
     ]
    },
    {
     "name": "stdout",
     "output_type": "stream",
     "text": [
      "Validation Set -----\n"
     ]
    },
    {
     "name": "stderr",
     "output_type": "stream",
     "text": [
      "Avg. Loss: 0.1874, Avg. Accuracy: 0.9433, Avg. Dice: 0.8575: 100%|█████████████████████| 65/65 [01:31<00:00,  1.41s/it]\n"
     ]
    },
    {
     "name": "stdout",
     "output_type": "stream",
     "text": [
      "Dice:  0.8575, Loss:  0.1874\n",
      "Epoch 22 ---------------------\n",
      "Training Set -----\n"
     ]
    },
    {
     "name": "stderr",
     "output_type": "stream",
     "text": [
      "Avg. Loss: 0.0659, Avg. Accuracy: 0.9741, Avg. Dice: 0.9344: 100%|███████████████████| 519/519 [16:44<00:00,  1.93s/it]\n"
     ]
    },
    {
     "name": "stdout",
     "output_type": "stream",
     "text": [
      "Validation Set -----\n"
     ]
    },
    {
     "name": "stderr",
     "output_type": "stream",
     "text": [
      "Avg. Loss: 0.2133, Avg. Accuracy: 0.9426, Avg. Dice: 0.8537: 100%|█████████████████████| 65/65 [01:32<00:00,  1.42s/it]\n"
     ]
    },
    {
     "name": "stdout",
     "output_type": "stream",
     "text": [
      "Dice:  0.8537, Loss:  0.2133\n",
      "Epoch 23 ---------------------\n",
      "Training Set -----\n"
     ]
    },
    {
     "name": "stderr",
     "output_type": "stream",
     "text": [
      "Avg. Loss: 0.0603, Avg. Accuracy: 0.9761, Avg. Dice: 0.9391: 100%|███████████████████| 519/519 [16:43<00:00,  1.93s/it]\n"
     ]
    },
    {
     "name": "stdout",
     "output_type": "stream",
     "text": [
      "Validation Set -----\n"
     ]
    },
    {
     "name": "stderr",
     "output_type": "stream",
     "text": [
      "Avg. Loss: 0.2025, Avg. Accuracy: 0.9456, Avg. Dice: 0.8599: 100%|█████████████████████| 65/65 [01:32<00:00,  1.42s/it]\n"
     ]
    },
    {
     "name": "stdout",
     "output_type": "stream",
     "text": [
      "Dice:  0.8599, Loss:  0.2025\n",
      "Epoch 24 ---------------------\n",
      "Training Set -----\n"
     ]
    },
    {
     "name": "stderr",
     "output_type": "stream",
     "text": [
      "Avg. Loss: 0.0593, Avg. Accuracy: 0.9765, Avg. Dice: 0.9403: 100%|███████████████████| 519/519 [16:46<00:00,  1.94s/it]\n"
     ]
    },
    {
     "name": "stdout",
     "output_type": "stream",
     "text": [
      "Validation Set -----\n"
     ]
    },
    {
     "name": "stderr",
     "output_type": "stream",
     "text": [
      "Avg. Loss: 0.2097, Avg. Accuracy: 0.9432, Avg. Dice: 0.8577: 100%|█████████████████████| 65/65 [01:30<00:00,  1.40s/it]\n"
     ]
    },
    {
     "name": "stdout",
     "output_type": "stream",
     "text": [
      "Dice:  0.8577, Loss:  0.2097\n",
      "Epoch 25 ---------------------\n",
      "Training Set -----\n"
     ]
    },
    {
     "name": "stderr",
     "output_type": "stream",
     "text": [
      "Avg. Loss: 0.0686, Avg. Accuracy: 0.9733, Avg. Dice: 0.9327: 100%|███████████████████| 519/519 [16:45<00:00,  1.94s/it]\n"
     ]
    },
    {
     "name": "stdout",
     "output_type": "stream",
     "text": [
      "Validation Set -----\n"
     ]
    },
    {
     "name": "stderr",
     "output_type": "stream",
     "text": [
      "Avg. Loss: 0.1829, Avg. Accuracy: 0.9457, Avg. Dice: 0.8659: 100%|█████████████████████| 65/65 [01:31<00:00,  1.41s/it]\n"
     ]
    },
    {
     "name": "stdout",
     "output_type": "stream",
     "text": [
      "Dice:  0.8659, Loss:  0.1829\n",
      "Epoch 26 ---------------------\n",
      "Training Set -----\n"
     ]
    },
    {
     "name": "stderr",
     "output_type": "stream",
     "text": [
      "Avg. Loss: 0.0661, Avg. Accuracy: 0.9739, Avg. Dice: 0.9337: 100%|███████████████████| 519/519 [16:41<00:00,  1.93s/it]\n"
     ]
    },
    {
     "name": "stdout",
     "output_type": "stream",
     "text": [
      "Validation Set -----\n"
     ]
    },
    {
     "name": "stderr",
     "output_type": "stream",
     "text": [
      "Avg. Loss: 0.2048, Avg. Accuracy: 0.9419, Avg. Dice: 0.8509: 100%|█████████████████████| 65/65 [01:32<00:00,  1.42s/it]\n"
     ]
    },
    {
     "name": "stdout",
     "output_type": "stream",
     "text": [
      "Dice:  0.8509, Loss:  0.2048\n",
      "Epoch 27 ---------------------\n",
      "Training Set -----\n"
     ]
    },
    {
     "name": "stderr",
     "output_type": "stream",
     "text": [
      "Avg. Loss: 0.0604, Avg. Accuracy: 0.9759, Avg. Dice: 0.9387: 100%|███████████████████| 519/519 [16:44<00:00,  1.93s/it]\n"
     ]
    },
    {
     "name": "stdout",
     "output_type": "stream",
     "text": [
      "Validation Set -----\n"
     ]
    },
    {
     "name": "stderr",
     "output_type": "stream",
     "text": [
      "Avg. Loss: 0.2099, Avg. Accuracy: 0.9443, Avg. Dice: 0.8667: 100%|█████████████████████| 65/65 [01:31<00:00,  1.41s/it]\n"
     ]
    },
    {
     "name": "stdout",
     "output_type": "stream",
     "text": [
      "Dice:  0.8667, Loss:  0.2099\n",
      "Epoch 28 ---------------------\n",
      "Training Set -----\n"
     ]
    },
    {
     "name": "stderr",
     "output_type": "stream",
     "text": [
      "Avg. Loss: 0.0628, Avg. Accuracy: 0.9752, Avg. Dice: 0.9376: 100%|███████████████████| 519/519 [16:53<00:00,  1.95s/it]\n"
     ]
    },
    {
     "name": "stdout",
     "output_type": "stream",
     "text": [
      "Validation Set -----\n"
     ]
    },
    {
     "name": "stderr",
     "output_type": "stream",
     "text": [
      "Avg. Loss: 0.1998, Avg. Accuracy: 0.9420, Avg. Dice: 0.8542: 100%|█████████████████████| 65/65 [01:31<00:00,  1.41s/it]\n"
     ]
    },
    {
     "name": "stdout",
     "output_type": "stream",
     "text": [
      "Dice:  0.8542, Loss:  0.1998\n",
      "Epoch 29 ---------------------\n",
      "Training Set -----\n"
     ]
    },
    {
     "name": "stderr",
     "output_type": "stream",
     "text": [
      "Avg. Loss: 0.0615, Avg. Accuracy: 0.9755, Avg. Dice: 0.9391: 100%|███████████████████| 519/519 [16:48<00:00,  1.94s/it]\n"
     ]
    },
    {
     "name": "stdout",
     "output_type": "stream",
     "text": [
      "Validation Set -----\n"
     ]
    },
    {
     "name": "stderr",
     "output_type": "stream",
     "text": [
      "Avg. Loss: 0.1981, Avg. Accuracy: 0.9431, Avg. Dice: 0.8494: 100%|█████████████████████| 65/65 [01:31<00:00,  1.42s/it]\n"
     ]
    },
    {
     "name": "stdout",
     "output_type": "stream",
     "text": [
      "Dice:  0.8494, Loss:  0.1981\n",
      "Epoch 30 ---------------------\n",
      "Training Set -----\n"
     ]
    },
    {
     "name": "stderr",
     "output_type": "stream",
     "text": [
      "Avg. Loss: 0.0520, Avg. Accuracy: 0.9793, Avg. Dice: 0.9472: 100%|███████████████████| 519/519 [16:52<00:00,  1.95s/it]\n"
     ]
    },
    {
     "name": "stdout",
     "output_type": "stream",
     "text": [
      "Validation Set -----\n"
     ]
    },
    {
     "name": "stderr",
     "output_type": "stream",
     "text": [
      "Avg. Loss: 0.2401, Avg. Accuracy: 0.9424, Avg. Dice: 0.8491: 100%|█████████████████████| 65/65 [01:31<00:00,  1.40s/it]\n"
     ]
    },
    {
     "name": "stdout",
     "output_type": "stream",
     "text": [
      "Dice:  0.8491, Loss:  0.2401\n",
      "Test Set -----\n"
     ]
    },
    {
     "name": "stderr",
     "output_type": "stream",
     "text": [
      "Validation Dataset: 100%|████████████████████████████████████████████████████████████| 259/259 [01:26<00:00,  2.98it/s]\n"
     ]
    },
    {
     "name": "stdout",
     "output_type": "stream",
     "text": [
      "0.17095472710045068\n"
     ]
    },
    {
     "name": "stderr",
     "output_type": "stream",
     "text": [
      "Test Dataset: 100%|██████████████████████████████████████████████████████████████████| 259/259 [01:22<00:00,  3.12it/s]\n"
     ]
    },
    {
     "name": "stdout",
     "output_type": "stream",
     "text": [
      "0.8764322970592537\n",
      "Run 4 ===========\n",
      "Epoch 1 ---------------------\n",
      "Training Set -----\n"
     ]
    },
    {
     "name": "stderr",
     "output_type": "stream",
     "text": [
      "Avg. Loss: 0.3268, Avg. Accuracy: 0.9099, Avg. Dice: 0.7853: 100%|███████████████████| 519/519 [16:52<00:00,  1.95s/it]\n"
     ]
    },
    {
     "name": "stdout",
     "output_type": "stream",
     "text": [
      "Validation Set -----\n"
     ]
    },
    {
     "name": "stderr",
     "output_type": "stream",
     "text": [
      "Avg. Loss: 0.2262, Avg. Accuracy: 0.9316, Avg. Dice: 0.8108: 100%|█████████████████████| 65/65 [01:31<00:00,  1.41s/it]\n"
     ]
    },
    {
     "name": "stdout",
     "output_type": "stream",
     "text": [
      "Dice:  0.8108, Loss:  0.2262\n",
      "Epoch 2 ---------------------\n",
      "Training Set -----\n"
     ]
    },
    {
     "name": "stderr",
     "output_type": "stream",
     "text": [
      "Avg. Loss: 0.2322, Avg. Accuracy: 0.9340, Avg. Dice: 0.8318: 100%|███████████████████| 519/519 [16:53<00:00,  1.95s/it]\n"
     ]
    },
    {
     "name": "stdout",
     "output_type": "stream",
     "text": [
      "Validation Set -----\n"
     ]
    },
    {
     "name": "stderr",
     "output_type": "stream",
     "text": [
      "Avg. Loss: 0.1883, Avg. Accuracy: 0.9401, Avg. Dice: 0.8506: 100%|█████████████████████| 65/65 [01:31<00:00,  1.40s/it]\n"
     ]
    },
    {
     "name": "stdout",
     "output_type": "stream",
     "text": [
      "Dice:  0.8506, Loss:  0.1883\n",
      "Epoch 3 ---------------------\n",
      "Training Set -----\n"
     ]
    },
    {
     "name": "stderr",
     "output_type": "stream",
     "text": [
      "Avg. Loss: 0.1960, Avg. Accuracy: 0.9388, Avg. Dice: 0.8448: 100%|███████████████████| 519/519 [16:56<00:00,  1.96s/it]\n"
     ]
    },
    {
     "name": "stdout",
     "output_type": "stream",
     "text": [
      "Validation Set -----\n"
     ]
    },
    {
     "name": "stderr",
     "output_type": "stream",
     "text": [
      "Avg. Loss: 0.1940, Avg. Accuracy: 0.9346, Avg. Dice: 0.8332: 100%|█████████████████████| 65/65 [01:30<00:00,  1.40s/it]\n"
     ]
    },
    {
     "name": "stdout",
     "output_type": "stream",
     "text": [
      "Dice:  0.8332, Loss:  0.1940\n",
      "Epoch 4 ---------------------\n",
      "Training Set -----\n"
     ]
    },
    {
     "name": "stderr",
     "output_type": "stream",
     "text": [
      "Avg. Loss: 0.1680, Avg. Accuracy: 0.9453, Avg. Dice: 0.8607: 100%|███████████████████| 519/519 [17:00<00:00,  1.97s/it]\n"
     ]
    },
    {
     "name": "stdout",
     "output_type": "stream",
     "text": [
      "Validation Set -----\n"
     ]
    },
    {
     "name": "stderr",
     "output_type": "stream",
     "text": [
      "Avg. Loss: 0.2042, Avg. Accuracy: 0.9378, Avg. Dice: 0.8443: 100%|█████████████████████| 65/65 [01:31<00:00,  1.41s/it]\n"
     ]
    },
    {
     "name": "stdout",
     "output_type": "stream",
     "text": [
      "Dice:  0.8443, Loss:  0.2042\n",
      "Epoch 5 ---------------------\n",
      "Training Set -----\n"
     ]
    },
    {
     "name": "stderr",
     "output_type": "stream",
     "text": [
      "Avg. Loss: 0.1639, Avg. Accuracy: 0.9467, Avg. Dice: 0.8632: 100%|███████████████████| 519/519 [16:51<00:00,  1.95s/it]\n"
     ]
    },
    {
     "name": "stdout",
     "output_type": "stream",
     "text": [
      "Validation Set -----\n"
     ]
    },
    {
     "name": "stderr",
     "output_type": "stream",
     "text": [
      "Avg. Loss: 0.1733, Avg. Accuracy: 0.9455, Avg. Dice: 0.8697: 100%|█████████████████████| 65/65 [01:31<00:00,  1.40s/it]\n"
     ]
    },
    {
     "name": "stdout",
     "output_type": "stream",
     "text": [
      "Dice:  0.8697, Loss:  0.1733\n",
      "Epoch 6 ---------------------\n",
      "Training Set -----\n"
     ]
    },
    {
     "name": "stderr",
     "output_type": "stream",
     "text": [
      "Avg. Loss: 0.1424, Avg. Accuracy: 0.9510, Avg. Dice: 0.8752: 100%|███████████████████| 519/519 [16:55<00:00,  1.96s/it]\n"
     ]
    },
    {
     "name": "stdout",
     "output_type": "stream",
     "text": [
      "Validation Set -----\n"
     ]
    },
    {
     "name": "stderr",
     "output_type": "stream",
     "text": [
      "Avg. Loss: 0.1959, Avg. Accuracy: 0.9364, Avg. Dice: 0.8404: 100%|█████████████████████| 65/65 [01:30<00:00,  1.40s/it]\n"
     ]
    },
    {
     "name": "stdout",
     "output_type": "stream",
     "text": [
      "Dice:  0.8404, Loss:  0.1959\n",
      "Epoch 7 ---------------------\n",
      "Training Set -----\n"
     ]
    },
    {
     "name": "stderr",
     "output_type": "stream",
     "text": [
      "Avg. Loss: 0.1365, Avg. Accuracy: 0.9517, Avg. Dice: 0.8775: 100%|███████████████████| 519/519 [16:57<00:00,  1.96s/it]\n"
     ]
    },
    {
     "name": "stdout",
     "output_type": "stream",
     "text": [
      "Validation Set -----\n"
     ]
    },
    {
     "name": "stderr",
     "output_type": "stream",
     "text": [
      "Avg. Loss: 0.1830, Avg. Accuracy: 0.9395, Avg. Dice: 0.8552: 100%|█████████████████████| 65/65 [01:31<00:00,  1.40s/it]\n"
     ]
    },
    {
     "name": "stdout",
     "output_type": "stream",
     "text": [
      "Dice:  0.8552, Loss:  0.1830\n",
      "Epoch 8 ---------------------\n",
      "Training Set -----\n"
     ]
    },
    {
     "name": "stderr",
     "output_type": "stream",
     "text": [
      "Avg. Loss: 0.1223, Avg. Accuracy: 0.9571, Avg. Dice: 0.8923: 100%|███████████████████| 519/519 [16:57<00:00,  1.96s/it]\n"
     ]
    },
    {
     "name": "stdout",
     "output_type": "stream",
     "text": [
      "Validation Set -----\n"
     ]
    },
    {
     "name": "stderr",
     "output_type": "stream",
     "text": [
      "Avg. Loss: 0.1916, Avg. Accuracy: 0.9401, Avg. Dice: 0.8597: 100%|█████████████████████| 65/65 [01:31<00:00,  1.41s/it]\n"
     ]
    },
    {
     "name": "stdout",
     "output_type": "stream",
     "text": [
      "Dice:  0.8597, Loss:  0.1916\n",
      "Epoch 9 ---------------------\n",
      "Training Set -----\n"
     ]
    },
    {
     "name": "stderr",
     "output_type": "stream",
     "text": [
      "Avg. Loss: 0.1112, Avg. Accuracy: 0.9593, Avg. Dice: 0.8977: 100%|███████████████████| 519/519 [16:55<00:00,  1.96s/it]\n"
     ]
    },
    {
     "name": "stdout",
     "output_type": "stream",
     "text": [
      "Validation Set -----\n"
     ]
    },
    {
     "name": "stderr",
     "output_type": "stream",
     "text": [
      "Avg. Loss: 0.1739, Avg. Accuracy: 0.9420, Avg. Dice: 0.8496: 100%|█████████████████████| 65/65 [01:31<00:00,  1.40s/it]\n"
     ]
    },
    {
     "name": "stdout",
     "output_type": "stream",
     "text": [
      "Dice:  0.8496, Loss:  0.1739\n",
      "Epoch 10 ---------------------\n",
      "Training Set -----\n"
     ]
    },
    {
     "name": "stderr",
     "output_type": "stream",
     "text": [
      "Avg. Loss: 0.1232, Avg. Accuracy: 0.9552, Avg. Dice: 0.8878: 100%|███████████████████| 519/519 [16:55<00:00,  1.96s/it]\n"
     ]
    },
    {
     "name": "stdout",
     "output_type": "stream",
     "text": [
      "Validation Set -----\n"
     ]
    },
    {
     "name": "stderr",
     "output_type": "stream",
     "text": [
      "Avg. Loss: 0.1673, Avg. Accuracy: 0.9443, Avg. Dice: 0.8598: 100%|█████████████████████| 65/65 [01:31<00:00,  1.40s/it]\n"
     ]
    },
    {
     "name": "stdout",
     "output_type": "stream",
     "text": [
      "Dice:  0.8598, Loss:  0.1673\n",
      "Epoch 11 ---------------------\n",
      "Training Set -----\n"
     ]
    },
    {
     "name": "stderr",
     "output_type": "stream",
     "text": [
      "Avg. Loss: 0.0991, Avg. Accuracy: 0.9630, Avg. Dice: 0.9062: 100%|███████████████████| 519/519 [16:51<00:00,  1.95s/it]\n"
     ]
    },
    {
     "name": "stdout",
     "output_type": "stream",
     "text": [
      "Validation Set -----\n"
     ]
    },
    {
     "name": "stderr",
     "output_type": "stream",
     "text": [
      "Avg. Loss: 0.1938, Avg. Accuracy: 0.9290, Avg. Dice: 0.8134: 100%|█████████████████████| 65/65 [01:31<00:00,  1.41s/it]\n"
     ]
    },
    {
     "name": "stdout",
     "output_type": "stream",
     "text": [
      "Dice:  0.8134, Loss:  0.1938\n",
      "Epoch 12 ---------------------\n",
      "Training Set -----\n"
     ]
    },
    {
     "name": "stderr",
     "output_type": "stream",
     "text": [
      "Avg. Loss: 0.0946, Avg. Accuracy: 0.9641, Avg. Dice: 0.9094: 100%|███████████████████| 519/519 [16:54<00:00,  1.95s/it]\n"
     ]
    },
    {
     "name": "stdout",
     "output_type": "stream",
     "text": [
      "Validation Set -----\n"
     ]
    },
    {
     "name": "stderr",
     "output_type": "stream",
     "text": [
      "Avg. Loss: 0.1857, Avg. Accuracy: 0.9425, Avg. Dice: 0.8543: 100%|█████████████████████| 65/65 [01:30<00:00,  1.40s/it]\n"
     ]
    },
    {
     "name": "stdout",
     "output_type": "stream",
     "text": [
      "Dice:  0.8543, Loss:  0.1857\n",
      "Epoch 13 ---------------------\n",
      "Training Set -----\n"
     ]
    },
    {
     "name": "stderr",
     "output_type": "stream",
     "text": [
      "Avg. Loss: 0.0927, Avg. Accuracy: 0.9653, Avg. Dice: 0.9110: 100%|███████████████████| 519/519 [16:53<00:00,  1.95s/it]\n"
     ]
    },
    {
     "name": "stdout",
     "output_type": "stream",
     "text": [
      "Validation Set -----\n"
     ]
    },
    {
     "name": "stderr",
     "output_type": "stream",
     "text": [
      "Avg. Loss: 0.1662, Avg. Accuracy: 0.9427, Avg. Dice: 0.8560: 100%|█████████████████████| 65/65 [01:30<00:00,  1.40s/it]\n"
     ]
    },
    {
     "name": "stdout",
     "output_type": "stream",
     "text": [
      "Dice:  0.8560, Loss:  0.1662\n",
      "Epoch 14 ---------------------\n",
      "Training Set -----\n"
     ]
    },
    {
     "name": "stderr",
     "output_type": "stream",
     "text": [
      "Avg. Loss: 0.0932, Avg. Accuracy: 0.9651, Avg. Dice: 0.9117: 100%|███████████████████| 519/519 [16:57<00:00,  1.96s/it]\n"
     ]
    },
    {
     "name": "stdout",
     "output_type": "stream",
     "text": [
      "Validation Set -----\n"
     ]
    },
    {
     "name": "stderr",
     "output_type": "stream",
     "text": [
      "Avg. Loss: 0.1760, Avg. Accuracy: 0.9429, Avg. Dice: 0.8554: 100%|█████████████████████| 65/65 [01:30<00:00,  1.40s/it]\n"
     ]
    },
    {
     "name": "stdout",
     "output_type": "stream",
     "text": [
      "Dice:  0.8554, Loss:  0.1760\n",
      "Epoch 15 ---------------------\n",
      "Training Set -----\n"
     ]
    },
    {
     "name": "stderr",
     "output_type": "stream",
     "text": [
      "Avg. Loss: 0.0888, Avg. Accuracy: 0.9659, Avg. Dice: 0.9149: 100%|███████████████████| 519/519 [16:56<00:00,  1.96s/it]\n"
     ]
    },
    {
     "name": "stdout",
     "output_type": "stream",
     "text": [
      "Validation Set -----\n"
     ]
    },
    {
     "name": "stderr",
     "output_type": "stream",
     "text": [
      "Avg. Loss: 0.1752, Avg. Accuracy: 0.9451, Avg. Dice: 0.8732: 100%|█████████████████████| 65/65 [01:31<00:00,  1.41s/it]\n"
     ]
    },
    {
     "name": "stdout",
     "output_type": "stream",
     "text": [
      "Dice:  0.8732, Loss:  0.1752\n",
      "Epoch 16 ---------------------\n",
      "Training Set -----\n"
     ]
    },
    {
     "name": "stderr",
     "output_type": "stream",
     "text": [
      "Avg. Loss: 0.0803, Avg. Accuracy: 0.9687, Avg. Dice: 0.9208: 100%|███████████████████| 519/519 [16:55<00:00,  1.96s/it]\n"
     ]
    },
    {
     "name": "stdout",
     "output_type": "stream",
     "text": [
      "Validation Set -----\n"
     ]
    },
    {
     "name": "stderr",
     "output_type": "stream",
     "text": [
      "Avg. Loss: 0.1806, Avg. Accuracy: 0.9449, Avg. Dice: 0.8639: 100%|█████████████████████| 65/65 [01:30<00:00,  1.39s/it]\n"
     ]
    },
    {
     "name": "stdout",
     "output_type": "stream",
     "text": [
      "Dice:  0.8639, Loss:  0.1806\n",
      "Epoch 17 ---------------------\n",
      "Training Set -----\n"
     ]
    },
    {
     "name": "stderr",
     "output_type": "stream",
     "text": [
      "Avg. Loss: 0.0849, Avg. Accuracy: 0.9673, Avg. Dice: 0.9175: 100%|███████████████████| 519/519 [16:52<00:00,  1.95s/it]\n"
     ]
    },
    {
     "name": "stdout",
     "output_type": "stream",
     "text": [
      "Validation Set -----\n"
     ]
    },
    {
     "name": "stderr",
     "output_type": "stream",
     "text": [
      "Avg. Loss: 0.1881, Avg. Accuracy: 0.9345, Avg. Dice: 0.8425: 100%|█████████████████████| 65/65 [01:31<00:00,  1.41s/it]\n"
     ]
    },
    {
     "name": "stdout",
     "output_type": "stream",
     "text": [
      "Dice:  0.8425, Loss:  0.1881\n",
      "Epoch 18 ---------------------\n",
      "Training Set -----\n"
     ]
    },
    {
     "name": "stderr",
     "output_type": "stream",
     "text": [
      "Avg. Loss: 0.0762, Avg. Accuracy: 0.9704, Avg. Dice: 0.9236: 100%|███████████████████| 519/519 [16:54<00:00,  1.96s/it]\n"
     ]
    },
    {
     "name": "stdout",
     "output_type": "stream",
     "text": [
      "Validation Set -----\n"
     ]
    },
    {
     "name": "stderr",
     "output_type": "stream",
     "text": [
      "Avg. Loss: 0.1754, Avg. Accuracy: 0.9445, Avg. Dice: 0.8629: 100%|█████████████████████| 65/65 [01:31<00:00,  1.41s/it]\n"
     ]
    },
    {
     "name": "stdout",
     "output_type": "stream",
     "text": [
      "Dice:  0.8629, Loss:  0.1754\n",
      "Epoch 19 ---------------------\n",
      "Training Set -----\n"
     ]
    },
    {
     "name": "stderr",
     "output_type": "stream",
     "text": [
      "Avg. Loss: 0.0814, Avg. Accuracy: 0.9682, Avg. Dice: 0.9217: 100%|███████████████████| 519/519 [16:55<00:00,  1.96s/it]\n"
     ]
    },
    {
     "name": "stdout",
     "output_type": "stream",
     "text": [
      "Validation Set -----\n"
     ]
    },
    {
     "name": "stderr",
     "output_type": "stream",
     "text": [
      "Avg. Loss: 0.1673, Avg. Accuracy: 0.9473, Avg. Dice: 0.8696: 100%|█████████████████████| 65/65 [01:31<00:00,  1.40s/it]\n"
     ]
    },
    {
     "name": "stdout",
     "output_type": "stream",
     "text": [
      "Dice:  0.8696, Loss:  0.1673\n",
      "Epoch 20 ---------------------\n",
      "Training Set -----\n"
     ]
    },
    {
     "name": "stderr",
     "output_type": "stream",
     "text": [
      "Avg. Loss: 0.0703, Avg. Accuracy: 0.9726, Avg. Dice: 0.9305: 100%|███████████████████| 519/519 [16:53<00:00,  1.95s/it]\n"
     ]
    },
    {
     "name": "stdout",
     "output_type": "stream",
     "text": [
      "Validation Set -----\n"
     ]
    },
    {
     "name": "stderr",
     "output_type": "stream",
     "text": [
      "Avg. Loss: 0.1873, Avg. Accuracy: 0.9466, Avg. Dice: 0.8683: 100%|█████████████████████| 65/65 [01:30<00:00,  1.40s/it]\n"
     ]
    },
    {
     "name": "stdout",
     "output_type": "stream",
     "text": [
      "Dice:  0.8683, Loss:  0.1873\n",
      "Epoch 21 ---------------------\n",
      "Training Set -----\n"
     ]
    },
    {
     "name": "stderr",
     "output_type": "stream",
     "text": [
      "Avg. Loss: 0.0683, Avg. Accuracy: 0.9733, Avg. Dice: 0.9324: 100%|███████████████████| 519/519 [16:51<00:00,  1.95s/it]\n"
     ]
    },
    {
     "name": "stdout",
     "output_type": "stream",
     "text": [
      "Validation Set -----\n"
     ]
    },
    {
     "name": "stderr",
     "output_type": "stream",
     "text": [
      "Avg. Loss: 0.1814, Avg. Accuracy: 0.9473, Avg. Dice: 0.8619: 100%|█████████████████████| 65/65 [01:31<00:00,  1.40s/it]\n"
     ]
    },
    {
     "name": "stdout",
     "output_type": "stream",
     "text": [
      "Dice:  0.8619, Loss:  0.1814\n",
      "Epoch 22 ---------------------\n",
      "Training Set -----\n"
     ]
    },
    {
     "name": "stderr",
     "output_type": "stream",
     "text": [
      "Avg. Loss: 0.0612, Avg. Accuracy: 0.9760, Avg. Dice: 0.9393: 100%|███████████████████| 519/519 [16:54<00:00,  1.96s/it]\n"
     ]
    },
    {
     "name": "stdout",
     "output_type": "stream",
     "text": [
      "Validation Set -----\n"
     ]
    },
    {
     "name": "stderr",
     "output_type": "stream",
     "text": [
      "Avg. Loss: 0.1750, Avg. Accuracy: 0.9469, Avg. Dice: 0.8661: 100%|█████████████████████| 65/65 [01:31<00:00,  1.40s/it]\n"
     ]
    },
    {
     "name": "stdout",
     "output_type": "stream",
     "text": [
      "Dice:  0.8661, Loss:  0.1750\n",
      "Epoch 23 ---------------------\n",
      "Training Set -----\n"
     ]
    },
    {
     "name": "stderr",
     "output_type": "stream",
     "text": [
      "Avg. Loss: 0.0613, Avg. Accuracy: 0.9759, Avg. Dice: 0.9384: 100%|███████████████████| 519/519 [16:52<00:00,  1.95s/it]\n"
     ]
    },
    {
     "name": "stdout",
     "output_type": "stream",
     "text": [
      "Validation Set -----\n"
     ]
    },
    {
     "name": "stderr",
     "output_type": "stream",
     "text": [
      "Avg. Loss: 0.1939, Avg. Accuracy: 0.9467, Avg. Dice: 0.8738: 100%|█████████████████████| 65/65 [01:33<00:00,  1.44s/it]\n"
     ]
    },
    {
     "name": "stdout",
     "output_type": "stream",
     "text": [
      "Dice:  0.8738, Loss:  0.1939\n",
      "Epoch 24 ---------------------\n",
      "Training Set -----\n"
     ]
    },
    {
     "name": "stderr",
     "output_type": "stream",
     "text": [
      "Avg. Loss: 0.0633, Avg. Accuracy: 0.9749, Avg. Dice: 0.9355: 100%|███████████████████| 519/519 [16:55<00:00,  1.96s/it]\n"
     ]
    },
    {
     "name": "stdout",
     "output_type": "stream",
     "text": [
      "Validation Set -----\n"
     ]
    },
    {
     "name": "stderr",
     "output_type": "stream",
     "text": [
      "Avg. Loss: 0.1995, Avg. Accuracy: 0.9471, Avg. Dice: 0.8661: 100%|█████████████████████| 65/65 [01:31<00:00,  1.40s/it]\n"
     ]
    },
    {
     "name": "stdout",
     "output_type": "stream",
     "text": [
      "Dice:  0.8661, Loss:  0.1995\n",
      "Epoch 25 ---------------------\n",
      "Training Set -----\n"
     ]
    },
    {
     "name": "stderr",
     "output_type": "stream",
     "text": [
      "Avg. Loss: 0.0676, Avg. Accuracy: 0.9736, Avg. Dice: 0.9321: 100%|███████████████████| 519/519 [16:58<00:00,  1.96s/it]\n"
     ]
    },
    {
     "name": "stdout",
     "output_type": "stream",
     "text": [
      "Validation Set -----\n"
     ]
    },
    {
     "name": "stderr",
     "output_type": "stream",
     "text": [
      "Avg. Loss: 0.1791, Avg. Accuracy: 0.9465, Avg. Dice: 0.8575: 100%|█████████████████████| 65/65 [01:32<00:00,  1.42s/it]\n"
     ]
    },
    {
     "name": "stdout",
     "output_type": "stream",
     "text": [
      "Dice:  0.8575, Loss:  0.1791\n",
      "Epoch 26 ---------------------\n",
      "Training Set -----\n"
     ]
    },
    {
     "name": "stderr",
     "output_type": "stream",
     "text": [
      "Avg. Loss: 0.0657, Avg. Accuracy: 0.9741, Avg. Dice: 0.9336: 100%|███████████████████| 519/519 [16:53<00:00,  1.95s/it]\n"
     ]
    },
    {
     "name": "stdout",
     "output_type": "stream",
     "text": [
      "Validation Set -----\n"
     ]
    },
    {
     "name": "stderr",
     "output_type": "stream",
     "text": [
      "Avg. Loss: 0.1726, Avg. Accuracy: 0.9467, Avg. Dice: 0.8675: 100%|█████████████████████| 65/65 [01:31<00:00,  1.40s/it]\n"
     ]
    },
    {
     "name": "stdout",
     "output_type": "stream",
     "text": [
      "Dice:  0.8675, Loss:  0.1726\n",
      "Epoch 27 ---------------------\n",
      "Training Set -----\n"
     ]
    },
    {
     "name": "stderr",
     "output_type": "stream",
     "text": [
      "Avg. Loss: 0.0582, Avg. Accuracy: 0.9771, Avg. Dice: 0.9410: 100%|███████████████████| 519/519 [16:56<00:00,  1.96s/it]\n"
     ]
    },
    {
     "name": "stdout",
     "output_type": "stream",
     "text": [
      "Validation Set -----\n"
     ]
    },
    {
     "name": "stderr",
     "output_type": "stream",
     "text": [
      "Avg. Loss: 0.1933, Avg. Accuracy: 0.9448, Avg. Dice: 0.8576: 100%|█████████████████████| 65/65 [01:30<00:00,  1.40s/it]\n"
     ]
    },
    {
     "name": "stdout",
     "output_type": "stream",
     "text": [
      "Dice:  0.8576, Loss:  0.1933\n",
      "Epoch 28 ---------------------\n",
      "Training Set -----\n"
     ]
    },
    {
     "name": "stderr",
     "output_type": "stream",
     "text": [
      "Avg. Loss: 0.0561, Avg. Accuracy: 0.9776, Avg. Dice: 0.9440: 100%|███████████████████| 519/519 [16:53<00:00,  1.95s/it]\n"
     ]
    },
    {
     "name": "stdout",
     "output_type": "stream",
     "text": [
      "Validation Set -----\n"
     ]
    },
    {
     "name": "stderr",
     "output_type": "stream",
     "text": [
      "Avg. Loss: 0.1787, Avg. Accuracy: 0.9438, Avg. Dice: 0.8612: 100%|█████████████████████| 65/65 [01:32<00:00,  1.42s/it]\n"
     ]
    },
    {
     "name": "stdout",
     "output_type": "stream",
     "text": [
      "Dice:  0.8612, Loss:  0.1787\n",
      "Epoch 29 ---------------------\n",
      "Training Set -----\n"
     ]
    },
    {
     "name": "stderr",
     "output_type": "stream",
     "text": [
      "Avg. Loss: 0.0534, Avg. Accuracy: 0.9787, Avg. Dice: 0.9458: 100%|███████████████████| 519/519 [16:52<00:00,  1.95s/it]\n"
     ]
    },
    {
     "name": "stdout",
     "output_type": "stream",
     "text": [
      "Validation Set -----\n"
     ]
    },
    {
     "name": "stderr",
     "output_type": "stream",
     "text": [
      "Avg. Loss: 0.1992, Avg. Accuracy: 0.9459, Avg. Dice: 0.8560: 100%|█████████████████████| 65/65 [01:32<00:00,  1.42s/it]\n"
     ]
    },
    {
     "name": "stdout",
     "output_type": "stream",
     "text": [
      "Dice:  0.8560, Loss:  0.1992\n",
      "Epoch 30 ---------------------\n",
      "Training Set -----\n"
     ]
    },
    {
     "name": "stderr",
     "output_type": "stream",
     "text": [
      "Avg. Loss: 0.0526, Avg. Accuracy: 0.9792, Avg. Dice: 0.9476: 100%|███████████████████| 519/519 [16:50<00:00,  1.95s/it]\n"
     ]
    },
    {
     "name": "stdout",
     "output_type": "stream",
     "text": [
      "Validation Set -----\n"
     ]
    },
    {
     "name": "stderr",
     "output_type": "stream",
     "text": [
      "Avg. Loss: 0.2136, Avg. Accuracy: 0.9424, Avg. Dice: 0.8602: 100%|█████████████████████| 65/65 [01:32<00:00,  1.42s/it]"
     ]
    },
    {
     "name": "stdout",
     "output_type": "stream",
     "text": [
      "Dice:  0.8602, Loss:  0.2136\n",
      "Test Set -----\n"
     ]
    },
    {
     "name": "stderr",
     "output_type": "stream",
     "text": [
      "\n",
      "Validation Dataset: 100%|████████████████████████████████████████████████████████████| 259/259 [01:27<00:00,  2.98it/s]\n"
     ]
    },
    {
     "name": "stdout",
     "output_type": "stream",
     "text": [
      "0.16854038856779724\n"
     ]
    },
    {
     "name": "stderr",
     "output_type": "stream",
     "text": [
      "Test Dataset: 100%|██████████████████████████████████████████████████████████████████| 259/259 [01:23<00:00,  3.10it/s]\n"
     ]
    },
    {
     "name": "stdout",
     "output_type": "stream",
     "text": [
      "0.8767459968290348\n",
      "Run 5 ===========\n",
      "Epoch 1 ---------------------\n",
      "Training Set -----\n"
     ]
    },
    {
     "name": "stderr",
     "output_type": "stream",
     "text": [
      "Avg. Loss: 0.3191, Avg. Accuracy: 0.9121, Avg. Dice: 0.7824: 100%|███████████████████| 519/519 [16:59<00:00,  1.96s/it]\n"
     ]
    },
    {
     "name": "stdout",
     "output_type": "stream",
     "text": [
      "Validation Set -----\n"
     ]
    },
    {
     "name": "stderr",
     "output_type": "stream",
     "text": [
      "Avg. Loss: 0.2428, Avg. Accuracy: 0.9349, Avg. Dice: 0.8412: 100%|█████████████████████| 65/65 [01:32<00:00,  1.42s/it]\n"
     ]
    },
    {
     "name": "stdout",
     "output_type": "stream",
     "text": [
      "Dice:  0.8412, Loss:  0.2428\n",
      "Epoch 2 ---------------------\n",
      "Training Set -----\n"
     ]
    },
    {
     "name": "stderr",
     "output_type": "stream",
     "text": [
      "Avg. Loss: 0.2381, Avg. Accuracy: 0.9291, Avg. Dice: 0.8200: 100%|███████████████████| 519/519 [16:54<00:00,  1.95s/it]\n"
     ]
    },
    {
     "name": "stdout",
     "output_type": "stream",
     "text": [
      "Validation Set -----\n"
     ]
    },
    {
     "name": "stderr",
     "output_type": "stream",
     "text": [
      "Avg. Loss: 0.1883, Avg. Accuracy: 0.9389, Avg. Dice: 0.8403: 100%|█████████████████████| 65/65 [01:31<00:00,  1.41s/it]\n"
     ]
    },
    {
     "name": "stdout",
     "output_type": "stream",
     "text": [
      "Dice:  0.8403, Loss:  0.1883\n",
      "Epoch 3 ---------------------\n",
      "Training Set -----\n"
     ]
    },
    {
     "name": "stderr",
     "output_type": "stream",
     "text": [
      "Avg. Loss: 0.1946, Avg. Accuracy: 0.9394, Avg. Dice: 0.8452: 100%|███████████████████| 519/519 [16:55<00:00,  1.96s/it]\n"
     ]
    },
    {
     "name": "stdout",
     "output_type": "stream",
     "text": [
      "Validation Set -----\n"
     ]
    },
    {
     "name": "stderr",
     "output_type": "stream",
     "text": [
      "Avg. Loss: 0.2135, Avg. Accuracy: 0.9307, Avg. Dice: 0.8205: 100%|█████████████████████| 65/65 [01:32<00:00,  1.42s/it]\n"
     ]
    },
    {
     "name": "stdout",
     "output_type": "stream",
     "text": [
      "Dice:  0.8205, Loss:  0.2135\n",
      "Epoch 4 ---------------------\n",
      "Training Set -----\n"
     ]
    },
    {
     "name": "stderr",
     "output_type": "stream",
     "text": [
      "Avg. Loss: 0.1705, Avg. Accuracy: 0.9437, Avg. Dice: 0.8570: 100%|███████████████████| 519/519 [16:56<00:00,  1.96s/it]\n"
     ]
    },
    {
     "name": "stdout",
     "output_type": "stream",
     "text": [
      "Validation Set -----\n"
     ]
    },
    {
     "name": "stderr",
     "output_type": "stream",
     "text": [
      "Avg. Loss: 0.2166, Avg. Accuracy: 0.9172, Avg. Dice: 0.7765: 100%|█████████████████████| 65/65 [01:31<00:00,  1.41s/it]\n"
     ]
    },
    {
     "name": "stdout",
     "output_type": "stream",
     "text": [
      "Dice:  0.7765, Loss:  0.2166\n",
      "Epoch 5 ---------------------\n",
      "Training Set -----\n"
     ]
    },
    {
     "name": "stderr",
     "output_type": "stream",
     "text": [
      "Avg. Loss: 0.1590, Avg. Accuracy: 0.9463, Avg. Dice: 0.8621: 100%|███████████████████| 519/519 [16:59<00:00,  1.96s/it]\n"
     ]
    },
    {
     "name": "stdout",
     "output_type": "stream",
     "text": [
      "Validation Set -----\n"
     ]
    },
    {
     "name": "stderr",
     "output_type": "stream",
     "text": [
      "Avg. Loss: 0.1784, Avg. Accuracy: 0.9387, Avg. Dice: 0.8428: 100%|█████████████████████| 65/65 [01:31<00:00,  1.40s/it]\n"
     ]
    },
    {
     "name": "stdout",
     "output_type": "stream",
     "text": [
      "Dice:  0.8428, Loss:  0.1784\n",
      "Epoch 6 ---------------------\n",
      "Training Set -----\n"
     ]
    },
    {
     "name": "stderr",
     "output_type": "stream",
     "text": [
      "Avg. Loss: 0.1475, Avg. Accuracy: 0.9491, Avg. Dice: 0.8691: 100%|███████████████████| 519/519 [16:56<00:00,  1.96s/it]\n"
     ]
    },
    {
     "name": "stdout",
     "output_type": "stream",
     "text": [
      "Validation Set -----\n"
     ]
    },
    {
     "name": "stderr",
     "output_type": "stream",
     "text": [
      "Avg. Loss: 0.2314, Avg. Accuracy: 0.9174, Avg. Dice: 0.8048: 100%|█████████████████████| 65/65 [01:31<00:00,  1.41s/it]\n"
     ]
    },
    {
     "name": "stdout",
     "output_type": "stream",
     "text": [
      "Dice:  0.8048, Loss:  0.2314\n",
      "Epoch 7 ---------------------\n",
      "Training Set -----\n"
     ]
    },
    {
     "name": "stderr",
     "output_type": "stream",
     "text": [
      "Avg. Loss: 0.1330, Avg. Accuracy: 0.9538, Avg. Dice: 0.8810: 100%|███████████████████| 519/519 [16:55<00:00,  1.96s/it]\n"
     ]
    },
    {
     "name": "stdout",
     "output_type": "stream",
     "text": [
      "Validation Set -----\n"
     ]
    },
    {
     "name": "stderr",
     "output_type": "stream",
     "text": [
      "Avg. Loss: 0.1914, Avg. Accuracy: 0.9433, Avg. Dice: 0.8597: 100%|█████████████████████| 65/65 [01:32<00:00,  1.42s/it]\n"
     ]
    },
    {
     "name": "stdout",
     "output_type": "stream",
     "text": [
      "Dice:  0.8597, Loss:  0.1914\n",
      "Epoch 8 ---------------------\n",
      "Training Set -----\n"
     ]
    },
    {
     "name": "stderr",
     "output_type": "stream",
     "text": [
      "Avg. Loss: 0.1297, Avg. Accuracy: 0.9541, Avg. Dice: 0.8843: 100%|███████████████████| 519/519 [17:03<00:00,  1.97s/it]\n"
     ]
    },
    {
     "name": "stdout",
     "output_type": "stream",
     "text": [
      "Validation Set -----\n"
     ]
    },
    {
     "name": "stderr",
     "output_type": "stream",
     "text": [
      "Avg. Loss: 0.1769, Avg. Accuracy: 0.9384, Avg. Dice: 0.8458: 100%|█████████████████████| 65/65 [01:32<00:00,  1.42s/it]\n"
     ]
    },
    {
     "name": "stdout",
     "output_type": "stream",
     "text": [
      "Dice:  0.8458, Loss:  0.1769\n",
      "Epoch 9 ---------------------\n",
      "Training Set -----\n"
     ]
    },
    {
     "name": "stderr",
     "output_type": "stream",
     "text": [
      "Avg. Loss: 0.1197, Avg. Accuracy: 0.9571, Avg. Dice: 0.8912: 100%|███████████████████| 519/519 [16:52<00:00,  1.95s/it]\n"
     ]
    },
    {
     "name": "stdout",
     "output_type": "stream",
     "text": [
      "Validation Set -----\n"
     ]
    },
    {
     "name": "stderr",
     "output_type": "stream",
     "text": [
      "Avg. Loss: 0.1973, Avg. Accuracy: 0.9359, Avg. Dice: 0.8385: 100%|█████████████████████| 65/65 [01:31<00:00,  1.41s/it]\n"
     ]
    },
    {
     "name": "stdout",
     "output_type": "stream",
     "text": [
      "Dice:  0.8385, Loss:  0.1973\n",
      "Epoch 10 ---------------------\n",
      "Training Set -----\n"
     ]
    },
    {
     "name": "stderr",
     "output_type": "stream",
     "text": [
      "Avg. Loss: 0.1102, Avg. Accuracy: 0.9599, Avg. Dice: 0.8967: 100%|███████████████████| 519/519 [16:52<00:00,  1.95s/it]\n"
     ]
    },
    {
     "name": "stdout",
     "output_type": "stream",
     "text": [
      "Validation Set -----\n"
     ]
    },
    {
     "name": "stderr",
     "output_type": "stream",
     "text": [
      "Avg. Loss: 0.1729, Avg. Accuracy: 0.9441, Avg. Dice: 0.8600: 100%|█████████████████████| 65/65 [01:31<00:00,  1.41s/it]\n"
     ]
    },
    {
     "name": "stdout",
     "output_type": "stream",
     "text": [
      "Dice:  0.8600, Loss:  0.1729\n",
      "Epoch 11 ---------------------\n",
      "Training Set -----\n"
     ]
    },
    {
     "name": "stderr",
     "output_type": "stream",
     "text": [
      "Avg. Loss: 0.1045, Avg. Accuracy: 0.9611, Avg. Dice: 0.9013: 100%|███████████████████| 519/519 [16:57<00:00,  1.96s/it]\n"
     ]
    },
    {
     "name": "stdout",
     "output_type": "stream",
     "text": [
      "Validation Set -----\n"
     ]
    },
    {
     "name": "stderr",
     "output_type": "stream",
     "text": [
      "Avg. Loss: 0.2108, Avg. Accuracy: 0.9302, Avg. Dice: 0.8348: 100%|█████████████████████| 65/65 [01:31<00:00,  1.40s/it]\n"
     ]
    },
    {
     "name": "stdout",
     "output_type": "stream",
     "text": [
      "Dice:  0.8348, Loss:  0.2108\n",
      "Epoch 12 ---------------------\n",
      "Training Set -----\n"
     ]
    },
    {
     "name": "stderr",
     "output_type": "stream",
     "text": [
      "Avg. Loss: 0.0974, Avg. Accuracy: 0.9630, Avg. Dice: 0.9062: 100%|███████████████████| 519/519 [16:54<00:00,  1.95s/it]\n"
     ]
    },
    {
     "name": "stdout",
     "output_type": "stream",
     "text": [
      "Validation Set -----\n"
     ]
    },
    {
     "name": "stderr",
     "output_type": "stream",
     "text": [
      "Avg. Loss: 0.1669, Avg. Accuracy: 0.9434, Avg. Dice: 0.8650: 100%|█████████████████████| 65/65 [01:32<00:00,  1.42s/it]\n"
     ]
    },
    {
     "name": "stdout",
     "output_type": "stream",
     "text": [
      "Dice:  0.8650, Loss:  0.1669\n",
      "Epoch 13 ---------------------\n",
      "Training Set -----\n"
     ]
    },
    {
     "name": "stderr",
     "output_type": "stream",
     "text": [
      "Avg. Loss: 0.0978, Avg. Accuracy: 0.9631, Avg. Dice: 0.9042: 100%|███████████████████| 519/519 [16:54<00:00,  1.95s/it]\n"
     ]
    },
    {
     "name": "stdout",
     "output_type": "stream",
     "text": [
      "Validation Set -----\n"
     ]
    },
    {
     "name": "stderr",
     "output_type": "stream",
     "text": [
      "Avg. Loss: 0.1656, Avg. Accuracy: 0.9454, Avg. Dice: 0.8618: 100%|█████████████████████| 65/65 [01:32<00:00,  1.42s/it]\n"
     ]
    },
    {
     "name": "stdout",
     "output_type": "stream",
     "text": [
      "Dice:  0.8618, Loss:  0.1656\n",
      "Epoch 14 ---------------------\n",
      "Training Set -----\n"
     ]
    },
    {
     "name": "stderr",
     "output_type": "stream",
     "text": [
      "Avg. Loss: 0.0853, Avg. Accuracy: 0.9672, Avg. Dice: 0.9169: 100%|███████████████████| 519/519 [17:01<00:00,  1.97s/it]\n"
     ]
    },
    {
     "name": "stdout",
     "output_type": "stream",
     "text": [
      "Validation Set -----\n"
     ]
    },
    {
     "name": "stderr",
     "output_type": "stream",
     "text": [
      "Avg. Loss: 0.1876, Avg. Accuracy: 0.9434, Avg. Dice: 0.8630: 100%|█████████████████████| 65/65 [01:31<00:00,  1.40s/it]\n"
     ]
    },
    {
     "name": "stdout",
     "output_type": "stream",
     "text": [
      "Dice:  0.8630, Loss:  0.1876\n",
      "Epoch 15 ---------------------\n",
      "Training Set -----\n"
     ]
    },
    {
     "name": "stderr",
     "output_type": "stream",
     "text": [
      "Avg. Loss: 0.0842, Avg. Accuracy: 0.9684, Avg. Dice: 0.9192: 100%|███████████████████| 519/519 [17:01<00:00,  1.97s/it]\n"
     ]
    },
    {
     "name": "stdout",
     "output_type": "stream",
     "text": [
      "Validation Set -----\n"
     ]
    },
    {
     "name": "stderr",
     "output_type": "stream",
     "text": [
      "Avg. Loss: 0.1702, Avg. Accuracy: 0.9436, Avg. Dice: 0.8570: 100%|█████████████████████| 65/65 [01:31<00:00,  1.40s/it]\n"
     ]
    },
    {
     "name": "stdout",
     "output_type": "stream",
     "text": [
      "Dice:  0.8570, Loss:  0.1702\n",
      "Epoch 16 ---------------------\n",
      "Training Set -----\n"
     ]
    },
    {
     "name": "stderr",
     "output_type": "stream",
     "text": [
      "Avg. Loss: 0.0893, Avg. Accuracy: 0.9658, Avg. Dice: 0.9136: 100%|███████████████████| 519/519 [16:57<00:00,  1.96s/it]\n"
     ]
    },
    {
     "name": "stdout",
     "output_type": "stream",
     "text": [
      "Validation Set -----\n"
     ]
    },
    {
     "name": "stderr",
     "output_type": "stream",
     "text": [
      "Avg. Loss: 0.2085, Avg. Accuracy: 0.9410, Avg. Dice: 0.8522: 100%|█████████████████████| 65/65 [01:31<00:00,  1.41s/it]\n"
     ]
    },
    {
     "name": "stdout",
     "output_type": "stream",
     "text": [
      "Dice:  0.8522, Loss:  0.2085\n",
      "Epoch 17 ---------------------\n",
      "Training Set -----\n"
     ]
    },
    {
     "name": "stderr",
     "output_type": "stream",
     "text": [
      "Avg. Loss: 0.0842, Avg. Accuracy: 0.9677, Avg. Dice: 0.9171: 100%|███████████████████| 519/519 [16:53<00:00,  1.95s/it]\n"
     ]
    },
    {
     "name": "stdout",
     "output_type": "stream",
     "text": [
      "Validation Set -----\n"
     ]
    },
    {
     "name": "stderr",
     "output_type": "stream",
     "text": [
      "Avg. Loss: 0.1873, Avg. Accuracy: 0.9433, Avg. Dice: 0.8624: 100%|█████████████████████| 65/65 [01:31<00:00,  1.41s/it]\n"
     ]
    },
    {
     "name": "stdout",
     "output_type": "stream",
     "text": [
      "Dice:  0.8624, Loss:  0.1873\n",
      "Epoch 18 ---------------------\n",
      "Training Set -----\n"
     ]
    },
    {
     "name": "stderr",
     "output_type": "stream",
     "text": [
      "Avg. Loss: 0.0773, Avg. Accuracy: 0.9705, Avg. Dice: 0.9245: 100%|███████████████████| 519/519 [16:56<00:00,  1.96s/it]\n"
     ]
    },
    {
     "name": "stdout",
     "output_type": "stream",
     "text": [
      "Validation Set -----\n"
     ]
    },
    {
     "name": "stderr",
     "output_type": "stream",
     "text": [
      "Avg. Loss: 0.1829, Avg. Accuracy: 0.9449, Avg. Dice: 0.8657: 100%|█████████████████████| 65/65 [01:32<00:00,  1.42s/it]\n"
     ]
    },
    {
     "name": "stdout",
     "output_type": "stream",
     "text": [
      "Dice:  0.8657, Loss:  0.1829\n",
      "Epoch 19 ---------------------\n",
      "Training Set -----\n"
     ]
    },
    {
     "name": "stderr",
     "output_type": "stream",
     "text": [
      "Avg. Loss: 0.0867, Avg. Accuracy: 0.9663, Avg. Dice: 0.9147: 100%|███████████████████| 519/519 [17:05<00:00,  1.98s/it]\n"
     ]
    },
    {
     "name": "stdout",
     "output_type": "stream",
     "text": [
      "Validation Set -----\n"
     ]
    },
    {
     "name": "stderr",
     "output_type": "stream",
     "text": [
      "Avg. Loss: 0.1936, Avg. Accuracy: 0.9453, Avg. Dice: 0.8684: 100%|█████████████████████| 65/65 [01:32<00:00,  1.42s/it]\n"
     ]
    },
    {
     "name": "stdout",
     "output_type": "stream",
     "text": [
      "Dice:  0.8684, Loss:  0.1936\n",
      "Epoch 20 ---------------------\n",
      "Training Set -----\n"
     ]
    },
    {
     "name": "stderr",
     "output_type": "stream",
     "text": [
      "Avg. Loss: 0.0714, Avg. Accuracy: 0.9719, Avg. Dice: 0.9287: 100%|███████████████████| 519/519 [17:02<00:00,  1.97s/it]\n"
     ]
    },
    {
     "name": "stdout",
     "output_type": "stream",
     "text": [
      "Validation Set -----\n"
     ]
    },
    {
     "name": "stderr",
     "output_type": "stream",
     "text": [
      "Avg. Loss: 0.2131, Avg. Accuracy: 0.9412, Avg. Dice: 0.8486: 100%|█████████████████████| 65/65 [01:31<00:00,  1.40s/it]\n"
     ]
    },
    {
     "name": "stdout",
     "output_type": "stream",
     "text": [
      "Dice:  0.8486, Loss:  0.2131\n",
      "Epoch 21 ---------------------\n",
      "Training Set -----\n"
     ]
    },
    {
     "name": "stderr",
     "output_type": "stream",
     "text": [
      "Avg. Loss: 0.0719, Avg. Accuracy: 0.9720, Avg. Dice: 0.9276: 100%|███████████████████| 519/519 [16:56<00:00,  1.96s/it]\n"
     ]
    },
    {
     "name": "stdout",
     "output_type": "stream",
     "text": [
      "Validation Set -----\n"
     ]
    },
    {
     "name": "stderr",
     "output_type": "stream",
     "text": [
      "Avg. Loss: 0.2029, Avg. Accuracy: 0.9453, Avg. Dice: 0.8656: 100%|█████████████████████| 65/65 [01:31<00:00,  1.40s/it]\n"
     ]
    },
    {
     "name": "stdout",
     "output_type": "stream",
     "text": [
      "Dice:  0.8656, Loss:  0.2029\n",
      "Epoch 22 ---------------------\n",
      "Training Set -----\n"
     ]
    },
    {
     "name": "stderr",
     "output_type": "stream",
     "text": [
      "Avg. Loss: 0.0642, Avg. Accuracy: 0.9749, Avg. Dice: 0.9357: 100%|███████████████████| 519/519 [16:56<00:00,  1.96s/it]\n"
     ]
    },
    {
     "name": "stdout",
     "output_type": "stream",
     "text": [
      "Validation Set -----\n"
     ]
    },
    {
     "name": "stderr",
     "output_type": "stream",
     "text": [
      "Avg. Loss: 0.1890, Avg. Accuracy: 0.9453, Avg. Dice: 0.8676: 100%|█████████████████████| 65/65 [01:31<00:00,  1.41s/it]\n"
     ]
    },
    {
     "name": "stdout",
     "output_type": "stream",
     "text": [
      "Dice:  0.8676, Loss:  0.1890\n",
      "Epoch 23 ---------------------\n",
      "Training Set -----\n"
     ]
    },
    {
     "name": "stderr",
     "output_type": "stream",
     "text": [
      "Avg. Loss: 0.0746, Avg. Accuracy: 0.9714, Avg. Dice: 0.9280: 100%|███████████████████| 519/519 [16:56<00:00,  1.96s/it]\n"
     ]
    },
    {
     "name": "stdout",
     "output_type": "stream",
     "text": [
      "Validation Set -----\n"
     ]
    },
    {
     "name": "stderr",
     "output_type": "stream",
     "text": [
      "Avg. Loss: 0.1965, Avg. Accuracy: 0.9464, Avg. Dice: 0.8661: 100%|█████████████████████| 65/65 [01:32<00:00,  1.42s/it]\n"
     ]
    },
    {
     "name": "stdout",
     "output_type": "stream",
     "text": [
      "Dice:  0.8661, Loss:  0.1965\n",
      "Epoch 24 ---------------------\n",
      "Training Set -----\n"
     ]
    },
    {
     "name": "stderr",
     "output_type": "stream",
     "text": [
      "Avg. Loss: 0.0662, Avg. Accuracy: 0.9741, Avg. Dice: 0.9348: 100%|███████████████████| 519/519 [16:54<00:00,  1.95s/it]\n"
     ]
    },
    {
     "name": "stdout",
     "output_type": "stream",
     "text": [
      "Validation Set -----\n"
     ]
    },
    {
     "name": "stderr",
     "output_type": "stream",
     "text": [
      "Avg. Loss: 0.1853, Avg. Accuracy: 0.9408, Avg. Dice: 0.8622: 100%|█████████████████████| 65/65 [01:31<00:00,  1.41s/it]\n"
     ]
    },
    {
     "name": "stdout",
     "output_type": "stream",
     "text": [
      "Dice:  0.8622, Loss:  0.1853\n",
      "Epoch 25 ---------------------\n",
      "Training Set -----\n"
     ]
    },
    {
     "name": "stderr",
     "output_type": "stream",
     "text": [
      "Avg. Loss: 0.0644, Avg. Accuracy: 0.9747, Avg. Dice: 0.9358: 100%|███████████████████| 519/519 [17:00<00:00,  1.97s/it]\n"
     ]
    },
    {
     "name": "stdout",
     "output_type": "stream",
     "text": [
      "Validation Set -----\n"
     ]
    },
    {
     "name": "stderr",
     "output_type": "stream",
     "text": [
      "Avg. Loss: 0.1947, Avg. Accuracy: 0.9452, Avg. Dice: 0.8658: 100%|█████████████████████| 65/65 [01:30<00:00,  1.40s/it]\n"
     ]
    },
    {
     "name": "stdout",
     "output_type": "stream",
     "text": [
      "Dice:  0.8658, Loss:  0.1947\n",
      "Epoch 26 ---------------------\n",
      "Training Set -----\n"
     ]
    },
    {
     "name": "stderr",
     "output_type": "stream",
     "text": [
      "Avg. Loss: 0.0598, Avg. Accuracy: 0.9764, Avg. Dice: 0.9396: 100%|███████████████████| 519/519 [17:00<00:00,  1.97s/it]\n"
     ]
    },
    {
     "name": "stdout",
     "output_type": "stream",
     "text": [
      "Validation Set -----\n"
     ]
    },
    {
     "name": "stderr",
     "output_type": "stream",
     "text": [
      "Avg. Loss: 0.1849, Avg. Accuracy: 0.9448, Avg. Dice: 0.8713: 100%|█████████████████████| 65/65 [01:31<00:00,  1.41s/it]\n"
     ]
    },
    {
     "name": "stdout",
     "output_type": "stream",
     "text": [
      "Dice:  0.8713, Loss:  0.1849\n",
      "Epoch 27 ---------------------\n",
      "Training Set -----\n"
     ]
    },
    {
     "name": "stderr",
     "output_type": "stream",
     "text": [
      "Avg. Loss: 0.0561, Avg. Accuracy: 0.9777, Avg. Dice: 0.9431: 100%|███████████████████| 519/519 [16:59<00:00,  1.96s/it]\n"
     ]
    },
    {
     "name": "stdout",
     "output_type": "stream",
     "text": [
      "Validation Set -----\n"
     ]
    },
    {
     "name": "stderr",
     "output_type": "stream",
     "text": [
      "Avg. Loss: 0.2276, Avg. Accuracy: 0.9434, Avg. Dice: 0.8650: 100%|█████████████████████| 65/65 [01:31<00:00,  1.42s/it]\n"
     ]
    },
    {
     "name": "stdout",
     "output_type": "stream",
     "text": [
      "Dice:  0.8650, Loss:  0.2276\n",
      "Epoch 28 ---------------------\n",
      "Training Set -----\n"
     ]
    },
    {
     "name": "stderr",
     "output_type": "stream",
     "text": [
      "Avg. Loss: 0.0596, Avg. Accuracy: 0.9764, Avg. Dice: 0.9398: 100%|███████████████████| 519/519 [17:01<00:00,  1.97s/it]\n"
     ]
    },
    {
     "name": "stdout",
     "output_type": "stream",
     "text": [
      "Validation Set -----\n"
     ]
    },
    {
     "name": "stderr",
     "output_type": "stream",
     "text": [
      "Avg. Loss: 0.2540, Avg. Accuracy: 0.9369, Avg. Dice: 0.8331: 100%|█████████████████████| 65/65 [01:31<00:00,  1.42s/it]\n"
     ]
    },
    {
     "name": "stdout",
     "output_type": "stream",
     "text": [
      "Dice:  0.8331, Loss:  0.2540\n",
      "Epoch 29 ---------------------\n",
      "Training Set -----\n"
     ]
    },
    {
     "name": "stderr",
     "output_type": "stream",
     "text": [
      "Avg. Loss: 0.0563, Avg. Accuracy: 0.9776, Avg. Dice: 0.9430: 100%|███████████████████| 519/519 [17:06<00:00,  1.98s/it]\n"
     ]
    },
    {
     "name": "stdout",
     "output_type": "stream",
     "text": [
      "Validation Set -----\n"
     ]
    },
    {
     "name": "stderr",
     "output_type": "stream",
     "text": [
      "Avg. Loss: 0.2071, Avg. Accuracy: 0.9469, Avg. Dice: 0.8727: 100%|█████████████████████| 65/65 [01:32<00:00,  1.42s/it]\n"
     ]
    },
    {
     "name": "stdout",
     "output_type": "stream",
     "text": [
      "Dice:  0.8727, Loss:  0.2071\n",
      "Epoch 30 ---------------------\n",
      "Training Set -----\n"
     ]
    },
    {
     "name": "stderr",
     "output_type": "stream",
     "text": [
      "Avg. Loss: 0.0525, Avg. Accuracy: 0.9791, Avg. Dice: 0.9469: 100%|███████████████████| 519/519 [16:58<00:00,  1.96s/it]\n"
     ]
    },
    {
     "name": "stdout",
     "output_type": "stream",
     "text": [
      "Validation Set -----\n"
     ]
    },
    {
     "name": "stderr",
     "output_type": "stream",
     "text": [
      "Avg. Loss: 0.2315, Avg. Accuracy: 0.9429, Avg. Dice: 0.8523: 100%|█████████████████████| 65/65 [01:31<00:00,  1.41s/it]\n"
     ]
    },
    {
     "name": "stdout",
     "output_type": "stream",
     "text": [
      "Dice:  0.8523, Loss:  0.2315\n",
      "Test Set -----\n"
     ]
    },
    {
     "name": "stderr",
     "output_type": "stream",
     "text": [
      "Validation Dataset: 100%|████████████████████████████████████████████████████████████| 259/259 [01:26<00:00,  2.99it/s]\n"
     ]
    },
    {
     "name": "stdout",
     "output_type": "stream",
     "text": [
      "0.1598851496285095\n"
     ]
    },
    {
     "name": "stderr",
     "output_type": "stream",
     "text": [
      "Test Dataset: 100%|██████████████████████████████████████████████████████████████████| 259/259 [01:24<00:00,  3.08it/s]"
     ]
    },
    {
     "name": "stdout",
     "output_type": "stream",
     "text": [
      "0.8779404137439657\n",
      "FINAL RESULTS:\n",
      "POLAR=0.8777+/-0.0012\n",
      "POLAR=0.1688+/-0.0052\n"
     ]
    },
    {
     "name": "stderr",
     "output_type": "stream",
     "text": [
      "\n"
     ]
    }
   ],
   "source": [
    "results_pol = []\n",
    "results = []\n",
    "model_name = 'Cart-FocalLoss'\n",
    "for iter in range(1,6):\n",
    "    print(f'Run {iter} ===========')\n",
    "    net = DuAT(dim=32, optimizer=torch.optim.AdamW, learning_rate=1e-4, weight_decay=3e-4, loss_fn=FocalLoss(1))\n",
    "    maxdice = 0.\n",
    "    \n",
    "    for t in range(30):\n",
    "        torch.cuda.empty_cache()\n",
    "        print(f\"Epoch {t+1} ---------------------\")\n",
    "        print(f\"Training Set -----\")\n",
    "        train_loss, _ = train(net)\n",
    "        print(f\"Validation Set -----\")\n",
    "        test_loss, dice = test(net)\n",
    "        print(f\"\\rDice: {dice: .4f}, Loss: {test_loss : .4f}\")\n",
    "        if dice > maxdice:\n",
    "            maxdice = dice\n",
    "            torch.save(net, f'FinalModels/{model_name}-{iter}.pth')\n",
    "            \n",
    "    print(f\"Test Set -----\")\n",
    "    net = torch.load(f'FinalModels/{model_name}-{iter}.pth')\n",
    "    output(net)\n",
    "    raw_output(net)\n",
    "\n",
    "print('FINAL RESULTS:')\n",
    "print(f'CARTESIAN={np.mean(np.array(results_pol)):.4f}+/-{np.std(np.array(results_pol)):.4f}')"
   ]
  }
 ],
 "metadata": {
  "kernelspec": {
   "display_name": "Python 3 (ipykernel)",
   "language": "python",
   "name": "python3"
  },
  "language_info": {
   "codemirror_mode": {
    "name": "ipython",
    "version": 3
   },
   "file_extension": ".py",
   "mimetype": "text/x-python",
   "name": "python",
   "nbconvert_exporter": "python",
   "pygments_lexer": "ipython3",
   "version": "3.12.3"
  }
 },
 "nbformat": 4,
 "nbformat_minor": 5
}
